{
 "cells": [
  {
   "cell_type": "code",
   "execution_count": 1,
   "metadata": {},
   "outputs": [],
   "source": [
    "import ctypes \n",
    "import subprocess\n",
    "import numpy as np\n"
   ]
  },
  {
   "cell_type": "code",
   "execution_count": 2,
   "metadata": {},
   "outputs": [],
   "source": [
    "env_path = 'r:/Projects/trunk/LockOnExe/bin/x86_64/vc143.debug-mt/dcs.exe'\n",
    "path = 'r:/Projects/trunk/LockOnExe/bin/x86_64/vc143.debug-mt/RLConnector.dll'"
   ]
  },
  {
   "cell_type": "code",
   "execution_count": 3,
   "metadata": {},
   "outputs": [
    {
     "data": {
      "text/plain": [
       "<Popen: returncode: None args: ['r:/Projects/trunk/LockOnExe/bin/x86_64/vc14...>"
      ]
     },
     "execution_count": 3,
     "metadata": {},
     "output_type": "execute_result"
    }
   ],
   "source": [
    "subprocess.Popen([env_path, \"-dofile\", \"tank.miz\"])"
   ]
  },
  {
   "cell_type": "code",
   "execution_count": 4,
   "metadata": {},
   "outputs": [],
   "source": [
    "# Загрузка библиотеки\n",
    "RLConnector = ctypes.CDLL(path)\n"
   ]
  },
  {
   "cell_type": "code",
   "execution_count": 5,
   "metadata": {},
   "outputs": [],
   "source": [
    "class C_RLState(ctypes.Structure):\n",
    "    _fields_ = [('pos_x', ctypes.c_double),\n",
    "                    ('pos_y', ctypes.c_double),\n",
    "                    ('pos_z', ctypes.c_double),\n",
    "                    ('v_x', ctypes.c_double),\n",
    "                    ('v_y', ctypes.c_double),\n",
    "                    ('v_z', ctypes.c_double),\n",
    "                    ('course', ctypes.c_double)]\n",
    "    \n",
    "    def to_numpy(self):\n",
    "        return np.array([self.pos_x, self.pos_z, self.v_x, self.v_z, self.course, 0])\n",
    "          \n",
    "class C_RLAction(ctypes.Structure):\n",
    "    _fields_ = [\n",
    "        ('speed', ctypes.c_float),\n",
    "        ('dir_move', ctypes.c_float),\n",
    "        ('dir_view', ctypes.c_float),\n",
    "        ('is_move_to_view', ctypes.c_int),\n",
    "        ('state', ctypes.c_int),\n",
    "        ('action', ctypes.c_int),\n",
    "    ]\n",
    "\n",
    "    def from_numpy(self, array):\n",
    "        self.is_move_to_view = 1 #int(array[0])\n",
    "        self.dir_move = float(array[1])\n",
    "        self.dir_view = float(array[2])\n",
    "        self.speed = float(array[3])\n",
    "        self.state = 0 #int(array[4])\n",
    "        self.action = 0 #int(array[4])\n",
    "\n",
    "    def to_numpy(self):\n",
    "        return np.array([self.is_move_to_view, self.dir_move, self.dir_view, self.speed, self.state, self.action])"
   ]
  },
  {
   "cell_type": "code",
   "execution_count": 6,
   "metadata": {},
   "outputs": [],
   "source": [
    "RLConnector.reward.restype = ctypes.c_float\n",
    "\n",
    "RLConnector.agents_count.restype = ctypes.c_int\n",
    "\n",
    "RLConnector.agent_id.restype = ctypes.c_int\n",
    "RLConnector.agent_id.argtypes = [ctypes.c_int,]\n",
    "\n",
    "RLConnector.current_state.restype = C_RLState\n",
    "\n",
    "RLConnector.is_ready_to_start.restype = ctypes.c_bool\n",
    "\n",
    "RLConnector.set_action.argtypes = [ctypes.c_int, C_RLAction,]"
   ]
  },
  {
   "cell_type": "code",
   "execution_count": 14,
   "metadata": {},
   "outputs": [
    {
     "data": {
      "text/plain": [
       "True"
      ]
     },
     "execution_count": 14,
     "metadata": {},
     "output_type": "execute_result"
    }
   ],
   "source": [
    "RLConnector.is_ready_to_start()"
   ]
  },
  {
   "cell_type": "code",
   "execution_count": 8,
   "metadata": {},
   "outputs": [
    {
     "data": {
      "text/plain": [
       "array([ 1.        , -0.89999998, -0.89999998,  1.        ,  0.        ,\n",
       "        0.        ])"
      ]
     },
     "execution_count": 8,
     "metadata": {},
     "output_type": "execute_result"
    }
   ],
   "source": [
    "action_to = C_RLAction()\n",
    "action_to.from_numpy([1., -0.9, -0.9, 1, 0., 0.])\n",
    "action_to.to_numpy()"
   ]
  },
  {
   "cell_type": "code",
   "execution_count": 11,
   "metadata": {},
   "outputs": [
    {
     "data": {
      "text/plain": [
       "-1900806136"
      ]
     },
     "execution_count": 11,
     "metadata": {},
     "output_type": "execute_result"
    }
   ],
   "source": [
    "RLConnector.set_action(0, action_to)"
   ]
  },
  {
   "cell_type": "code",
   "execution_count": 7,
   "metadata": {},
   "outputs": [],
   "source": [
    "res = RLConnector.current_state()"
   ]
  },
  {
   "cell_type": "code",
   "execution_count": 8,
   "metadata": {},
   "outputs": [
    {
     "data": {
      "text/plain": [
       "array([0., 0., 0., 0., 0., 0.])"
      ]
     },
     "execution_count": 8,
     "metadata": {},
     "output_type": "execute_result"
    }
   ],
   "source": [
    "res.to_numpy()"
   ]
  },
  {
   "cell_type": "code",
   "execution_count": 9,
   "metadata": {},
   "outputs": [
    {
     "data": {
      "text/plain": [
       "0"
      ]
     },
     "execution_count": 9,
     "metadata": {},
     "output_type": "execute_result"
    }
   ],
   "source": [
    "RLConnector.agents_count()"
   ]
  },
  {
   "cell_type": "code",
   "execution_count": 10,
   "metadata": {},
   "outputs": [
    {
     "data": {
      "text/plain": [
       "-1"
      ]
     },
     "execution_count": 10,
     "metadata": {},
     "output_type": "execute_result"
    }
   ],
   "source": [
    "RLConnector.agent_id(0)"
   ]
  },
  {
   "cell_type": "code",
   "execution_count": 11,
   "metadata": {},
   "outputs": [
    {
     "data": {
      "text/plain": [
       "0"
      ]
     },
     "execution_count": 11,
     "metadata": {},
     "output_type": "execute_result"
    }
   ],
   "source": [
    "RLConnector.set_pause()"
   ]
  },
  {
   "cell_type": "code",
   "execution_count": 10,
   "metadata": {},
   "outputs": [
    {
     "data": {
      "text/plain": [
       "0"
      ]
     },
     "execution_count": 10,
     "metadata": {},
     "output_type": "execute_result"
    }
   ],
   "source": [
    "RLConnector.set_start()"
   ]
  },
  {
   "cell_type": "code",
   "execution_count": 12,
   "metadata": {},
   "outputs": [
    {
     "data": {
      "text/plain": [
       "0"
      ]
     },
     "execution_count": 12,
     "metadata": {},
     "output_type": "execute_result"
    }
   ],
   "source": [
    "RLConnector.set_restart()"
   ]
  },
  {
   "cell_type": "code",
   "execution_count": 5,
   "metadata": {},
   "outputs": [
    {
     "ename": "NameError",
     "evalue": "name 'RLConnector' is not defined",
     "output_type": "error",
     "traceback": [
      "\u001b[1;31m---------------------------------------------------------------------------\u001b[0m",
      "\u001b[1;31mNameError\u001b[0m                                 Traceback (most recent call last)",
      "Cell \u001b[1;32mIn[5], line 1\u001b[0m\n\u001b[1;32m----> 1\u001b[0m \u001b[38;5;28;01mdel\u001b[39;00m \u001b[43mRLConnector\u001b[49m\n",
      "\u001b[1;31mNameError\u001b[0m: name 'RLConnector' is not defined"
     ]
    }
   ],
   "source": [
    "del RLConnector"
   ]
  },
  {
   "cell_type": "code",
   "execution_count": 7,
   "metadata": {},
   "outputs": [
    {
     "data": {
      "text/plain": [
       "140735128535040"
      ]
     },
     "execution_count": 7,
     "metadata": {},
     "output_type": "execute_result"
    }
   ],
   "source": [
    "RLConnector._handle"
   ]
  },
  {
   "cell_type": "code",
   "execution_count": 12,
   "metadata": {},
   "outputs": [
    {
     "data": {
      "text/plain": [
       "1935147008"
      ]
     },
     "execution_count": 12,
     "metadata": {},
     "output_type": "execute_result"
    }
   ],
   "source": [
    "dll_handle = ctypes.windll.kernel32.LoadLibraryW(path)\n",
    "dll_handle"
   ]
  },
  {
   "cell_type": "code",
   "execution_count": 13,
   "metadata": {},
   "outputs": [
    {
     "data": {
      "text/plain": [
       "0"
      ]
     },
     "execution_count": 13,
     "metadata": {},
     "output_type": "execute_result"
    }
   ],
   "source": [
    "ctypes.windll.kernel32.FreeLibrary(dll_handle)"
   ]
  },
  {
   "cell_type": "code",
   "execution_count": 3,
   "metadata": {},
   "outputs": [
    {
     "data": {
      "text/plain": [
       "True"
      ]
     },
     "execution_count": 3,
     "metadata": {},
     "output_type": "execute_result"
    }
   ],
   "source": [
    "def is_dll_loaded(dll_name):\n",
    "    try:\n",
    "        ctypes.WinDLL(dll_name)\n",
    "        return True\n",
    "    except OSError:\n",
    "        return False\n",
    "\n",
    "\n",
    "dll_loaded = is_dll_loaded(path)\n",
    "dll_loaded"
   ]
  }
 ],
 "metadata": {
  "kernelspec": {
   "display_name": "rl_conda_311",
   "language": "python",
   "name": "python3"
  },
  "language_info": {
   "codemirror_mode": {
    "name": "ipython",
    "version": 3
   },
   "file_extension": ".py",
   "mimetype": "text/x-python",
   "name": "python",
   "nbconvert_exporter": "python",
   "pygments_lexer": "ipython3",
   "version": "3.11.8"
  }
 },
 "nbformat": 4,
 "nbformat_minor": 2
}
