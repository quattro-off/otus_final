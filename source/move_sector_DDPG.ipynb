{
 "cells": [
  {
   "cell_type": "code",
   "execution_count": 1,
   "metadata": {},
   "outputs": [],
   "source": [
    "import torch\n",
    "import numpy as np\n",
    "from stable_baselines3 import DDPG\n",
    "\n",
    "\n",
    "import os, shutil, sys\n",
    "sys.path.append(os.path.abspath('./env'))\n",
    "sys.path.append(os.path.abspath('./common'))\n",
    "\n",
    "from env.env_move_sector  import HumanMoveSectorAction\n",
    "import common.mlflow_sb3_helper as mlf\n",
    "\n",
    "from pytz import timezone\n",
    "from datetime import datetime\n",
    "\n",
    "TZ = timezone('Europe/Moscow')\n",
    "device = \"cuda\" if torch.cuda.is_available() else \"cpu\""
   ]
  },
  {
   "cell_type": "code",
   "execution_count": 2,
   "metadata": {},
   "outputs": [],
   "source": [
    "exp_params = {\n",
    "    'env_name': '',\n",
    "    'algorithm_name': '',\n",
    "    'exp_id': 0,\n",
    "    'exp_name': f'exp_{datetime.now(TZ).strftime(\"%d%m_%H%M%S\")}',\n",
    "    'seed': 21,\n",
    "    'net': {\n",
    "        'activation': 'ReLU',\n",
    "        'pi': [256, 256],\n",
    "        'qf': [256, 256],\n",
    "        'vf': [256, 256],\n",
    "    },\n",
    "    'training': {\n",
    "        'iteration_count': 1,\n",
    "        'episode_count': 39000,\n",
    "        'policy': 'MlpPolicy',\n",
    "        'learning_rate': 0.003,\n",
    "        'buffer_size': 1500000,\n",
    "        'learning_starts': 100,\n",
    "        'batch_size': 1024,\n",
    "        'tau': 0.005,\n",
    "        'gamma': 0.99,\n",
    "        'verbose': 0,\n",
    "        'device': device,\n",
    "    },\n",
    "    'options':{\n",
    "        'finish_dist':100,\n",
    "        'start_dist':110,\n",
    "        'delta_phi':0\n",
    "    },\n",
    "    'validation': {\n",
    "        'validate_agent_every_n_eps': 10000,\n",
    "        'log_interval': 10\n",
    "    },\n",
    "    'evaluation': {\n",
    "        'episode_count': 3\n",
    "    }\n",
    "}\n",
    "\n",
    "\n",
    "option_var ={\n",
    "    'DDPG 100_0':{'finish_dist':100, 'start_dist':110, 'delta_phi':0 },\n",
    "    'DDPG 80_0':{'finish_dist':80, 'start_dist':110, 'delta_phi':0 },\n",
    "    #'DDPG 80_20':{'finish_dist':80, 'start_dist':110, 'delta_phi':20 },\n",
    "    'DDPG 80_45':{'finish_dist':80, 'start_dist':110, 'delta_phi':45 },\n",
    "    'DDPG 80_90':{'finish_dist':80, 'start_dist':110, 'delta_phi':90 },\n",
    "    'DDPG 80_135':{'finish_dist':80, 'start_dist':110, 'delta_phi':135 },\n",
    "    'DDPG 80_180':{'finish_dist':80, 'start_dist':110, 'delta_phi':180 },\n",
    "    'DDPG 60_180':{'finish_dist':60, 'start_dist':110, 'delta_phi':180 },\n",
    "    'DDPG 40_180':{'finish_dist':40, 'start_dist':110, 'delta_phi':180 },\n",
    "    'DDPG 20_180':{'finish_dist':20, 'start_dist':110, 'delta_phi':180 },\n",
    "    'DDPG 10_180':{'finish_dist':10, 'start_dist':110, 'delta_phi':180 },\n",
    "}\n",
    "\n",
    "option_var2 ={\n",
    "    'DDPG 5_110_180':{'finish_dist':5, 'start_dist':110, 'delta_phi':180 },\n",
    "    'DDPG 5_120_180':{'finish_dist':5, 'start_dist':120, 'delta_phi':180 },\n",
    "    'DDPG 5_130_180':{'finish_dist':5, 'start_dist':130, 'delta_phi':180 },\n",
    "    'DDPG 5_140_180':{'finish_dist':5, 'start_dist':140, 'delta_phi':180 },\n",
    "    'DDPG 5_150_180':{'finish_dist':5, 'start_dist':150, 'delta_phi':180 },\n",
    "    'DDPG 5_160_180':{'finish_dist':5, 'start_dist':160, 'delta_phi':180 },\n",
    "    'DDPG 5_170_180':{'finish_dist':5, 'start_dist':170, 'delta_phi':180 },\n",
    "    'DDPG 5_180_180':{'finish_dist':5, 'start_dist':180, 'delta_phi':180 },\n",
    "    'DDPG 5_190_180':{'finish_dist':5, 'start_dist':190, 'delta_phi':180 },\n",
    "    'DDPG 5_200_180':{'finish_dist':5, 'start_dist':200, 'delta_phi':180 },\n",
    "}"
   ]
  },
  {
   "cell_type": "code",
   "execution_count": 4,
   "metadata": {},
   "outputs": [],
   "source": [
    "options=exp_params['options']\n",
    "#options=None\n",
    "\n",
    "env = HumanMoveSectorAction(continuous=True, target_point_rand=False, object_ignore=True, options=options)\n",
    "env_render = HumanMoveSectorAction(continuous=True, target_point_rand=False, object_ignore=True, render_mode='rgb_array', options=options)\n"
   ]
  },
  {
   "cell_type": "code",
   "execution_count": 3,
   "metadata": {},
   "outputs": [],
   "source": [
    "\n",
    "mlflow_server = mlf.MLflowServerHelper(\"http://192.168.0.206:2670\", False)\n",
    "mlflow_path = {}"
   ]
  },
  {
   "cell_type": "code",
   "execution_count": null,
   "metadata": {},
   "outputs": [],
   "source": [
    "#!!!!! Новый эксперимент\n",
    "exp_params['env_name'] = env.name()\n",
    "exp_name = 'env_' + exp_params['env_name'] + '_' + exp_params['exp_name']\n",
    "experiment_id = mlflow_server.new_experiment(exp_name)\n"
   ]
  },
  {
   "cell_type": "code",
   "execution_count": null,
   "metadata": {},
   "outputs": [],
   "source": [
    "#!!!!! Дорасчет старого эксперимента\n",
    "experiment_id = 297\n",
    "exp_name = mlflow_server.get_experiment(experiment_id)\n",
    "\n",
    "print(exp_name)"
   ]
  },
  {
   "cell_type": "code",
   "execution_count": null,
   "metadata": {},
   "outputs": [],
   "source": [
    "exp_params['exp_id'] = experiment_id\n",
    "\n",
    "b_first = True\n",
    "model = None\n",
    "\n",
    "for name, option in option_var.items():\n",
    "\n",
    "\n",
    "    print(name)\n",
    "\n",
    "    exp_params['env_name'] = env.name()\n",
    "    exp_params['algorithm_name'] = name\n",
    "    exp_params['seed'] = int(datetime.now(TZ).strftime(\"%H%M%S\"))\n",
    "    exp_params['options'] = option\n",
    "\n",
    "\n",
    "    env.set_options(option)\n",
    "    env_render.set_options(option)\n",
    "\n",
    "    if b_first == True:\n",
    "        b_first = False\n",
    "        model = DDPG.load('./teached/sector_move_DDPG.zip', env=env, device=device)\n",
    "        #model = DDPG(  exp_params['training']['policy'], \n",
    "        #            env,\n",
    "        #            #policy_kwargs=policy_kwargs,\n",
    "        #            learning_rate=exp_params['training']['learning_rate'],\n",
    "        #            buffer_size=exp_params['training']['buffer_size'],\n",
    "        #            learning_starts=exp_params['training']['learning_starts'],\n",
    "        #            batch_size=exp_params['training']['batch_size'],\n",
    "        #            tau=exp_params['training']['tau'],\n",
    "        #            gamma=exp_params['training']['gamma'],\n",
    "        #            verbose=exp_params['training']['verbose'],\n",
    "        #            device=device,\n",
    "        #            )\n",
    "    else:\n",
    "        print(exp_name)\n",
    "        model = DDPG.load(f'{exp_name}/model.zip', env=env, device=device)\n",
    "\n",
    "\n",
    "    art_loc, exp_name, run_id = mlflow_server.learn_and_fix(\n",
    "                                model=model, \n",
    "                                env= env_render,\n",
    "                                run_name=name,\n",
    "                                episode_count = exp_params['training']['episode_count'],\n",
    "                                parameters=exp_params,\n",
    "                                experiment_id=experiment_id,\n",
    "                                checkpoint_interval=exp_params['validation']['validate_agent_every_n_eps'],\n",
    "                                log_interval=exp_params['validation']['log_interval'])\n",
    "\n",
    "    mlflow_path[name] = f'{art_loc}/{run_id}/artifacts/{exp_name}/sb3/model.zip'\n",
    "\n",
    "\n"
   ]
  },
  {
   "cell_type": "code",
   "execution_count": null,
   "metadata": {},
   "outputs": [],
   "source": [
    "exp_params['exp_id'] = experiment_id\n",
    "exp_params['algorithm_name'] = 'DDPG'\n",
    "\n",
    "b_first = True\n",
    "model = None\n",
    "\n",
    "for i in range(exp_params['evaluation']['episode_count']):\n",
    "\n",
    "    exp_params['env_name'] = env.name()\n",
    "    exp_params['seed'] = int(datetime.now(TZ).strftime(\"%H%M%S\"))\n",
    "\n",
    "\n",
    "    if b_first == True:\n",
    "        b_first = False\n",
    "        model = DDPG.load('./teached/sector_move_DDPG.zip', env=env, device=device)\n",
    "        #model = DDPG(  exp_params['training']['policy'], \n",
    "        #            env,\n",
    "        #            #policy_kwargs=policy_kwargs,\n",
    "        #            learning_rate=exp_params['training']['learning_rate'],\n",
    "        #            buffer_size=exp_params['training']['buffer_size'],\n",
    "        #            learning_starts=exp_params['training']['learning_starts'],\n",
    "        #            batch_size=exp_params['training']['batch_size'],\n",
    "        #            tau=exp_params['training']['tau'],\n",
    "        #            gamma=exp_params['training']['gamma'],\n",
    "        #            verbose=exp_params['training']['verbose'],\n",
    "        #            device=device,\n",
    "        #            )\n",
    "    else:\n",
    "        print(exp_name)\n",
    "        model = DDPG.load(f'{exp_name}/model.zip', env=env, device=device)\n",
    "\n",
    "\n",
    "    art_loc, exp_name, run_id = mlflow_server.learn_and_fix(\n",
    "                                model=model, \n",
    "                                env= env_render,\n",
    "                                run_name=f'DDPG_{i+1}',\n",
    "                                episode_count = exp_params['training']['episode_count'],\n",
    "                                parameters=exp_params,\n",
    "                                experiment_id=experiment_id,\n",
    "                                checkpoint_interval=exp_params['validation']['validate_agent_every_n_eps'],\n",
    "                                log_interval=exp_params['validation']['log_interval'])\n",
    "\n",
    "    mlflow_path[i] = f'{art_loc}/{run_id}/artifacts/{exp_name}/sb3/model.zip'\n",
    "\n",
    "\n"
   ]
  },
  {
   "cell_type": "code",
   "execution_count": 4,
   "metadata": {},
   "outputs": [
    {
     "data": {
      "text/plain": [
       "{}"
      ]
     },
     "execution_count": 4,
     "metadata": {},
     "output_type": "execute_result"
    }
   ],
   "source": [
    "mlflow_path"
   ]
  },
  {
   "cell_type": "code",
   "execution_count": 5,
   "metadata": {},
   "outputs": [],
   "source": [
    "mlflow_path = {\n",
    " 'DDPG': 'mlflow-artifacts:/364/01eb4deafd134cb5b3b40e9f0503cbc8/artifacts/env_MoveSector_IgnoreObst_exp_1210_175506/sb3/model.zip'\n",
    " }"
   ]
  },
  {
   "cell_type": "code",
   "execution_count": 6,
   "metadata": {},
   "outputs": [
    {
     "data": {
      "text/plain": [
       "'364'"
      ]
     },
     "execution_count": 6,
     "metadata": {},
     "output_type": "execute_result"
    }
   ],
   "source": [
    "experiment_id = 364\n",
    "load_path = os.path.join(str(experiment_id))\n",
    "if  os.path.isdir(load_path) == False:\n",
    "    os.mkdir(load_path)\n",
    "load_path"
   ]
  },
  {
   "cell_type": "code",
   "execution_count": 7,
   "metadata": {},
   "outputs": [
    {
     "data": {
      "application/vnd.jupyter.widget-view+json": {
       "model_id": "72fe9559066f44ff8e254275beafcd58",
       "version_major": 2,
       "version_minor": 0
      },
      "text/plain": [
       "Downloading artifacts:   0%|          | 0/1 [00:00<?, ?it/s]"
      ]
     },
     "metadata": {},
     "output_type": "display_data"
    }
   ],
   "source": [
    "loadel_models = {}\n",
    "\n",
    "for model_name, path in mlflow_path.items():\n",
    "    loadel_models[model_name] =  f'{load_path}/{model_name}/'\n",
    "    mlflow_server.load_artifact(path,loadel_models[model_name])"
   ]
  },
  {
   "cell_type": "code",
   "execution_count": 8,
   "metadata": {},
   "outputs": [],
   "source": [
    "env = HumanMoveSectorAction(target_point_rand=False, object_ignore= True)\n",
    "env_render = HumanMoveSectorAction(target_point_rand=False, object_ignore= True, render_mode='rgb_array')"
   ]
  },
  {
   "cell_type": "code",
   "execution_count": 9,
   "metadata": {},
   "outputs": [
    {
     "name": "stderr",
     "output_type": "stream",
     "text": [
      "2024/10/13 11:52:17 INFO mlflow.tracking.fluent: Experiment with name 'env_MoveSector_IgnoreObst_exp_1310_115159' does not exist. Creating a new experiment.\n"
     ]
    },
    {
     "name": "stdout",
     "output_type": "stream",
     "text": [
      "env_MoveSector_IgnoreObst_exp_1310_115159\n"
     ]
    }
   ],
   "source": [
    "exp_params['env_name'] = env.name()\n",
    "exp_name = 'env_' + exp_params['env_name'] + '_' + exp_params['exp_name']\n",
    "experiment_id = mlflow_server.new_experiment(exp_name)\n",
    "exp_params['exp_id'] = experiment_id\n",
    "print(exp_name)"
   ]
  },
  {
   "cell_type": "code",
   "execution_count": null,
   "metadata": {},
   "outputs": [],
   "source": [
    "#!!! Дорасчет в СТАРОМ эксперименте\n",
    "exp_name = mlflow_server.get_experiment(experiment_id)\n",
    "print(exp_name)\n",
    "exp_params['exp_id'] = experiment_id\n",
    "exp_params['env_name'] = env.name()"
   ]
  },
  {
   "cell_type": "code",
   "execution_count": 10,
   "metadata": {},
   "outputs": [
    {
     "name": "stdout",
     "output_type": "stream",
     "text": [
      "364/DDPG/\n",
      "DDPG 5_150_180\n"
     ]
    },
    {
     "data": {
      "application/vnd.jupyter.widget-view+json": {
       "model_id": "fa27a09b1f6e4cd2826adc063c3c8d0e",
       "version_major": 2,
       "version_minor": 0
      },
      "text/plain": [
       "Output()"
      ]
     },
     "metadata": {},
     "output_type": "display_data"
    },
    {
     "data": {
      "text/html": [
       "<pre style=\"white-space:pre;overflow-x:auto;line-height:normal;font-family:Menlo,'DejaVu Sans Mono',consolas,'Courier New',monospace\"></pre>\n"
      ],
      "text/plain": []
     },
     "metadata": {},
     "output_type": "display_data"
    },
    {
     "data": {
      "text/html": [
       "<pre style=\"white-space:pre;overflow-x:auto;line-height:normal;font-family:Menlo,'DejaVu Sans Mono',consolas,'Courier New',monospace\">\n",
       "</pre>\n"
      ],
      "text/plain": [
       "\n"
      ]
     },
     "metadata": {},
     "output_type": "display_data"
    },
    {
     "name": "stdout",
     "output_type": "stream",
     "text": [
      "Moviepy - Building video env_MoveSector_IgnoreObst_exp_1310_115159//agent.mp4.\n",
      "Moviepy - Writing video env_MoveSector_IgnoreObst_exp_1310_115159//agent.mp4\n",
      "\n"
     ]
    },
    {
     "name": "stderr",
     "output_type": "stream",
     "text": [
      "                                                                 \r"
     ]
    },
    {
     "name": "stdout",
     "output_type": "stream",
     "text": [
      "Moviepy - Done !\n",
      "Moviepy - video ready env_MoveSector_IgnoreObst_exp_1310_115159//agent.mp4\n",
      "DDPG 5_200_180\n"
     ]
    },
    {
     "data": {
      "application/vnd.jupyter.widget-view+json": {
       "model_id": "7c18463bcb8a4fa988c34f0f9d2cba6b",
       "version_major": 2,
       "version_minor": 0
      },
      "text/plain": [
       "Output()"
      ]
     },
     "metadata": {},
     "output_type": "display_data"
    }
   ],
   "source": [
    "\n",
    "exp_params['algorithm_name'] = 'DDPG'\n",
    "exp_params['env_name'] = env.name()\n",
    "\n",
    "path = loadel_models['DDPG']\n",
    "print(path)\n",
    "name = 'DDPG'\n",
    "\n",
    "is_first = True\n",
    "\n",
    "for name, option in option_var2.items():\n",
    "\n",
    "\n",
    "    print(name)\n",
    "\n",
    "    exp_params['seed'] = int(datetime.now(TZ).strftime(\"%H%M%S\"))\n",
    "    exp_params['options'] = option\n",
    "\n",
    "    env.set_options(option)\n",
    "    env_render.set_options(option)\n",
    "\n",
    "    model = None\n",
    "    if is_first == True:\n",
    "        is_first = False\n",
    "        model = DDPG.load(f'{path}/model.zip', env=env, device=device)\n",
    "    else:\n",
    "        model = DDPG.load(f'{exp_name}/model.zip', env=env, device=device)\n",
    "\n",
    "\n",
    "    art_loc, exp_name, run_id = mlflow_server.learn_and_fix(\n",
    "                                model=model, \n",
    "                                env= env_render,\n",
    "                                run_name=name,\n",
    "                                episode_count = exp_params['training']['episode_count'],\n",
    "                                parameters=exp_params,\n",
    "                                experiment_id=experiment_id,\n",
    "                                checkpoint_interval=exp_params['validation']['validate_agent_every_n_eps'],\n",
    "                                log_interval=exp_params['validation']['log_interval'])\n",
    "\n",
    "    mlflow_path[name] = f'{art_loc}/{run_id}/artifacts/{exp_name}/sb3/model.zip'\n",
    "\n"
   ]
  },
  {
   "cell_type": "code",
   "execution_count": null,
   "metadata": {},
   "outputs": [],
   "source": [
    "exp_params['algorithm_name'] = 'DDPG'\n",
    "\n",
    "path = loadel_models['DDPG']\n",
    "print(path)\n",
    "name = 'DDPG'\n",
    "\n",
    "is_first = True\n",
    "\n",
    "for i in range(exp_params['evaluation']['episode_count']):\n",
    "\n",
    "    exp_params['seed'] = int(datetime.now(TZ).strftime(\"%H%M%S\"))\n",
    "\n",
    "    model = None\n",
    "    if is_first == True:\n",
    "        is_first = False\n",
    "        model = DDPG.load(f'{path}/model.zip', env=env, device=device)\n",
    "    else:\n",
    "        model = DDPG.load(f'{exp_name}/model.zip', env=env, device=device)\n",
    "\n",
    "\n",
    "    art_loc, exp_name, run_id = mlflow_server.learn_and_fix(\n",
    "                                model=model, \n",
    "                                env= env_render,\n",
    "                                run_name=f'{name}_{i+1}',\n",
    "                                episode_count = exp_params['training']['episode_count'],\n",
    "                                parameters=exp_params,\n",
    "                                experiment_id=experiment_id,\n",
    "                                checkpoint_interval=exp_params['validation']['validate_agent_every_n_eps'],\n",
    "                                log_interval=exp_params['validation']['log_interval'])\n",
    "\n",
    "    mlflow_path[name] = f'{art_loc}/{run_id}/artifacts/{exp_name}/sb3/model.zip'\n",
    "\n"
   ]
  },
  {
   "cell_type": "code",
   "execution_count": null,
   "metadata": {},
   "outputs": [],
   "source": [
    "shutil.rmtree(os.path.join(load_path))"
   ]
  }
 ],
 "metadata": {
  "kernelspec": {
   "display_name": "rl_conda_311",
   "language": "python",
   "name": "python3"
  },
  "language_info": {
   "codemirror_mode": {
    "name": "ipython",
    "version": 3
   },
   "file_extension": ".py",
   "mimetype": "text/x-python",
   "name": "python",
   "nbconvert_exporter": "python",
   "pygments_lexer": "ipython3",
   "version": "3.11.8"
  }
 },
 "nbformat": 4,
 "nbformat_minor": 2
}
