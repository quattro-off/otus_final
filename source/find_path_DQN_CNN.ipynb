{
 "cells": [
  {
   "cell_type": "code",
   "execution_count": 1,
   "metadata": {},
   "outputs": [],
   "source": [
    "import torch\n",
    "import numpy as np\n",
    "from stable_baselines3 import DQN\n",
    "\n",
    "import os, shutil, sys\n",
    "sys.path.append(os.path.abspath('./env'))\n",
    "sys.path.append(os.path.abspath('./common'))\n",
    "\n",
    "\n",
    "from env_find_path import FindPath\n",
    "\n",
    "import common.mlflow_sb3_helper as mlf\n",
    "import common.tensorboard_sb3_helper as tnb\n",
    "USE_MLFLOW = False\n",
    "\n",
    "from pytz import timezone\n",
    "from datetime import datetime\n",
    "\n",
    "TZ = timezone('Europe/Moscow')\n",
    "\n",
    "activations = {'ReLU':torch.nn.ReLU, 'Tanh':torch.nn.Tanh}\n",
    "device = \"cuda\" if torch.cuda.is_available() else \"cpu\""
   ]
  },
  {
   "cell_type": "code",
   "execution_count": 2,
   "metadata": {},
   "outputs": [],
   "source": [
    "log_helper = {}\n",
    "log_path = {}\n",
    "\n",
    "if USE_MLFLOW:\n",
    "    log_helper = mlf.MLflowServerHelper(\"http://192.168.0.206:2670\", False)\n",
    "else:\n",
    "    log_helper = tnb.TensorboardHelper(\"\",False)"
   ]
  },
  {
   "cell_type": "code",
   "execution_count": 3,
   "metadata": {},
   "outputs": [],
   "source": [
    "option = {'start_radius': 5}\n",
    "env = FindPath(target_point_rand=False, observation_render=True, area_size=200, options=option)\n",
    "env_render = FindPath(target_point_rand=False, observation_render=True, render_mode='rgb_array',  area_size=200, options=option)"
   ]
  },
  {
   "cell_type": "code",
   "execution_count": 3,
   "metadata": {},
   "outputs": [],
   "source": [
    "exp_params = {\n",
    "    'env_name': '',\n",
    "    'algorithm_name': '',\n",
    "    'exp_id': 0,\n",
    "    'exp_name': f'exp_{datetime.now(TZ).strftime(\"%d%m_%H%M%S\")}',\n",
    "    'seed': 21,\n",
    "    'net': {\n",
    "        'activation': 'ReLU',\n",
    "        'qf': [256, 64],\n",
    "    },\n",
    "    'training': {\n",
    "        'iteration_count': 3,\n",
    "        'episode_count': 199000,\n",
    "        'policy': 'CnnPolicy',\n",
    "        'learning_rate': 0.001,\n",
    "        'buffer_size': 10000,\n",
    "        'learning_starts': 100,\n",
    "        'batch_size': 256,\n",
    "        'tau': 0.005,\n",
    "        'gamma': 0.95,\n",
    "        'verbose': 0,\n",
    "        'device': device,\n",
    "        'DQN':{\n",
    "            'fraction_eps' : 0.8,\n",
    "            'start_eps' : 1.0,\n",
    "            'final_eps' : 0.3,\n",
    "        },\n",
    "    },\n",
    "    'validation': {\n",
    "        'validate_agent_every_n_eps': 60000,\n",
    "        'log_interval': 10\n",
    "    },\n",
    "}\n",
    "\n",
    "policy_kwargs = dict(activation_fn = activations[exp_params['net']['activation']],\n",
    "                     net_arch = exp_params['net']['qf']\n",
    ")\n",
    "\n",
    "\n"
   ]
  },
  {
   "cell_type": "code",
   "execution_count": 4,
   "metadata": {},
   "outputs": [],
   "source": [
    "eps_var ={        \n",
    "#'DQN1':{'fraction_eps' : 0.8, 'start_eps' : 1.0,'final_eps' : 0.3,},\n",
    "'DQN2':{'fraction_eps' : 0.4, 'start_eps' : 1.0,'final_eps' : 0.3,},\n",
    "#'DQN3':{'fraction_eps' : 0.1, 'start_eps' : 1.0,'final_eps' : 0.3,},\n",
    "#'DQN4':{'fraction_eps' : 0.1, 'start_eps' : 1.0,'final_eps' : 0.1,},\n",
    "'DQN5':{'fraction_eps' : 0.1, 'start_eps' : 0.3,'final_eps' : 0.05,},\n",
    "'DQN6':{'fraction_eps' : 0., 'start_eps' : 0.05,'final_eps' : 0.05,},\n",
    "}"
   ]
  },
  {
   "cell_type": "code",
   "execution_count": null,
   "metadata": {},
   "outputs": [],
   "source": [
    "#!!!!! Новый эксперимент\n",
    "exp_params['env_name'] = env.name()\n",
    "exp_name = 'env_' + exp_params['env_name'] + '_' + exp_params['exp_name']\n",
    "experiment_id = log_helper.new_experiment(exp_name)"
   ]
  },
  {
   "cell_type": "code",
   "execution_count": null,
   "metadata": {},
   "outputs": [],
   "source": [
    "#!!!!! Дорасчет старого эксперимента\n",
    "exp_params['env_name'] = env.name()\n",
    "experiment_id = 161\n",
    "exp_name = log_helper.get_experiment(experiment_id)\n",
    "print(exp_name)"
   ]
  },
  {
   "cell_type": "code",
   "execution_count": null,
   "metadata": {},
   "outputs": [],
   "source": [
    "exp_params['exp_id'] = experiment_id\n",
    "\n",
    "b_first = True\n",
    "name = \"DQN\"\n",
    "\n",
    "for name, eps in eps_var.items():\n",
    "\n",
    "    exp_params['algorithm_name'] = name\n",
    "    exp_params['seed'] = int(datetime.now(TZ).strftime(\"%H%M%S\"))\n",
    "    exp_params['training']['DQN'] = eps\n",
    "    \n",
    "    model = None\n",
    "    if b_first == True:\n",
    "        b_first = False\n",
    "        model = DQN(  exp_params['training']['policy'], \n",
    "                    env,\n",
    "                    policy_kwargs=policy_kwargs,\n",
    "                    learning_rate=exp_params['training']['learning_rate'],\n",
    "                    buffer_size=exp_params['training']['buffer_size'],\n",
    "                    learning_starts=exp_params['training']['learning_starts'],\n",
    "                    batch_size=exp_params['training']['batch_size'],\n",
    "                    tau=exp_params['training']['tau'],\n",
    "                    gamma=exp_params['training']['gamma'],\n",
    "                    verbose=exp_params['training']['verbose'],\n",
    "                    exploration_fraction=exp_params['training']['DQN']['fraction_eps'],\n",
    "                    exploration_initial_eps= exp_params['training']['DQN']['start_eps'],\n",
    "                    exploration_final_eps= exp_params['training']['DQN']['final_eps'],\n",
    "                    device=device,\n",
    "                    )\n",
    "    else:\n",
    "        model = DQN.load(f'{exp_name}/model.zip', env=env, device=device)\n",
    "        model.exploration_fraction=exp_params['training']['DQN']['fraction_eps']\n",
    "        model.exploration_initial_eps= exp_params['training']['DQN']['start_eps']\n",
    "        model.exploration_final_eps= exp_params['training']['DQN']['final_eps']\n",
    "        model._setup_model()\n",
    "\n",
    "    art_loc, exp_name, run_id = log_helper.learn_and_fix(\n",
    "                                model=model, \n",
    "                                env= env_render,\n",
    "                                run_name=name,\n",
    "                                episode_count = exp_params['training']['episode_count'],\n",
    "                                parameters=exp_params,\n",
    "                                experiment_id=experiment_id,\n",
    "                                checkpoint_interval=exp_params['validation']['validate_agent_every_n_eps'],\n",
    "                                log_interval=exp_params['validation']['log_interval'],\n",
    "                                video_episods=1,\n",
    "                                video_fps=10\n",
    "                                )\n",
    "    log_path[name] = f'{art_loc}/{run_id}/artifacts/{exp_name}/sb3/model.zip'\n"
   ]
  },
  {
   "cell_type": "code",
   "execution_count": null,
   "metadata": {},
   "outputs": [],
   "source": [
    "log_path"
   ]
  },
  {
   "cell_type": "code",
   "execution_count": 5,
   "metadata": {},
   "outputs": [],
   "source": [
    "experiment_id = 511\n",
    "log_path = { \n",
    "'DQN': f'mlflow-artifacts:/{experiment_id}/f71b693d127d4ce28fca90a40231bd69/artifacts/env_FindPathCNN_exp_2610_160813/sb3/model.zip'\n",
    "}"
   ]
  },
  {
   "cell_type": "code",
   "execution_count": null,
   "metadata": {},
   "outputs": [],
   "source": [
    "load_path = os.path.join(str(experiment_id))\n",
    "if  os.path.isdir(load_path) == False:\n",
    "    os.mkdir(load_path)\n",
    "load_path"
   ]
  },
  {
   "cell_type": "code",
   "execution_count": null,
   "metadata": {},
   "outputs": [],
   "source": [
    "\n",
    "loadel_models = {}\n",
    "\n",
    "for model_name, path in log_path.items():\n",
    "    loadel_models[model_name] =  f'{load_path}/{model_name}/'\n",
    "    log_helper.load_artifact(path,loadel_models[model_name])"
   ]
  },
  {
   "cell_type": "code",
   "execution_count": 8,
   "metadata": {},
   "outputs": [],
   "source": [
    "option = {'start_radius': 2}\n",
    "env = FindPath(target_point_rand=True, observation_render=True, area_size=200, options=option)\n",
    "env_render = FindPath(target_point_rand=True, observation_render=True, render_mode='rgb_array',  area_size=200, options=option)"
   ]
  },
  {
   "cell_type": "code",
   "execution_count": null,
   "metadata": {},
   "outputs": [],
   "source": [
    "#!!! Дорасчет в НОВОМ эксперименте\n",
    "exp_params['env_name'] = env.name()\n",
    "exp_params['exp_name'] = f'exp_{datetime.now(TZ).strftime(\"%d%m_%H%M%S\")}'\n",
    "exp_name = 'env_' + exp_params['env_name'] + '_' + exp_params['exp_name']\n",
    "experiment_id = log_helper.new_experiment(exp_name)\n",
    "exp_params['exp_id'] = experiment_id\n",
    "print(exp_name)\n"
   ]
  },
  {
   "cell_type": "code",
   "execution_count": null,
   "metadata": {},
   "outputs": [],
   "source": [
    "#!!! Дорасчет в СТАРОМ эксперименте\n",
    "\n",
    "exp_name = log_helper.get_experiment(experiment_id)\n",
    "print(exp_name)"
   ]
  },
  {
   "cell_type": "code",
   "execution_count": null,
   "metadata": {},
   "outputs": [],
   "source": [
    "name = 'DQN'\n",
    "path = loadel_models[name]\n",
    "exp_params['algorithm_name'] = name\n",
    "exp_params['seed'] = int(datetime.now(TZ).strftime(\"%H%M%S\"))\n",
    "exp_params['training']['DQN'] = eps_var['DQN2']\n",
    "\n",
    "b_first = True\n",
    "model = None\n",
    "\n",
    "for i in range(exp_params['training']['iteration_count']):\n",
    "\n",
    "    if b_first == True:\n",
    "        b_first = False\n",
    "        model = DQN.load(f'{path}/model.zip', env=env, device=device)\n",
    "        model.exploration_fraction=exp_params['training']['DQN']['fraction_eps']\n",
    "        model.exploration_initial_eps= exp_params['training']['DQN']['start_eps']\n",
    "        model.exploration_final_eps= exp_params['training']['DQN']['final_eps']\n",
    "        model._setup_model()\n",
    "    else:\n",
    "        print(exp_name)\n",
    "        model = DQN.load(f'{exp_name}/model.zip', env=env, device=device)\n",
    "\n",
    "\n",
    "    art_loc, exp_name, run_id = log_helper.learn_and_fix(\n",
    "                                model=model, \n",
    "                                env= env_render,\n",
    "                                run_name=f'{name}_{i+4}',\n",
    "                                episode_count = exp_params['training']['episode_count'],\n",
    "                                parameters=exp_params,\n",
    "                                experiment_id=experiment_id,\n",
    "                                checkpoint_interval=exp_params['validation']['validate_agent_every_n_eps'],\n",
    "                                log_interval=exp_params['validation']['log_interval'],\n",
    "                                video_episods=3,\n",
    "                                video_fps=10\n",
    "                                )\n",
    "    \n"
   ]
  },
  {
   "cell_type": "code",
   "execution_count": null,
   "metadata": {},
   "outputs": [],
   "source": [
    "name = \"DQN\"\n",
    "path = loadel_models[name]\n",
    "exp_params['algorithm_name'] = name\n",
    "exp_params['exp_id'] = experiment_id\n",
    "\n",
    "b_first = True\n",
    "\n",
    "for name, eps in eps_var.items():\n",
    "\n",
    "    exp_params['seed'] = int(datetime.now(TZ).strftime(\"%H%M%S\"))\n",
    "    exp_params['training']['DQN'] = eps\n",
    "    \n",
    "    model = None\n",
    "    if b_first == True:\n",
    "        b_first = False\n",
    "        model = DQN.load(f'{path}/model.zip', env=env, device=device)\n",
    "    else:\n",
    "        model = DQN.load(f'{exp_name}/model.zip', env=env, device=device)\n",
    "\n",
    "    model.exploration_fraction=exp_params['training']['DQN']['fraction_eps']\n",
    "    model.exploration_initial_eps= exp_params['training']['DQN']['start_eps']\n",
    "    model.exploration_final_eps= exp_params['training']['DQN']['final_eps']\n",
    "    model._setup_model()\n",
    "\n",
    "    art_loc, exp_name, run_id = log_helper.learn_and_fix(\n",
    "                                model=model, \n",
    "                                env= env_render,\n",
    "                                run_name=name,\n",
    "                                episode_count = exp_params['training']['episode_count'],\n",
    "                                parameters=exp_params,\n",
    "                                experiment_id=experiment_id,\n",
    "                                checkpoint_interval=exp_params['validation']['validate_agent_every_n_eps'],\n",
    "                                log_interval=exp_params['validation']['log_interval'],\n",
    "                                video_episods=3,\n",
    "                                video_fps=10\n",
    "                                )\n",
    "    log_path[name] = f'{art_loc}/{run_id}/artifacts/{exp_name}/sb3/model.zip'"
   ]
  },
  {
   "cell_type": "code",
   "execution_count": null,
   "metadata": {},
   "outputs": [],
   "source": [
    "experiment_id"
   ]
  },
  {
   "cell_type": "code",
   "execution_count": 11,
   "metadata": {},
   "outputs": [],
   "source": [
    "shutil.rmtree(os.path.join(load_path))"
   ]
  }
 ],
 "metadata": {
  "kernelspec": {
   "display_name": "rl_conda_311",
   "language": "python",
   "name": "python3"
  },
  "language_info": {
   "codemirror_mode": {
    "name": "ipython",
    "version": 3
   },
   "file_extension": ".py",
   "mimetype": "text/x-python",
   "name": "python",
   "nbconvert_exporter": "python",
   "pygments_lexer": "ipython3",
   "version": "3.11.8"
  }
 },
 "nbformat": 4,
 "nbformat_minor": 2
}
