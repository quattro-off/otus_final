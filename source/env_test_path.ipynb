{
 "cells": [
  {
   "cell_type": "code",
   "execution_count": null,
   "metadata": {},
   "outputs": [],
   "source": [
    "import torch\n",
    "import numpy as np\n",
    "from pytz import timezone\n",
    "from datetime import datetime\n",
    "import matplotlib.pyplot as plt\n",
    "from stable_baselines3 import DDPG, SAC, TD3, PPO, DQN\n",
    "from stable_baselines3.common.noise import NormalActionNoise\n",
    "\n",
    "TZ = timezone('Europe/Moscow')\n",
    "\n",
    "import sys\n",
    "import os\n",
    "\n",
    "\n",
    "sys.path.append(os.path.abspath('./env/'))\n",
    "sys.path.append(os.path.abspath('./common/'))\n",
    "\n",
    "from env_find_path import FindPath\n",
    "\n",
    "device = \"cuda\" if torch.cuda.is_available() else \"cpu\"\n",
    "device"
   ]
  },
  {
   "cell_type": "code",
   "execution_count": null,
   "metadata": {},
   "outputs": [],
   "source": [
    "\n",
    "seed = int( datetime.now(TZ).strftime(\"%H%M%S\") )\n",
    "\n",
    "env = FindPath(render_mode = 'human',seed=seed, area_size=20)\n",
    "\n",
    "\n",
    "model = DQN.load('466/DQN/model.zip', env=env, device=device)\n",
    "\n",
    "total_reward = 0.\n",
    "step_reward = []\n",
    "\n",
    "observation, info = env.reset(seed=seed)\n",
    "\n",
    "while True:\n",
    "\n",
    "    action, _ = model.predict(observation)\n",
    "\n",
    "    print(action)\n",
    "\n",
    "    observation, reward, terminated, truncated, info = env.step(action)\n",
    "    if terminated or truncated:\n",
    "        observation, info = env.reset()\n",
    "        step_reward.append(reward)\n",
    "        total_reward += reward\n",
    "        print('BREAK')\n",
    "        break\n",
    "    \n",
    "    step_reward.append(reward)\n",
    "    total_reward += reward\n",
    "\n",
    "\n",
    "print(len(step_reward))\n",
    "print(total_reward)"
   ]
  },
  {
   "cell_type": "code",
   "execution_count": null,
   "metadata": {},
   "outputs": [],
   "source": [
    "step_reward"
   ]
  },
  {
   "cell_type": "code",
   "execution_count": 43,
   "metadata": {},
   "outputs": [],
   "source": [
    "env.close()"
   ]
  },
  {
   "cell_type": "code",
   "execution_count": null,
   "metadata": {},
   "outputs": [],
   "source": [
    "plt.plot(step_reward)\n",
    "plt.title('Вознаграждения за эпизоды')\n",
    "plt.xlabel('Эпизод')\n",
    "plt.ylabel('Вознаграждения')\n",
    "plt.show()"
   ]
  }
 ],
 "metadata": {
  "kernelspec": {
   "display_name": "rl_conda_311",
   "language": "python",
   "name": "python3"
  },
  "language_info": {
   "codemirror_mode": {
    "name": "ipython",
    "version": 3
   },
   "file_extension": ".py",
   "mimetype": "text/x-python",
   "name": "python",
   "nbconvert_exporter": "python",
   "pygments_lexer": "ipython3",
   "version": "3.11.8"
  }
 },
 "nbformat": 4,
 "nbformat_minor": 2
}
