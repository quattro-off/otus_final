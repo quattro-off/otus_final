{
 "cells": [
  {
   "cell_type": "code",
   "execution_count": 2,
   "metadata": {},
   "outputs": [],
   "source": [
    "from env.env_simple_move import HumanMoveSimpleAction\n",
    "\n",
    "import numpy as np\n",
    "from stable_baselines3 import SAC\n",
    "from stable_baselines3.common.noise import NormalActionNoise\n",
    "from stable_baselines3.common.logger import configure"
   ]
  },
  {
   "cell_type": "code",
   "execution_count": 3,
   "metadata": {},
   "outputs": [],
   "source": [
    "# log results\n",
    "base_path = \"./sb3_log/MH/\"\n",
    "save_path = \"./sb3_save/\"\n",
    "SAC_path = \"./sb3_SAC/\"\n",
    "SAC_path_log = \"./sb3cnn_SAC/log/\"\n"
   ]
  },
  {
   "cell_type": "code",
   "execution_count": 6,
   "metadata": {},
   "outputs": [],
   "source": [
    "\n",
    "model = SAC(\"CnnPolicy\", HumanMoveSimpleAction(observation_render=True), buffer_size=10000, verbose=0, device='cuda')\n"
   ]
  },
  {
   "cell_type": "code",
   "execution_count": 7,
   "metadata": {},
   "outputs": [
    {
     "data": {
      "application/vnd.jupyter.widget-view+json": {
       "model_id": "df94f98c39304f16a9b9bbdf4ae68550",
       "version_major": 2,
       "version_minor": 0
      },
      "text/plain": [
       "Output()"
      ]
     },
     "metadata": {},
     "output_type": "display_data"
    }
   ],
   "source": [
    "\n",
    "log_path = SAC_path_log + \"/1\"\n",
    "new_logger = configure(log_path, [\"tensorboard\"])\n",
    "model.set_logger(new_logger)\n",
    "model.learn(total_timesteps=10000, log_interval=10, progress_bar=True)\n",
    "model.save(SAC_path + \"model_1\")\n"
   ]
  },
  {
   "cell_type": "code",
   "execution_count": 4,
   "metadata": {},
   "outputs": [
    {
     "name": "stdout",
     "output_type": "stream",
     "text": [
      "./sb3_save/SAC4\n"
     ]
    }
   ],
   "source": [
    "tmp_path = save_path + \"SAC4\"\n",
    "print(tmp_path)\n",
    "read_model = SAC.load(tmp_path, device='cuda')\n"
   ]
  },
  {
   "cell_type": "code",
   "execution_count": 14,
   "metadata": {},
   "outputs": [
    {
     "data": {
      "text/plain": [
       "560.8115102729975"
      ]
     },
     "execution_count": 14,
     "metadata": {},
     "output_type": "execute_result"
    }
   ],
   "source": [
    "env_render = HumanMoveSimpleAction(render_mode = 'human')\n",
    "total_reward = 0.\n",
    "step_reward = []\n",
    "observation, _ = env_render.reset()\n",
    "terminated = False\n",
    "truncated = False\n",
    "while not terminated and not truncated:\n",
    "    action, _ = read_model.predict(observation)\n",
    "    observation, reward, terminated, truncated, _ = env_render.step(action)\n",
    "    total_reward += reward\n",
    "    step_reward.append(reward)\n",
    "\n",
    "total_reward"
   ]
  },
  {
   "cell_type": "code",
   "execution_count": 35,
   "metadata": {},
   "outputs": [
    {
     "data": {
      "text/plain": [
       "[3.602506007816655,\n",
       " 4.021246139948127,\n",
       " 3.9929544444277925,\n",
       " 4.088364424619956,\n",
       " 4.133887413505263,\n",
       " 4.117398546172925,\n",
       " 4.158597645347308,\n",
       " 3.996620976257327,\n",
       " 4.0877721432914775,\n",
       " 4.168642199497166,\n",
       " 4.172379321421534,\n",
       " 4.140597932659288,\n",
       " 4.044016210571645,\n",
       " 3.546669222761008,\n",
       " 4.096270149449818,\n",
       " 4.1418266808783,\n",
       " 4.143296579258177,\n",
       " 4.173223373836496,\n",
       " 4.005615912716671,\n",
       " 3.7150180271802125,\n",
       " 4.121701384803998,\n",
       " 4.120396962763104,\n",
       " 4.173776207272446,\n",
       " 4.13271366373096,\n",
       " 4.103967995764032,\n",
       " 4.161431240205811,\n",
       " 4.0750678093025705,\n",
       " 4.160730789707031,\n",
       " 4.173553448011674,\n",
       " 4.148155012210837,\n",
       " 4.0734170260309845,\n",
       " 3.8836158724558443,\n",
       " 4.040073585446606,\n",
       " 4.099694853127133,\n",
       " 4.0237124740999395,\n",
       " 4.093872269233693,\n",
       " 4.081042980046934,\n",
       " 4.057541399842312,\n",
       " 4.077187549151494,\n",
       " 3.949230850350963,\n",
       " 4.099175739933544,\n",
       " 4.027606205941462,\n",
       " 4.102259047050093,\n",
       " 4.1026244105299545,\n",
       " 4.102308409254272,\n",
       " 4.086056767004276,\n",
       " 4.057053677178889,\n",
       " 4.040173596470764,\n",
       " 4.055708043367749,\n",
       " 4.070105801436936,\n",
       " 4.041069206341113,\n",
       " 4.060756030444275,\n",
       " 4.096873268747564,\n",
       " 4.076009347996288,\n",
       " 4.09387313740573,\n",
       " 4.089099730020824,\n",
       " 3.994820875434865,\n",
       " 4.095781604783708,\n",
       " 4.098677233420998,\n",
       " 4.102473227914364,\n",
       " 4.078336275186959,\n",
       " 4.0491283214933125,\n",
       " 4.047535260126164,\n",
       " 4.159875216089064,\n",
       " 4.1312055437279005,\n",
       " 4.162569319018962,\n",
       " 4.173818321503329,\n",
       " 4.133034646245098,\n",
       " 4.165151090145654,\n",
       " 4.155491380617681,\n",
       " 4.052224708226974,\n",
       " 4.14526894658776,\n",
       " 4.170306079749019,\n",
       " 4.122147590127749,\n",
       " 4.12172661518066,\n",
       " 4.168967927037737,\n",
       " 4.077010980927774,\n",
       " 4.13088109498025,\n",
       " 4.173657347020916,\n",
       " 4.074452217936625,\n",
       " 4.049675476769024,\n",
       " 4.134600203577634,\n",
       " 4.110168852395283,\n",
       " 4.114042969341554,\n",
       " 3.999568554131846,\n",
       " 4.17139964535345,\n",
       " 3.9844528684402594,\n",
       " 3.945839267205355,\n",
       " 4.073572001955322,\n",
       " 4.131914122736333,\n",
       " 4.064256760487083,\n",
       " 4.153521610303566,\n",
       " 3.9764976985890543,\n",
       " 3.9420167150732297,\n",
       " 3.117970116501243,\n",
       " 100]"
      ]
     },
     "execution_count": 35,
     "metadata": {},
     "output_type": "execute_result"
    }
   ],
   "source": [
    "step_reward"
   ]
  },
  {
   "cell_type": "code",
   "execution_count": 15,
   "metadata": {},
   "outputs": [],
   "source": [
    "env_render.close()"
   ]
  },
  {
   "cell_type": "code",
   "execution_count": 11,
   "metadata": {},
   "outputs": [
    {
     "data": {
      "application/vnd.jupyter.widget-view+json": {
       "model_id": "64d34f34b15d40ffa3cadc6538a28c41",
       "version_major": 2,
       "version_minor": 0
      },
      "text/plain": [
       "Output()"
      ]
     },
     "metadata": {},
     "output_type": "display_data"
    },
    {
     "name": "stdout",
     "output_type": "stream",
     "text": [
      "./sb3_log/MH/SAC/SAC\n"
     ]
    },
    {
     "data": {
      "text/html": [
       "<pre style=\"white-space:pre;overflow-x:auto;line-height:normal;font-family:Menlo,'DejaVu Sans Mono',consolas,'Courier New',monospace\"></pre>\n"
      ],
      "text/plain": []
     },
     "metadata": {},
     "output_type": "display_data"
    },
    {
     "data": {
      "text/html": [
       "<pre style=\"white-space:pre;overflow-x:auto;line-height:normal;font-family:Menlo,'DejaVu Sans Mono',consolas,'Courier New',monospace\">\n",
       "</pre>\n"
      ],
      "text/plain": [
       "\n"
      ]
     },
     "metadata": {},
     "output_type": "display_data"
    },
    {
     "name": "stderr",
     "output_type": "stream",
     "text": [
      "r:\\Scool\\Anaconda\\envs\\rl_conda_311\\Lib\\site-packages\\stable_baselines3\\common\\save_util.py:284: UserWarning: Path 'sb3_save' does not exist. Will create it.\n",
      "  warnings.warn(f\"Path '{path.parent}' does not exist. Will create it.\")\n"
     ]
    }
   ],
   "source": [
    "it = \"3\"\n",
    "num = 1\n",
    "\n",
    "model_path = base_path + models_name[num] + \"/\" + models_name[num]\n",
    "print(model_path)\n",
    "learn_model = models[num].load(model_path, env=HumanMoveSimpleAction(), device='cuda')\n",
    "\n",
    "# Дообучение\n",
    "env = HumanMoveSimpleAction()\n",
    "n_actions = env.action_space.shape[-1]\n",
    "action_noise = NormalActionNoise(mean=np.zeros(n_actions), sigma=0.1 * np.ones(n_actions))\n",
    "\n",
    "\n",
    "tmp_path = base_path + models_name[num] + \"/\"\n",
    "new_logger = configure(tmp_path, [\"tensorboard\"])\n",
    "learn_model.set_logger(new_logger)\n",
    "learn_model.learn(total_timesteps=30000, log_interval=50, progress_bar=True)\n",
    "learn_model.save(save_path + models_name[num] + it)\n"
   ]
  }
 ],
 "metadata": {
  "kernelspec": {
   "display_name": "rl_conda_311",
   "language": "python",
   "name": "python3"
  },
  "language_info": {
   "codemirror_mode": {
    "name": "ipython",
    "version": 3
   },
   "file_extension": ".py",
   "mimetype": "text/x-python",
   "name": "python",
   "nbconvert_exporter": "python",
   "pygments_lexer": "ipython3",
   "version": "3.11.8"
  }
 },
 "nbformat": 4,
 "nbformat_minor": 2
}
