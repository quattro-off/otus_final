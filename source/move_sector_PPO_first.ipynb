{
 "cells": [
  {
   "cell_type": "code",
   "execution_count": 1,
   "metadata": {},
   "outputs": [],
   "source": [
    "import torch\n",
    "import numpy as np\n",
    "from stable_baselines3 import PPO\n",
    "\n",
    "\n",
    "import os, shutil, sys\n",
    "sys.path.append(os.path.abspath('./env'))\n",
    "sys.path.append(os.path.abspath('./common'))\n",
    "\n",
    "from env.env_move_sector_v2  import HumanMoveSectorActionV2\n",
    "from env.env_move_sector_v3  import HumanMoveSectorActionV3\n",
    "from env.env_move_ray_v3  import HumanMoveRayActionV3\n",
    "from env.env_move_fast_sector  import HumanMoveFastSectorAction\n",
    "\n",
    "import common.mlflow_sb3_helper as mlf\n",
    "import common.tensorboard_sb3_helper as tnb\n",
    "USE_MLFLOW = False\n",
    "\n",
    "from pytz import timezone\n",
    "from datetime import datetime\n",
    "\n",
    "TZ = timezone('Europe/Moscow')\n",
    "device = \"cuda\" if torch.cuda.is_available() else \"cpu\"\n",
    "\n",
    "activations = {'ReLU':torch.nn.ReLU, 'Tanh':torch.nn.Tanh}"
   ]
  },
  {
   "cell_type": "code",
   "execution_count": 2,
   "metadata": {},
   "outputs": [],
   "source": [
    "exp_params = {\n",
    "    'env_name': '',\n",
    "    'algorithm_name': '',\n",
    "    'exp_id': 0,\n",
    "    'exp_name': f'exp_{datetime.now(TZ).strftime(\"%d%m_%H%M%S\")}',\n",
    "    'seed': 21,\n",
    "    'net': {\n",
    "        'activation': 'Tanh',\n",
    "        'pi': [512, 512, 512],\n",
    "        'vf': [512, 512, 512],\n",
    "    },\n",
    "    'training': {\n",
    "        'iteration_count': 5,\n",
    "        'episode_count': 3000,\n",
    "        'policy': 'MlpPolicy',\n",
    "        'learning_rate': 0.001,\n",
    "        'buffer_size': 1500000,\n",
    "        'batch_size': 1024,\n",
    "        'gamma': 0.99,\n",
    "        'verbose': 0,\n",
    "        'device': device,\n",
    "    },\n",
    "    'options':{\n",
    "        'finish_dist':100,\n",
    "        'start_dist':110,\n",
    "        'delta_phi':0\n",
    "    },\n",
    "    'validation': {\n",
    "        'validate_agent_every_n_eps': 20000,\n",
    "        'log_interval': 10\n",
    "    },\n",
    "}\n",
    "\n",
    "\n",
    "option_var2 ={\n",
    "    'PPO 100_0':{'finish_dist':100, 'start_dist':110, 'delta_phi':0 },\n",
    "    'PPO 90_0':{'finish_dist':90, 'start_dist':110, 'delta_phi':0 },\n",
    "    'PPO 80_0':{'finish_dist':80, 'start_dist':110, 'delta_phi':0 },\n",
    "    #'PPO 80_20':{'finish_dist':80, 'start_dist':110, 'delta_phi':20 },\n",
    "    #'PPO 80_45':{'finish_dist':80, 'start_dist':110, 'delta_phi':45 },\n",
    "    'PPO 80_90':{'finish_dist':80, 'start_dist':110, 'delta_phi':90 },\n",
    "    #'PPO 80_135':{'finish_dist':80, 'start_dist':110, 'delta_phi':135 },\n",
    "    'PPO 80_180':{'finish_dist':80, 'start_dist':110, 'delta_phi':180 },\n",
    "    #'PPO 60_180':{'finish_dist':60, 'start_dist':110, 'delta_phi':180 },\n",
    "    'PPO 40_180':{'finish_dist':40, 'start_dist':110, 'delta_phi':180 },\n",
    "    #'PPO 20_180':{'finish_dist':20, 'start_dist':110, 'delta_phi':180 },\n",
    "    'PPO 10_180':{'finish_dist':10, 'start_dist':110, 'delta_phi':180 },\n",
    "}\n",
    "\n",
    "\n",
    "option_var3 ={\n",
    "    'PPO 10_30_180':{'finish_dist':10, 'start_dist':30, 'delta_phi':180 },\n",
    "    'PPO 10_60_180':{'finish_dist':10, 'start_dist':60, 'delta_phi':180 },\n",
    "    'PPO 10_100_180':{'finish_dist':10, 'start_dist':100, 'delta_phi':180 },\n",
    "    'PPO 10_150_180':{'finish_dist':10, 'start_dist':150, 'delta_phi':180 },\n",
    "}\n",
    "\n",
    "option_var4 ={\n",
    "    'PPO 5_110_180':{'finish_dist':5, 'start_dist':110, 'delta_phi':180 },\n",
    "    'PPO 5_120_180':{'finish_dist':5, 'start_dist':120, 'delta_phi':180 },\n",
    "    'PPO 5_130_180':{'finish_dist':5, 'start_dist':130, 'delta_phi':180 },\n",
    "    'PPO 5_140_180':{'finish_dist':5, 'start_dist':140, 'delta_phi':180 },\n",
    "    'PPO 5_150_180':{'finish_dist':5, 'start_dist':150, 'delta_phi':180 },\n",
    "    'PPO 5_160_180':{'finish_dist':5, 'start_dist':160, 'delta_phi':180 },\n",
    "    'PPO 5_170_180':{'finish_dist':5, 'start_dist':170, 'delta_phi':180 },\n",
    "    'PPO 5_180_180':{'finish_dist':5, 'start_dist':180, 'delta_phi':180 },\n",
    "    'PPO 5_190_180':{'finish_dist':5, 'start_dist':190, 'delta_phi':180 },\n",
    "    'PPO 5_200_180':{'finish_dist':5, 'start_dist':200, 'delta_phi':180 },\n",
    "    'PPO 5_210_180':{'finish_dist':5, 'start_dist':210, 'delta_phi':180 },\n",
    "    'PPO 5_220_180':{'finish_dist':5, 'start_dist':220, 'delta_phi':180 },\n",
    "}\n",
    "\n",
    "policy_kwargs = dict(activation_fn = activations[exp_params['net']['activation']],\n",
    "                     net_arch = dict(pi=exp_params['net']['pi'], vf=exp_params['net']['vf']))\n"
   ]
  },
  {
   "cell_type": "code",
   "execution_count": 3,
   "metadata": {},
   "outputs": [],
   "source": [
    "env = HumanMoveRayActionV3(target_point_rand=False, object_ignore=True)\n",
    "env_render = HumanMoveRayActionV3(target_point_rand=False, object_ignore=True, render_mode='rgb_array')"
   ]
  },
  {
   "cell_type": "code",
   "execution_count": 4,
   "metadata": {},
   "outputs": [],
   "source": [
    "log_helper = {}\n",
    "log_path = {}\n",
    "\n",
    "if USE_MLFLOW:\n",
    "    log_helper = mlf.MLflowServerHelper(\"http://192.168.0.206:2670\", False)\n",
    "else:\n",
    "    log_helper = tnb.TensorboardHelper(\"\",False)"
   ]
  },
  {
   "cell_type": "code",
   "execution_count": 5,
   "metadata": {},
   "outputs": [],
   "source": [
    "#!!!!! Новый эксперимент\n",
    "exp_params['env_name'] = env.name()\n",
    "exp_name = 'env_' + exp_params['env_name'] + '_' + exp_params['exp_name']\n",
    "experiment_id = log_helper.new_experiment(exp_name)\n"
   ]
  },
  {
   "cell_type": "code",
   "execution_count": null,
   "metadata": {},
   "outputs": [],
   "source": [
    "#!!!!! Дорасчет старого эксперимента\n",
    "experiment_id = 298\n",
    "exp_name = log_helper.get_experiment(experiment_id)\n",
    "\n",
    "print(exp_name)"
   ]
  },
  {
   "cell_type": "code",
   "execution_count": 6,
   "metadata": {},
   "outputs": [
    {
     "name": "stdout",
     "output_type": "stream",
     "text": [
      "PPO 100_0\n"
     ]
    },
    {
     "data": {
      "application/vnd.jupyter.widget-view+json": {
       "model_id": "e03c1397371b49d4a07e07423b81cf70",
       "version_major": 2,
       "version_minor": 0
      },
      "text/plain": [
       "Output()"
      ]
     },
     "metadata": {},
     "output_type": "display_data"
    },
    {
     "data": {
      "text/html": [
       "<pre style=\"white-space:pre;overflow-x:auto;line-height:normal;font-family:Menlo,'DejaVu Sans Mono',consolas,'Courier New',monospace\"></pre>\n"
      ],
      "text/plain": []
     },
     "metadata": {},
     "output_type": "display_data"
    },
    {
     "data": {
      "text/html": [
       "<pre style=\"white-space:pre;overflow-x:auto;line-height:normal;font-family:Menlo,'DejaVu Sans Mono',consolas,'Courier New',monospace\">\n",
       "</pre>\n"
      ],
      "text/plain": [
       "\n"
      ]
     },
     "metadata": {},
     "output_type": "display_data"
    },
    {
     "name": "stdout",
     "output_type": "stream",
     "text": [
      "Moviepy - Building video env_MoveRay3_IgnoreObst_exp_0201_203113/PPO 100_0//agent.mp4.\n",
      "Moviepy - Writing video env_MoveRay3_IgnoreObst_exp_0201_203113/PPO 100_0//agent.mp4\n",
      "\n"
     ]
    },
    {
     "name": "stderr",
     "output_type": "stream",
     "text": [
      "                                                                 \r"
     ]
    },
    {
     "name": "stdout",
     "output_type": "stream",
     "text": [
      "Moviepy - Done !\n",
      "Moviepy - video ready env_MoveRay3_IgnoreObst_exp_0201_203113/PPO 100_0//agent.mp4\n",
      "PPO 90_0\n",
      "env_MoveRay3_IgnoreObst_exp_0201_203113/PPO 100_0\n"
     ]
    },
    {
     "data": {
      "application/vnd.jupyter.widget-view+json": {
       "model_id": "3a4f0d553ea041f0bd44035592944545",
       "version_major": 2,
       "version_minor": 0
      },
      "text/plain": [
       "Output()"
      ]
     },
     "metadata": {},
     "output_type": "display_data"
    }
   ],
   "source": [
    "exp_params['exp_id'] = experiment_id\n",
    "\n",
    "b_first = True\n",
    "model = None\n",
    "\n",
    "for name, option in option_var2.items():\n",
    "\n",
    "\n",
    "    print(name)\n",
    "\n",
    "    exp_params['env_name'] = env.name()\n",
    "    exp_params['algorithm_name'] = name\n",
    "    exp_params['seed'] = int(datetime.now(TZ).strftime(\"%H%M%S\"))\n",
    "    exp_params['options'] = option\n",
    "\n",
    "\n",
    "    env.set_options(option)\n",
    "    env_render.set_options(option)\n",
    "\n",
    "    if b_first == True:\n",
    "        b_first = False\n",
    "        model = PPO(  exp_params['training']['policy'], \n",
    "                    env,\n",
    "                    policy_kwargs=policy_kwargs,\n",
    "                    learning_rate=exp_params['training']['learning_rate'],\n",
    "                    batch_size=exp_params['training']['batch_size'],\n",
    "                    gamma=exp_params['training']['gamma'],\n",
    "                    verbose=exp_params['training']['verbose'],\n",
    "                    device=device,\n",
    "                    )\n",
    "    else:\n",
    "        print(exp_name)\n",
    "        model = PPO.load(f'{exp_name}/model.zip', env=env, device=device)\n",
    "\n",
    "\n",
    "    art_loc, exp_name, run_id = log_helper.learn_and_fix(\n",
    "                                model=model, \n",
    "                                env= env_render,\n",
    "                                run_name=name,\n",
    "                                episode_count = exp_params['training']['episode_count'],\n",
    "                                parameters=exp_params,\n",
    "                                experiment_id=experiment_id,\n",
    "                                checkpoint_interval=exp_params['validation']['validate_agent_every_n_eps'],\n",
    "                                log_interval=exp_params['validation']['log_interval'],\n",
    "                                video_episods=3,\n",
    "                                video_fps=120\n",
    "                                )\n",
    "\n",
    "    log_path[name] = f'{art_loc}/{run_id}/artifacts/{exp_name}/sb3/model.zip'\n",
    "\n",
    "\n"
   ]
  },
  {
   "cell_type": "code",
   "execution_count": null,
   "metadata": {},
   "outputs": [],
   "source": [
    "name = 'PPO'\n",
    "\n",
    "exp_params['exp_id'] = experiment_id\n",
    "exp_params['env_name'] = env.name()\n",
    "exp_params['algorithm_name'] = name\n",
    "\n",
    "b_first = True\n",
    "model = None\n",
    "\n",
    "for i in range(exp_params['evaluation']['episode_count']):\n",
    "\n",
    "    exp_params['seed'] = int(datetime.now(TZ).strftime(\"%H%M%S\"))\n",
    "\n",
    "    if b_first == True:\n",
    "        b_first = False\n",
    "        model = PPO(  exp_params['training']['policy'], \n",
    "                    env,\n",
    "                    policy_kwargs=policy_kwargs,\n",
    "                    learning_rate=exp_params['training']['learning_rate'],\n",
    "                    batch_size=exp_params['training']['batch_size'],\n",
    "                    gamma=exp_params['training']['gamma'],\n",
    "                    verbose=exp_params['training']['verbose'],\n",
    "                    device=device,\n",
    "                    )\n",
    "    else:\n",
    "        print(exp_name)\n",
    "        model = PPO.load(f'{exp_name}/model.zip', env=env, device=device)\n",
    "\n",
    "\n",
    "    art_loc, exp_name, run_id = log_helper.learn_and_fix(\n",
    "                                model=model, \n",
    "                                env= env_render,\n",
    "                                run_name=f'{name}_{i+1}',\n",
    "                                episode_count = exp_params['training']['episode_count'],\n",
    "                                parameters=exp_params,\n",
    "                                experiment_id=experiment_id,\n",
    "                                checkpoint_interval=exp_params['validation']['validate_agent_every_n_eps'],\n",
    "                                log_interval=exp_params['validation']['log_interval'],\n",
    "                                video_episods=3,\n",
    "                                video_fps=120                                \n",
    "                                )\n",
    "\n",
    "    log_path[name] = f'{art_loc}/{run_id}/artifacts/{exp_name}/sb3/model.zip'\n",
    "\n",
    "\n"
   ]
  },
  {
   "cell_type": "code",
   "execution_count": null,
   "metadata": {},
   "outputs": [],
   "source": [
    "log_path"
   ]
  },
  {
   "cell_type": "code",
   "execution_count": 14,
   "metadata": {},
   "outputs": [],
   "source": [
    "experiment_id = 615\n",
    "log_path = {\n",
    " 'PPO': f'mlflow-artifacts:/{experiment_id}/3a343438a434464b86ecefc795b58ca1/artifacts/env_MoveRay3_IgnoreObst_exp_1211_153702/sb3/model.zip'\n",
    " }"
   ]
  },
  {
   "cell_type": "code",
   "execution_count": null,
   "metadata": {},
   "outputs": [],
   "source": [
    "\n",
    "load_path = os.path.join(str(experiment_id))\n",
    "if  os.path.isdir(load_path) == False:\n",
    "    os.mkdir(load_path)\n",
    "load_path"
   ]
  },
  {
   "cell_type": "code",
   "execution_count": null,
   "metadata": {},
   "outputs": [],
   "source": [
    "loadel_models = {}\n",
    "\n",
    "for model_name, path in log_path.items():\n",
    "    loadel_models[model_name] =  f'{load_path}/{model_name}/'\n",
    "    log_helper.load_artifact(path,loadel_models[model_name])"
   ]
  },
  {
   "cell_type": "code",
   "execution_count": 20,
   "metadata": {},
   "outputs": [],
   "source": [
    "env = HumanMoveRayActionV3(target_point_rand=False, object_ignore=True)\n",
    "env_render = HumanMoveRayActionV3(target_point_rand=False, object_ignore=True, render_mode='rgb_array')"
   ]
  },
  {
   "cell_type": "code",
   "execution_count": null,
   "metadata": {},
   "outputs": [],
   "source": [
    "exp_params['env_name'] = env.name()\n",
    "exp_params['exp_name'] = f'exp_{datetime.now(TZ).strftime(\"%d%m_%H%M%S\")}'\n",
    "exp_name = 'env_' + exp_params['env_name'] + '_' + exp_params['exp_name']\n",
    "experiment_id = log_helper.new_experiment(exp_name)\n",
    "exp_params['exp_id'] = experiment_id\n",
    "print(exp_name)"
   ]
  },
  {
   "cell_type": "code",
   "execution_count": null,
   "metadata": {},
   "outputs": [],
   "source": [
    "path = loadel_models['PPO']\n",
    "print(path)\n",
    "\n",
    "b_first = True\n",
    "\n",
    "for name, option in option_var4.items():\n",
    "\n",
    "    print(name)\n",
    "\n",
    "    exp_params['env_name'] = env.name()\n",
    "    exp_params['algorithm_name'] = name\n",
    "    exp_params['seed'] = int(datetime.now(TZ).strftime(\"%H%M%S\"))\n",
    "    exp_params['options'] = option\n",
    "\n",
    "\n",
    "    env.set_options(option)\n",
    "    env_render.set_options(option)\n",
    "\n",
    "    if b_first == True:\n",
    "        b_first = False\n",
    "        model = PPO.load(f'{path}/model.zip', env=env, device=device)\n",
    "    else:\n",
    "        print(exp_name)\n",
    "        model = PPO.load(f'{exp_name}/model.zip', env=env, device=device)\n",
    "\n",
    "\n",
    "    art_loc, exp_name, run_id = log_helper.learn_and_fix(\n",
    "                                model=model, \n",
    "                                env= env_render,\n",
    "                                run_name=name,\n",
    "                                episode_count = exp_params['training']['episode_count'],\n",
    "                                parameters=exp_params,\n",
    "                                experiment_id=experiment_id,\n",
    "                                checkpoint_interval=exp_params['validation']['validate_agent_every_n_eps'],\n",
    "                                log_interval=exp_params['validation']['log_interval'],\n",
    "                                video_episods=3,\n",
    "                                video_fps=120\n",
    "                                )\n",
    "\n",
    "    log_path[name] = f'{art_loc}/{run_id}/artifacts/{exp_name}/sb3/model.zip'\n",
    "\n"
   ]
  }
 ],
 "metadata": {
  "kernelspec": {
   "display_name": "rl_conda_311",
   "language": "python",
   "name": "python3"
  },
  "language_info": {
   "codemirror_mode": {
    "name": "ipython",
    "version": 3
   },
   "file_extension": ".py",
   "mimetype": "text/x-python",
   "name": "python",
   "nbconvert_exporter": "python",
   "pygments_lexer": "ipython3",
   "version": "3.11.8"
  }
 },
 "nbformat": 4,
 "nbformat_minor": 2
}
