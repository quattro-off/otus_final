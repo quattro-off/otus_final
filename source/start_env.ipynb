{
 "cells": [
  {
   "cell_type": "code",
   "execution_count": 21,
   "metadata": {},
   "outputs": [
    {
     "data": {
      "text/plain": [
       "<Popen: returncode: None args: ['r:\\\\Projects\\\\DCS World Nightly\\\\bin-mt\\\\dc...>"
      ]
     },
     "execution_count": 21,
     "metadata": {},
     "output_type": "execute_result"
    }
   ],
   "source": [
    "import subprocess\n",
    "\n",
    "file = \"r:\\\\Projects\\\\DCS World Nightly\\\\bin-mt\\\\dcs.exe\"\n",
    "\n",
    "subprocess.Popen([file, \"-dofile\", \"123.miz\"])"
   ]
  },
  {
   "cell_type": "code",
   "execution_count": 18,
   "metadata": {},
   "outputs": [
    {
     "name": "stdout",
     "output_type": "stream",
     "text": [
      "start\n"
     ]
    }
   ],
   "source": [
    "print('start')"
   ]
  },
  {
   "cell_type": "code",
   "execution_count": 5,
   "metadata": {},
   "outputs": [],
   "source": [
    "import socket"
   ]
  },
  {
   "cell_type": "code",
   "execution_count": null,
   "metadata": {},
   "outputs": [],
   "source": [
    "HOST = \"185.155.19.199\" #\"127.0.0.1\"  # The server's hostname or IP address\n",
    "PORT = 10308 # 8080  # The port used by the server"
   ]
  },
  {
   "cell_type": "code",
   "execution_count": 6,
   "metadata": {},
   "outputs": [],
   "source": [
    "HOST = \"127.0.0.1\"  # The server's hostname or IP address\n",
    "PORT = 8080  # The port used by the server"
   ]
  },
  {
   "cell_type": "code",
   "execution_count": 4,
   "metadata": {},
   "outputs": [
    {
     "name": "stdout",
     "output_type": "stream",
     "text": [
      "Connected by ('127.0.0.1', 64857)\n",
      "b't = 0.00, ID = 16777472, name = LAV-25, country = 2(Enemies)\\n'\n",
      "b't = 1.00, ID = 16777472, name = LAV-25, country = 2(Enemies)\\n'\n",
      "b't = 2.00, ID = 16777472, name = LAV-25, country = 2(Enemies)\\n'\n",
      "b't = 3.00, ID = 16777472, name = LAV-25, country = 2(Enemies)\\n'\n",
      "b't = 4.00, ID = 16777472, name = LAV-25, country = 2(Enemies)\\n'\n",
      "b't = 5.00, ID = 16777472, name = LAV-25, country = 2(Enemies)\\n'\n",
      "b't = 6.00, ID = 16777472, name = LAV-25, country = 2(Enemies)\\n'\n",
      "b't = 7.00, ID = 16777472, name = LAV-25, country = 2(Enemies)\\n'\n",
      "b't = 8.00, ID = 16777472, name = LAV-25, country = 2(Enemies)\\n'\n",
      "b't = 9.00, ID = 16777472, name = LAV-25, country = 2(Enemies)\\n'\n",
      "b't = 10.00, ID = 16777472, name = LAV-25, country = 2(Enemies)\\n'\n",
      "b't = 11.00, ID = 16777472, name = LAV-25, country = 2(Enemies)\\n'\n",
      "b't = 12.00, ID = 16777472, name = LAV-25, country = 2(Enemies)\\n'\n",
      "b't = 13.00, ID = 16777472, name = LAV-25, country = 2(Enemies)\\n'\n",
      "b't = 14.00, ID = 16777472, name = LAV-25, country = 2(Enemies)\\n'\n",
      "b't = 15.00, ID = 16777472, name = LAV-25, country = 2(Enemies)\\n'\n",
      "b't = 16.00, ID = 16777472, name = LAV-25, country = 2(Enemies)\\n'\n",
      "b't = 17.00, ID = 16777472, name = LAV-25, country = 2(Enemies)\\n'\n",
      "b't = 18.00, ID = 16777472, name = LAV-25, country = 2(Enemies)\\n'\n",
      "b't = 19.00, ID = 16777472, name = LAV-25, country = 2(Enemies)\\n'\n",
      "b't = 20.00, ID = 16777472, name = LAV-25, country = 2(Enemies)\\n'\n",
      "b't = 21.00, ID = 16777472, name = LAV-25, country = 2(Enemies)\\n'\n",
      "b't = 22.00, ID = 16777472, name = LAV-25, country = 2(Enemies)\\n'\n",
      "b't = 23.00, ID = 16777472, name = LAV-25, country = 2(Enemies)\\n'\n",
      "b't = 24.00, ID = 16777472, name = LAV-25, country = 2(Enemies)\\n'\n",
      "b'quit'\n"
     ]
    }
   ],
   "source": [
    "#SERVER\n",
    "\n",
    "with socket.socket(socket.AF_INET, socket.SOCK_STREAM) as s:\n",
    "    s.bind((HOST, PORT))\n",
    "    s.listen()\n",
    "    conn, addr = s.accept()\n",
    "    with conn:\n",
    "        print(f\"Connected by {addr}\")\n",
    "        while True:\n",
    "            data = conn.recv(1024)\n",
    "            if not data:\n",
    "                break\n",
    "            print(data)"
   ]
  },
  {
   "cell_type": "code",
   "execution_count": 9,
   "metadata": {},
   "outputs": [],
   "source": [
    "#CLIENT\n",
    "\n",
    "with socket.socket(socket.AF_INET, socket.SOCK_STREAM) as s:\n",
    "    s.connect((HOST, PORT))\n",
    "    s.sendall(b\"Aaaaaaaaaaaaaaaaaaaaaaaaaaaaaaaaaaaaaa\")"
   ]
  }
 ],
 "metadata": {
  "kernelspec": {
   "display_name": "rl_conda_311",
   "language": "python",
   "name": "python3"
  },
  "language_info": {
   "codemirror_mode": {
    "name": "ipython",
    "version": 3
   },
   "file_extension": ".py",
   "mimetype": "text/x-python",
   "name": "python",
   "nbconvert_exporter": "python",
   "pygments_lexer": "ipython3",
   "version": "3.11.8"
  }
 },
 "nbformat": 4,
 "nbformat_minor": 2
}
