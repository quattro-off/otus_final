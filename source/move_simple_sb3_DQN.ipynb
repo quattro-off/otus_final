{
 "cells": [
  {
   "cell_type": "code",
   "execution_count": 1,
   "metadata": {},
   "outputs": [],
   "source": [
    "from env.env_simple_move import HumanMoveSimpleAction\n",
    "\n",
    "from stable_baselines3 import DQN\n",
    "from stable_baselines3.common.logger import configure\n",
    "\n",
    "from pytz import timezone\n",
    "from datetime import datetime\n",
    "\n",
    "TZ = timezone('Europe/Moscow')"
   ]
  },
  {
   "cell_type": "code",
   "execution_count": 2,
   "metadata": {},
   "outputs": [],
   "source": [
    "# log results\n",
    "DQN_path = \"./sb3_DQN/\"\n",
    "DQN_path_log = DQN_path + \"1/\""
   ]
  },
  {
   "cell_type": "code",
   "execution_count": 3,
   "metadata": {},
   "outputs": [],
   "source": [
    "options = {'finish_dist':100, 'start_dist':110,  'delta_phi':0 }\n",
    "\n",
    "model = DQN(\"MlpPolicy\", HumanMoveSimpleAction(continuous=False, target_point_rand=False, options=options),\n",
    "            verbose=0, device='cuda',\n",
    "            exploration_fraction=0.6,\n",
    "            exploration_initial_eps= 0.8,\n",
    "            exploration_final_eps= 0.3\n",
    ")"
   ]
  },
  {
   "cell_type": "code",
   "execution_count": 4,
   "metadata": {},
   "outputs": [
    {
     "data": {
      "application/vnd.jupyter.widget-view+json": {
       "model_id": "a788541976774c57be52d2bb1bc102a5",
       "version_major": 2,
       "version_minor": 0
      },
      "text/plain": [
       "Output()"
      ]
     },
     "metadata": {},
     "output_type": "display_data"
    },
    {
     "data": {
      "text/html": [
       "<pre style=\"white-space:pre;overflow-x:auto;line-height:normal;font-family:Menlo,'DejaVu Sans Mono',consolas,'Courier New',monospace\"></pre>\n"
      ],
      "text/plain": []
     },
     "metadata": {},
     "output_type": "display_data"
    },
    {
     "data": {
      "text/html": [
       "<pre style=\"white-space:pre;overflow-x:auto;line-height:normal;font-family:Menlo,'DejaVu Sans Mono',consolas,'Courier New',monospace\">\n",
       "</pre>\n"
      ],
      "text/plain": [
       "\n"
      ]
     },
     "metadata": {},
     "output_type": "display_data"
    }
   ],
   "source": [
    "\n",
    "new_logger = configure(DQN_path_log, [\"tensorboard\"])\n",
    "model.set_logger(new_logger)\n",
    "model.learn(total_timesteps=40000, log_interval=10, progress_bar=True)\n",
    "model.save(DQN_path + \"model_1\")\n"
   ]
  },
  {
   "cell_type": "code",
   "execution_count": 5,
   "metadata": {},
   "outputs": [
    {
     "name": "stdout",
     "output_type": "stream",
     "text": [
      "./sb3_DQN/model_1\n"
     ]
    }
   ],
   "source": [
    "tmp_path = DQN_path + \"model_1\"\n",
    "print(tmp_path)\n",
    "read_model = DQN.load(tmp_path, device='cuda')\n"
   ]
  },
  {
   "cell_type": "code",
   "execution_count": 15,
   "metadata": {},
   "outputs": [
    {
     "data": {
      "text/plain": [
       "4.792903629395787"
      ]
     },
     "execution_count": 15,
     "metadata": {},
     "output_type": "execute_result"
    }
   ],
   "source": [
    "options = {'finish_dist':90, 'start_dist':110,  'delta_phi':0 }\n",
    "env_render = HumanMoveSimpleAction(continuous=False, target_point_rand=False, options=options, render_mode = 'human')\n",
    "total_reward = 0.\n",
    "step_reward = []\n",
    "seed = int( datetime.now(TZ).strftime(\"%H%M%S\") )\n",
    "observation, _ = env_render.reset(seed=seed)\n",
    "terminated = False\n",
    "truncated = False\n",
    "while not terminated and not truncated:\n",
    "    action, _ = read_model.predict(observation)\n",
    "    observation, reward, terminated, truncated, _ = env_render.step(action)\n",
    "    total_reward += reward\n",
    "    step_reward.append(reward)\n",
    "\n",
    "total_reward"
   ]
  },
  {
   "cell_type": "code",
   "execution_count": 10,
   "metadata": {},
   "outputs": [],
   "source": [
    "env_render.close()"
   ]
  },
  {
   "cell_type": "code",
   "execution_count": 11,
   "metadata": {},
   "outputs": [
    {
     "name": "stdout",
     "output_type": "stream",
     "text": [
      "./sb3_DQN/model_1\n",
      "185335\n"
     ]
    }
   ],
   "source": [
    "tmp_path = DQN_path + \"model_1\"\n",
    "print(tmp_path)\n",
    "seed = int( datetime.now(TZ).strftime(\"%H%M%S\") )\n",
    "print(seed)\n",
    "learn_model = DQN.load(tmp_path, env=HumanMoveSimpleAction(continuous=False, seed=seed), device='cuda')"
   ]
  },
  {
   "cell_type": "code",
   "execution_count": 12,
   "metadata": {},
   "outputs": [
    {
     "data": {
      "application/vnd.jupyter.widget-view+json": {
       "model_id": "f6a88b7de194487abfb6a5cc8369b516",
       "version_major": 2,
       "version_minor": 0
      },
      "text/plain": [
       "Output()"
      ]
     },
     "metadata": {},
     "output_type": "display_data"
    },
    {
     "data": {
      "text/html": [
       "<pre style=\"white-space:pre;overflow-x:auto;line-height:normal;font-family:Menlo,'DejaVu Sans Mono',consolas,'Courier New',monospace\"></pre>\n"
      ],
      "text/plain": []
     },
     "metadata": {},
     "output_type": "display_data"
    },
    {
     "data": {
      "text/html": [
       "<pre style=\"white-space:pre;overflow-x:auto;line-height:normal;font-family:Menlo,'DejaVu Sans Mono',consolas,'Courier New',monospace\">\n",
       "</pre>\n"
      ],
      "text/plain": [
       "\n"
      ]
     },
     "metadata": {},
     "output_type": "display_data"
    }
   ],
   "source": [
    "it = \"2\"\n",
    "\n",
    "DQN_path_log = DQN_path + it + \"/\"\n",
    "\n",
    "new_logger = configure(DQN_path_log, [\"tensorboard\"])\n",
    "learn_model.set_logger(new_logger)\n",
    "learn_model.learn(total_timesteps=30000, log_interval=10, progress_bar=True)\n",
    "learn_model.save(DQN_path + \"model_\" + it)"
   ]
  }
 ],
 "metadata": {
  "kernelspec": {
   "display_name": "rl_conda_311",
   "language": "python",
   "name": "python3"
  },
  "language_info": {
   "codemirror_mode": {
    "name": "ipython",
    "version": 3
   },
   "file_extension": ".py",
   "mimetype": "text/x-python",
   "name": "python",
   "nbconvert_exporter": "python",
   "pygments_lexer": "ipython3",
   "version": "3.11.8"
  }
 },
 "nbformat": 4,
 "nbformat_minor": 2
}
