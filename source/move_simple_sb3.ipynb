{
 "cells": [
  {
   "cell_type": "code",
   "execution_count": 16,
   "metadata": {},
   "outputs": [],
   "source": [
    "import torch\n",
    "import numpy as np\n",
    "from stable_baselines3 import DDPG, SAC, TD3, DQN, PPO\n",
    "from stable_baselines3.common.noise import NormalActionNoise\n",
    "\n",
    "import os, shutil, sys\n",
    "sys.path.append(os.path.abspath('./env'))\n",
    "sys.path.append(os.path.abspath('./common'))\n",
    "\n",
    "from env.env_simple_move  import HumanMoveSimpleAction\n",
    "\n",
    "import common.mlflow_sb3_helper as mlf\n",
    "import common.tensorboard_sb3_helper as tnb\n",
    "USE_MLFLOW = False\n",
    "\n",
    "from pytz import timezone\n",
    "from datetime import datetime\n",
    "\n",
    "TZ = timezone('Europe/Moscow')\n",
    "device = \"cuda\" if torch.cuda.is_available() else \"cpu\"\n",
    "\n",
    "models = {'PPO':PPO, 'DQN':DQN, 'DDPG':DDPG, 'SAC':SAC, 'TD3':TD3}\n",
    "activations = {'ReLU':torch.nn.ReLU, 'Tanh':torch.nn.Tanh}\n"
   ]
  },
  {
   "cell_type": "code",
   "execution_count": 17,
   "metadata": {},
   "outputs": [],
   "source": [
    "exp_params = {\n",
    "    'env_name': '',\n",
    "    'algorithm_name': '',\n",
    "    'exp_id': 0,\n",
    "    'exp_name': f'exp_{datetime.now(TZ).strftime(\"%d%m_%H%M%S\")}',\n",
    "    'seed': 21,\n",
    "    'net': {\n",
    "        'activation': 'ReLU',\n",
    "        'pi': [256, 256],\n",
    "        'qf': [256, 256],\n",
    "        'vf': [256, 256],\n",
    "    },\n",
    "    'training': {\n",
    "        'iteration_count': 1,\n",
    "        'episode_count': 39000,\n",
    "        'policy': 'MlpPolicy',\n",
    "        'learning_rate': 0.003,\n",
    "        'buffer_size': 1500000,\n",
    "        'learning_starts': 100,\n",
    "        'batch_size': 256,\n",
    "        'tau': 0.005,\n",
    "        'gamma': 0.99,\n",
    "        'verbose': 0,\n",
    "        'device': device,\n",
    "        'DQN':{\n",
    "            'fraction_eps' : 0.6,\n",
    "            'start_eps' : 1.0,\n",
    "            'final_eps' : 0.3,\n",
    "        },\n",
    "    },\n",
    "    'options':{\n",
    "        'finish_dist':60,\n",
    "        'start_dist':110,\n",
    "        'delta_phi':0\n",
    "    },\n",
    "    'validation': {\n",
    "        'validate_agent_every_n_eps': 40000,\n",
    "        'log_interval': 10\n",
    "    },\n",
    "    'evaluation': {\n",
    "        'episode_count': 1\n",
    "    }\n",
    "}\n",
    "\n",
    "eps_var ={        \n",
    "'DQN1':{'fraction_eps' : 0.8, 'start_eps' : 1.0,'final_eps' : 0.3,},\n",
    "'DQN2':{'fraction_eps' : 0.4, 'start_eps' : 1.0,'final_eps' : 0.3,},\n",
    "'DQN3':{'fraction_eps' : 0.1, 'start_eps' : 1.0,'final_eps' : 0.3,},\n",
    "'DQN4':{'fraction_eps' : 0.1, 'start_eps' : 1.0,'final_eps' : 0.1,},\n",
    "'DQN5':{'fraction_eps' : 0.1, 'start_eps' : 0.3,'final_eps' : 0.05,},\n",
    "'DQN6':{'fraction_eps' : 0., 'start_eps' : 0.05,'final_eps' : 0.05,},\n",
    "}\n"
   ]
  },
  {
   "cell_type": "code",
   "execution_count": null,
   "metadata": {},
   "outputs": [],
   "source": [
    "policy_kwargs = dict(activation_fn = activations[exp_params['net']['activation']],\n",
    "                     net_arch = dict(pi=exp_params['net']['pi'], qf=exp_params['net']['qf'], vf=exp_params['net']['vf']))"
   ]
  },
  {
   "cell_type": "code",
   "execution_count": 18,
   "metadata": {},
   "outputs": [],
   "source": [
    "options=exp_params['options']\n",
    "#options=None\n",
    "\n",
    "env = HumanMoveSimpleAction(target_point_rand=False, options=options)\n",
    "env_disc = HumanMoveSimpleAction(continuous=False, target_point_rand=False, options=options)\n",
    "\n",
    "env_render = HumanMoveSimpleAction(target_point_rand=False, render_mode='rgb_array', options=options)\n",
    "env_disc_render = HumanMoveSimpleAction(continuous=False, target_point_rand=False, render_mode='rgb_array', options=options)\n"
   ]
  },
  {
   "cell_type": "code",
   "execution_count": 19,
   "metadata": {},
   "outputs": [],
   "source": [
    "log_helper = {}\n",
    "log_path = {}\n",
    "\n",
    "if USE_MLFLOW:\n",
    "    log_helper = mlf.MLflowServerHelper(\"http://192.168.0.206:2670\", False)\n",
    "else:\n",
    "    log_helper = tnb.TensorboardHelper(\"\",False)"
   ]
  },
  {
   "cell_type": "code",
   "execution_count": null,
   "metadata": {},
   "outputs": [],
   "source": [
    "#!!!!! Новый эксперимент\n",
    "exp_params['env_name'] = env.name()\n",
    "exp_name = 'env_' + exp_params['env_name'] + '_' + exp_params['exp_name']\n",
    "experiment_id = log_helper.new_experiment(exp_name)\n",
    "models_exclude = {'PPO':False, 'DQN': False, 'DDPG': False, 'SAC': False, 'TD3': False}\n"
   ]
  },
  {
   "cell_type": "code",
   "execution_count": null,
   "metadata": {},
   "outputs": [],
   "source": [
    "#!!!!! Дорасчет старого эксперимента\n",
    "experiment_id = 420\n",
    "exp_name = log_helper.get_experiment(experiment_id)\n",
    "models_exclude = {'PPO':False, 'DQN': True, 'DDPG': True, 'SAC': True, 'TD3': True}\n",
    "\n",
    "print(exp_name)"
   ]
  },
  {
   "cell_type": "code",
   "execution_count": null,
   "metadata": {},
   "outputs": [],
   "source": [
    "exp_params['exp_id'] = experiment_id\n",
    "\n",
    "i = 0\n",
    "for name, m in models.items():\n",
    "    if models_exclude != None and models_exclude[name] == True:\n",
    "        continue\n",
    "    print(name)\n",
    "\n",
    "    exp_params['env_name'] = env.name()\n",
    "    exp_params['algorithm_name'] = name\n",
    "    exp_params['seed'] = int(datetime.now(TZ).strftime(\"%H%M%S\"))\n",
    "\n",
    "    model = 0\n",
    "    if name == 'TD3':\n",
    "        n_actions = env.action_space.shape[-1]\n",
    "        action_noise = NormalActionNoise(mean=np.zeros(n_actions), sigma=0.1 * np.ones(n_actions))\n",
    "        model = m(  exp_params['training']['policy'], \n",
    "                    env,\n",
    "                    #policy_kwargs=policy_kwargs,\n",
    "                    learning_rate=exp_params['training']['learning_rate'],\n",
    "                    buffer_size=exp_params['training']['buffer_size'],\n",
    "                    learning_starts=exp_params['training']['learning_starts'],\n",
    "                    batch_size=exp_params['training']['batch_size'],\n",
    "                    tau=exp_params['training']['tau'],\n",
    "                    gamma=exp_params['training']['gamma'],\n",
    "                    verbose=exp_params['training']['verbose'],\n",
    "                    action_noise=action_noise,\n",
    "                    device=device,\n",
    "                    )\n",
    "    elif name == 'DQN':\n",
    "        model = m(  exp_params['training']['policy'], \n",
    "                    env_disc,\n",
    "                    #policy_kwargs=policy_kwargs,\n",
    "                    learning_rate=exp_params['training']['learning_rate'],\n",
    "                    buffer_size=exp_params['training']['buffer_size'],\n",
    "                    learning_starts=exp_params['training']['learning_starts'],\n",
    "                    batch_size=exp_params['training']['batch_size'],\n",
    "                    tau=exp_params['training']['tau'],\n",
    "                    gamma=exp_params['training']['gamma'],\n",
    "                    verbose=exp_params['training']['verbose'],\n",
    "                    exploration_fraction=exp_params['training']['DQN']['fraction_eps'],\n",
    "                    exploration_initial_eps= exp_params['training']['DQN']['start_eps'],\n",
    "                    exploration_final_eps= exp_params['training']['DQN']['final_eps'],\n",
    "                    device=device,\n",
    "                    )\n",
    "    elif name == 'PPO':\n",
    "        model = models['PPO'](  exp_params['training']['policy'], \n",
    "                    env,\n",
    "                    #policy_kwargs=policy_kwargs,\n",
    "                    learning_rate=exp_params['training']['learning_rate'],\n",
    "                    batch_size=exp_params['training']['batch_size'],\n",
    "                    gamma=exp_params['training']['gamma'],\n",
    "                    verbose=exp_params['training']['verbose'],\n",
    "                    device=device,\n",
    "                    )\n",
    "    else:\n",
    "        model = m(  exp_params['training']['policy'], \n",
    "                    env,\n",
    "                    #policy_kwargs=policy_kwargs,\n",
    "                    learning_rate=exp_params['training']['learning_rate'],\n",
    "                    buffer_size=exp_params['training']['buffer_size'],\n",
    "                    learning_starts=exp_params['training']['learning_starts'],\n",
    "                    batch_size=exp_params['training']['batch_size'],\n",
    "                    tau=exp_params['training']['tau'],\n",
    "                    gamma=exp_params['training']['gamma'],\n",
    "                    verbose=exp_params['training']['verbose'],\n",
    "                    device=device,\n",
    "                    )\n",
    "\n",
    "    art_loc, exp_name, run_id = log_helper.learn_and_fix(\n",
    "                                model=model, \n",
    "                                env= env_disc_render if name == 'DQN' else env_render,\n",
    "                                run_name=name,\n",
    "                                episode_count = exp_params['training']['episode_count'],\n",
    "                                parameters=exp_params,\n",
    "                                experiment_id=experiment_id,\n",
    "                                checkpoint_interval=exp_params['validation']['validate_agent_every_n_eps'],\n",
    "                                log_interval=exp_params['validation']['log_interval'])\n",
    "\n",
    "    log_path[name] = f'{art_loc}/{run_id}/artifacts/{exp_name}/sb3/model.zip'\n",
    "\n",
    "    i = i + 1\n"
   ]
  },
  {
   "cell_type": "code",
   "execution_count": null,
   "metadata": {},
   "outputs": [],
   "source": [
    "log_path"
   ]
  },
  {
   "cell_type": "code",
   "execution_count": 11,
   "metadata": {},
   "outputs": [],
   "source": [
    "log_path = {\n",
    " 'DQN': 'mlflow-artifacts:/216/684a0b5a74e7466498e7f42b7b84b0c6/artifacts/env_HumanMoveSimple_exp_2009_114432/sb3/model.zip'\n",
    " }"
   ]
  },
  {
   "cell_type": "code",
   "execution_count": null,
   "metadata": {},
   "outputs": [],
   "source": [
    "experiment_id = 216\n",
    "load_path = os.path.join(str(experiment_id))\n",
    "if  os.path.isdir(load_path) == False:\n",
    "    os.mkdir(load_path)\n",
    "load_path"
   ]
  },
  {
   "cell_type": "code",
   "execution_count": null,
   "metadata": {},
   "outputs": [],
   "source": [
    "loadel_models = {}\n",
    "\n",
    "for model_name, path in log_path.items():\n",
    "    loadel_models[model_name] =  f'{load_path}/{model_name}/'\n",
    "    log_helper.load_artifact(path,loadel_models[model_name])"
   ]
  },
  {
   "cell_type": "code",
   "execution_count": 13,
   "metadata": {},
   "outputs": [],
   "source": [
    "exp_params['training']['episode_count'] = 99000\n",
    "\n",
    "exp_params['options']['finish_dist'] = 10\n",
    "exp_params['options']['start_dist'] = 110\n",
    "exp_params['options']['delta_phi'] = 0\n",
    "options=exp_params['options']\n",
    "\n",
    "env = HumanMoveSimpleAction(target_point_rand=False,options=options)\n",
    "env_disc = HumanMoveSimpleAction(continuous=False, target_point_rand=False,options=options)\n",
    "\n",
    "env_render = HumanMoveSimpleAction(target_point_rand=False, render_mode='rgb_array',options=options)\n",
    "env_disc_render = HumanMoveSimpleAction(continuous=False, target_point_rand=False, render_mode='rgb_array',options=options)"
   ]
  },
  {
   "cell_type": "code",
   "execution_count": null,
   "metadata": {},
   "outputs": [],
   "source": [
    "exp_params['env_name'] = env.name()\n",
    "exp_name = 'env_' + exp_params['env_name'] + '_' + exp_params['exp_name']\n",
    "experiment_id = log_helper.new_experiment(exp_name)\n",
    "exp_params['exp_id'] = experiment_id\n",
    "print(exp_name)"
   ]
  },
  {
   "cell_type": "code",
   "execution_count": null,
   "metadata": {},
   "outputs": [],
   "source": [
    "#!!! Дорасчет в СТАРОМ эксперименте\n",
    "exp_name = log_helper.get_experiment(experiment_id)\n",
    "print(exp_name)\n",
    "exp_params['exp_id'] = experiment_id\n",
    "exp_params['env_name'] = env.name()"
   ]
  },
  {
   "cell_type": "code",
   "execution_count": 15,
   "metadata": {},
   "outputs": [],
   "source": [
    "\n",
    "models_exclude = {'PPO':True, 'DQN': False, 'DDPG': True, 'SAC': True, 'TD3': True}\n",
    "#models_exclude = None"
   ]
  },
  {
   "cell_type": "code",
   "execution_count": null,
   "metadata": {},
   "outputs": [],
   "source": [
    "run_post='_10'\n",
    "exp_params['training']['DQN'] = eps_var['DQN3']\n",
    "\n",
    "for name, model_path in loadel_models.items():\n",
    "\n",
    "    if models_exclude != None and models_exclude[name] == True:\n",
    "        continue\n",
    "    print(name)\n",
    "\n",
    "    exp_params['algorithm_name'] = name\n",
    "    exp_params['seed'] = int(datetime.now(TZ).strftime(\"%H%M%S\"))\n",
    "\n",
    "    set_env = env_disc if name == 'DQN' or name == 'PPO' else env\n",
    "    model = models[name].load(model_path + 'model.zip', env=set_env, device=device)\n",
    "    \n",
    "    #model.seed(seed=exp_params['seed'])\n",
    "\n",
    "    if name == 'DQN':\n",
    "        model.exploration_fraction=exp_params['training']['DQN']['fraction_eps']\n",
    "        model.exploration_initial_eps= exp_params['training']['DQN']['start_eps']\n",
    "        model.exploration_final_eps= exp_params['training']['DQN']['final_eps']\n",
    "        model._setup_model()\n",
    "\n",
    "    art_loc, exp_name, run_id = log_helper.learn_and_fix(\n",
    "                                model=model, \n",
    "                                env= env_disc_render if name == 'DQN' or name == 'PPO' else env_render,\n",
    "                                run_name=name + run_post,\n",
    "                                episode_count = exp_params['training']['episode_count'],\n",
    "                                parameters=exp_params,\n",
    "                                experiment_id=experiment_id,\n",
    "                                checkpoint_interval=exp_params['validation']['validate_agent_every_n_eps'],\n",
    "                                log_interval=exp_params['validation']['log_interval'])"
   ]
  },
  {
   "cell_type": "code",
   "execution_count": null,
   "metadata": {},
   "outputs": [],
   "source": [
    "shutil.rmtree(os.path.join(load_path))"
   ]
  }
 ],
 "metadata": {
  "kernelspec": {
   "display_name": "rl_conda_311",
   "language": "python",
   "name": "python3"
  },
  "language_info": {
   "codemirror_mode": {
    "name": "ipython",
    "version": 3
   },
   "file_extension": ".py",
   "mimetype": "text/x-python",
   "name": "python",
   "nbconvert_exporter": "python",
   "pygments_lexer": "ipython3",
   "version": "3.11.8"
  }
 },
 "nbformat": 4,
 "nbformat_minor": 2
}
