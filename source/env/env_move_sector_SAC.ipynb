{
 "cells": [
  {
   "cell_type": "code",
   "execution_count": 1,
   "metadata": {},
   "outputs": [],
   "source": [
    "import numpy as np\n",
    "from pytz import timezone\n",
    "from datetime import datetime\n",
    "import matplotlib.pyplot as plt\n",
    "\n",
    "TZ = timezone('Europe/Moscow')\n",
    "\n",
    "import sys\n",
    "import os\n",
    "\n",
    "sys.path.append(os.path.abspath('../common'))\n",
    "sys.path.append(os.path.abspath('./'))\n",
    "\n",
    "from env_move_sector_SAC import HumanMoveSectorAction_SAC"
   ]
  },
  {
   "cell_type": "code",
   "execution_count": 2,
   "metadata": {},
   "outputs": [
    {
     "name": "stdout",
     "output_type": "stream",
     "text": [
      "173003\n"
     ]
    },
    {
     "ename": "KeyboardInterrupt",
     "evalue": "",
     "output_type": "error",
     "traceback": [
      "\u001b[1;31m---------------------------------------------------------------------------\u001b[0m",
      "\u001b[1;31mKeyboardInterrupt\u001b[0m                         Traceback (most recent call last)",
      "Cell \u001b[1;32mIn[2], line 30\u001b[0m\n\u001b[0;32m     26\u001b[0m action \u001b[38;5;241m=\u001b[39m env\u001b[38;5;241m.\u001b[39mteach_action()\n\u001b[0;32m     27\u001b[0m \u001b[38;5;66;03m#if tick > 30:\u001b[39;00m\n\u001b[0;32m     28\u001b[0m \u001b[38;5;66;03m#№action = np.array([0.,0.5,0])\u001b[39;00m\n\u001b[1;32m---> 30\u001b[0m observation, reward, terminated, truncated, info \u001b[38;5;241m=\u001b[39m \u001b[43menv\u001b[49m\u001b[38;5;241;43m.\u001b[39;49m\u001b[43mstep\u001b[49m\u001b[43m(\u001b[49m\u001b[43maction\u001b[49m\u001b[43m)\u001b[49m\n\u001b[0;32m     31\u001b[0m \u001b[38;5;28;01mif\u001b[39;00m terminated \u001b[38;5;129;01mor\u001b[39;00m truncated:\n\u001b[0;32m     32\u001b[0m     observation, info \u001b[38;5;241m=\u001b[39m env\u001b[38;5;241m.\u001b[39mreset()\n",
      "File \u001b[1;32mr:\\Scool\\Otus\\HomeWork\\otus_final\\source\\env\\env_move_sector.py:262\u001b[0m, in \u001b[0;36mHumanMoveSectorAction.step\u001b[1;34m(self, action)\u001b[0m\n\u001b[0;32m    259\u001b[0m     \u001b[38;5;28;01mreturn\u001b[39;00m \u001b[38;5;28mself\u001b[39m\u001b[38;5;241m.\u001b[39m_get_render(\u001b[38;5;28;01mTrue\u001b[39;00m), step_reward, terminated, truncated, info\n\u001b[0;32m    260\u001b[0m \u001b[38;5;28;01melse\u001b[39;00m:\n\u001b[1;32m--> 262\u001b[0m     observation, step_reward, terminated, truncated, info \u001b[38;5;241m=\u001b[39m \u001b[38;5;28;43msuper\u001b[39;49m\u001b[43m(\u001b[49m\u001b[43m)\u001b[49m\u001b[38;5;241;43m.\u001b[39;49m\u001b[43mstep\u001b[49m\u001b[43m(\u001b[49m\u001b[43maction\u001b[49m\u001b[43m)\u001b[49m\n\u001b[0;32m    264\u001b[0m     \u001b[38;5;28;01mif\u001b[39;00m \u001b[38;5;28mself\u001b[39m\u001b[38;5;241m.\u001b[39mobject_ignore \u001b[38;5;241m==\u001b[39m \u001b[38;5;28;01mFalse\u001b[39;00m:\n\u001b[0;32m    266\u001b[0m         \u001b[38;5;28;01mfor\u001b[39;00m sector \u001b[38;5;129;01min\u001b[39;00m \u001b[38;5;28mself\u001b[39m\u001b[38;5;241m.\u001b[39msectors\u001b[38;5;241m.\u001b[39mvalues():\n",
      "File \u001b[1;32mr:\\Scool\\Otus\\HomeWork\\otus_final\\source\\env\\env_simple_move.py:337\u001b[0m, in \u001b[0;36mHumanMoveSimpleAction.step\u001b[1;34m(self, action)\u001b[0m\n\u001b[0;32m    334\u001b[0m \u001b[38;5;28mself\u001b[39m\u001b[38;5;241m.\u001b[39mtick \u001b[38;5;241m+\u001b[39m\u001b[38;5;241m=\u001b[39m \u001b[38;5;241m1\u001b[39m\n\u001b[0;32m    336\u001b[0m \u001b[38;5;28;01mif\u001b[39;00m \u001b[38;5;28mself\u001b[39m\u001b[38;5;241m.\u001b[39mis_pygame \u001b[38;5;241m==\u001b[39m \u001b[38;5;28;01mTrue\u001b[39;00m:\n\u001b[1;32m--> 337\u001b[0m     \u001b[38;5;28;43mself\u001b[39;49m\u001b[38;5;241;43m.\u001b[39;49m\u001b[43mhuman_render\u001b[49m\u001b[43m(\u001b[49m\u001b[43m)\u001b[49m\n\u001b[0;32m    339\u001b[0m \u001b[38;5;28;01mif\u001b[39;00m \u001b[38;5;28mself\u001b[39m\u001b[38;5;241m.\u001b[39mobservation_render \u001b[38;5;241m==\u001b[39m \u001b[38;5;28;01mTrue\u001b[39;00m:\n\u001b[0;32m    340\u001b[0m     \u001b[38;5;28;01mreturn\u001b[39;00m \u001b[38;5;28mself\u001b[39m\u001b[38;5;241m.\u001b[39m_get_render(\u001b[38;5;28;01mTrue\u001b[39;00m), step_reward, terminated, truncated, info\n",
      "File \u001b[1;32mr:\\Scool\\Otus\\HomeWork\\otus_final\\source\\env\\env_move_sector.py:627\u001b[0m, in \u001b[0;36mHumanMoveSectorAction.human_render\u001b[1;34m(self)\u001b[0m\n\u001b[0;32m    624\u001b[0m     end \u001b[38;5;241m=\u001b[39m srt \u001b[38;5;241m+\u001b[39m \u001b[38;5;241m4\u001b[39m \u001b[38;5;241m*\u001b[39m \u001b[38;5;28mself\u001b[39m\u001b[38;5;241m.\u001b[39mspeed_local\n\u001b[0;32m    625\u001b[0m     pygame\u001b[38;5;241m.\u001b[39mdraw\u001b[38;5;241m.\u001b[39maaline(\u001b[38;5;28mself\u001b[39m\u001b[38;5;241m.\u001b[39mscreen, red, [srt\u001b[38;5;241m.\u001b[39mx,srt\u001b[38;5;241m.\u001b[39my], [end\u001b[38;5;241m.\u001b[39mx,end\u001b[38;5;241m.\u001b[39my])\n\u001b[1;32m--> 627\u001b[0m \u001b[43mpygame\u001b[49m\u001b[38;5;241;43m.\u001b[39;49m\u001b[43mdisplay\u001b[49m\u001b[38;5;241;43m.\u001b[39;49m\u001b[43mupdate\u001b[49m\u001b[43m(\u001b[49m\u001b[43m)\u001b[49m\n\u001b[0;32m    629\u001b[0m \u001b[38;5;66;03m# устанавливаем частоту обновления экрана\u001b[39;00m\n\u001b[0;32m    630\u001b[0m pygame\u001b[38;5;241m.\u001b[39mtime\u001b[38;5;241m.\u001b[39mClock()\u001b[38;5;241m.\u001b[39mtick(\u001b[38;5;241m60\u001b[39m)\n",
      "\u001b[1;31mKeyboardInterrupt\u001b[0m: "
     ]
    }
   ],
   "source": [
    "\n",
    "seed = int( datetime.now(TZ).strftime(\"%H%M%S\") )\n",
    "print(seed)\n",
    "\n",
    "env = HumanMoveSectorAction_SAC(render_mode = 'human',\n",
    "                            continuous=True, \n",
    "                            target_point_rand=False, \n",
    "                            object_ignore=False, \n",
    "                            seed=seed,\n",
    "                           )\n",
    "\n",
    "total_reward = 0.\n",
    "step_reward = []\n",
    "angle_step_reward = []\n",
    "speed_step_reward = []\n",
    "view_step_reward = []\n",
    "stoper_step_reward = []\n",
    "obstacle_stop_reward = []\n",
    "obstacle_move_reward = []\n",
    "\n",
    "observation, info = env.reset(seed=seed)\n",
    "# course move, speed\n",
    "\n",
    "\n",
    "for tick in range(800):\n",
    "\n",
    "    action = env.teach_action()\n",
    "    #if tick > 30:\n",
    "    #№action = np.array([0.,0.5,0])\n",
    "\n",
    "    observation, reward, terminated, truncated, info = env.step(action)\n",
    "    if terminated or truncated:\n",
    "        observation, info = env.reset()\n",
    "        step_reward.append(reward)\n",
    "        total_reward += reward\n",
    "        print('BREAK',terminated, truncated)\n",
    "        break\n",
    "    \n",
    "    step_reward.append(reward)\n",
    "    total_reward += reward\n",
    "\n",
    "    rews = env.get_rewards()\n",
    "    angle_step_reward.append(rews['angle_reward'])\n",
    "    speed_step_reward.append(rews['speed_reward'])\n",
    "    view_step_reward.append(rews['view_reward'] )\n",
    "    stoper_step_reward.append(rews['stoped_reward'])\n",
    "    obstacle_stop_reward.append(rews['object_stop'])\n",
    "    obstacle_move_reward.append(rews['object_move'])\n",
    "\n",
    "print(len(step_reward))\n",
    "print(total_reward)"
   ]
  },
  {
   "cell_type": "code",
   "execution_count": null,
   "metadata": {},
   "outputs": [],
   "source": [
    "step_reward"
   ]
  },
  {
   "cell_type": "code",
   "execution_count": 3,
   "metadata": {},
   "outputs": [],
   "source": [
    "env.close()"
   ]
  },
  {
   "cell_type": "code",
   "execution_count": 4,
   "metadata": {},
   "outputs": [
    {
     "data": {
      "image/png": "[encoded data removed]",
      "text/plain": [
       "<Figure size 640x480 with 1 Axes>"
      ]
     },
     "metadata": {},
     "output_type": "display_data"
    }
   ],
   "source": [
    "plt.plot(step_reward[:-1])\n",
    "plt.plot(angle_step_reward)\n",
    "plt.plot(speed_step_reward)\n",
    "plt.plot(view_step_reward)\n",
    "plt.plot(stoper_step_reward)\n",
    "plt.plot(obstacle_stop_reward)\n",
    "plt.plot(obstacle_move_reward)\n",
    "plt.legend(['summ','angle','speed','view', 'stoper', 'obst_stop', 'obst_move'])\n",
    "plt.title('Зависимость вознаграждения последних эпизодов от времени')\n",
    "plt.xlabel('Эпизод')\n",
    "plt.ylabel('Полное вознаграждение')\n",
    "plt.show()"
   ]
  },
  {
   "cell_type": "code",
   "execution_count": null,
   "metadata": {},
   "outputs": [],
   "source": [
    "from env_move_sector import HumanMoveSectorAction\n",
    "from stable_baselines3 import DQN, SAC\n",
    "from typing import Any, Dict, Tuple, Union\n",
    "from stable_baselines3.common.evaluation import evaluate_policy\n",
    "from stable_baselines3.common.logger import Logger, Video\n",
    "from moviepy.editor import ImageSequenceClip\n",
    "import torch\n",
    "import numpy as np\n",
    "\n",
    "DQN_path = \"../sb3_SAC/\"\n",
    "\n",
    "tmp_path = DQN_path + \"model_2\"\n",
    "\n",
    "seed = int( datetime.now(TZ).strftime(\"%H%M%S\") )\n",
    "env = HumanMoveSectorAction(render_mode = 'rgb_array', continuous=True, seed=seed)\n",
    "model = SAC.load(tmp_path, env)\n",
    "\n",
    "logger = Logger(folder = DQN_path, output_formats=[\"mp4\"])\n",
    "\n",
    "#Video\n",
    "screens = []\n",
    "\n",
    "def grab_screens(_locals: Dict[str, Any], _globals: Dict[str, Any]) -> None:\n",
    "    \"\"\"\n",
    "    Renders the environment in its current state, recording the screen in the captured `screens` list\n",
    "\n",
    "    :param _locals: A dictionary containing all local variables of the callback's scope\n",
    "    :param _globals: A dictionary containing all global variables of the callback's scope\n",
    "    \"\"\"\n",
    "    screen = env.render()\n",
    "    screens.append(screen)\n",
    "\n",
    "evaluate_policy(\n",
    "    model,\n",
    "    env,\n",
    "    callback=grab_screens,\n",
    "    n_eval_episodes=1,\n",
    "    deterministic=True,\n",
    ")\n",
    "\n",
    "#logger.record(\n",
    "#    \"video\",\n",
    "#    Video(torch.from_numpy(np.asarray([screens])), fps=30),\n",
    "#    exclude=(\"stdout\", \"log\", \"json\", \"csv\"),\n",
    "#)\n",
    "\n",
    "# Generate a sequence of frames\n",
    "clip = ImageSequenceClip(screens[:-1], fps=30)\n",
    "clip.write_videofile('output.mp4')"
   ]
  },
  {
   "cell_type": "code",
   "execution_count": 1,
   "metadata": {},
   "outputs": [],
   "source": [
    "import vector\n",
    "import math"
   ]
  },
  {
   "cell_type": "code",
   "execution_count": 43,
   "metadata": {},
   "outputs": [],
   "source": [
    "\n",
    "v1= vector.obj(rho=1,phi=0)\n",
    "v2= vector.obj(rho=1,phi=4.5)\n"
   ]
  },
  {
   "cell_type": "code",
   "execution_count": null,
   "metadata": {},
   "outputs": [],
   "source": [
    "math.acos(v1 @ v2)"
   ]
  },
  {
   "cell_type": "code",
   "execution_count": null,
   "metadata": {},
   "outputs": [],
   "source": [
    "v1.deltaphi(v2)"
   ]
  },
  {
   "cell_type": "code",
   "execution_count": 34,
   "metadata": {},
   "outputs": [],
   "source": [
    "v3 = v1.rotateZ(0.5)"
   ]
  },
  {
   "cell_type": "code",
   "execution_count": null,
   "metadata": {},
   "outputs": [],
   "source": [
    "v3"
   ]
  },
  {
   "cell_type": "code",
   "execution_count": 26,
   "metadata": {},
   "outputs": [],
   "source": [
    "d1= vector.obj(rho=1,phi=0, eta=0.5)\n",
    "d2= vector.obj(rho=1,phi=0.5, eta =0)\n",
    "\n",
    "d3 = vector.obj(x=1,y=0,z=0)\n",
    "d4 = vector.obj(x=0,y=1,z=0)"
   ]
  },
  {
   "cell_type": "code",
   "execution_count": 28,
   "metadata": {},
   "outputs": [],
   "source": [
    "d1/=d1.mag"
   ]
  },
  {
   "cell_type": "code",
   "execution_count": null,
   "metadata": {},
   "outputs": [],
   "source": [
    "d1.mag"
   ]
  },
  {
   "cell_type": "code",
   "execution_count": null,
   "metadata": {},
   "outputs": [],
   "source": [
    "d4.cross(d3)"
   ]
  },
  {
   "cell_type": "code",
   "execution_count": 1,
   "metadata": {},
   "outputs": [],
   "source": [
    "import sys\n",
    "import os\n",
    "import math\n",
    "import random\n",
    "\n",
    "sys.path.append(os.path.abspath('./'))\n",
    "\n",
    "from env_move_sector import SectorView\n",
    "\n",
    "sectors = {}\n",
    "#Az,Ev,D,T   \n",
    "sectors[  0] = SectorView(0)\n",
    "sectors[ 30] = SectorView(30)\n",
    "sectors[ 60] = SectorView(60)\n",
    "sectors[ 90] = SectorView(90)\n",
    "sectors[120] = SectorView(120)\n",
    "sectors[150] = SectorView(150)\n",
    "sectors[180] = SectorView(180)\n",
    "sectors[210] = SectorView(210)\n",
    "sectors[240] = SectorView(240)\n",
    "sectors[270] = SectorView(270)\n",
    "sectors[300] = SectorView(300)\n",
    "sectors[330] = SectorView(330)"
   ]
  },
  {
   "cell_type": "code",
   "execution_count": null,
   "metadata": {},
   "outputs": [],
   "source": [
    "\n",
    "obst = {\n",
    "\n",
    "    #1:  [-10,10,10,12],\n",
    "    #2:  [-15,12,0,10],\n",
    "    #3:  [10,11,26,13],\n",
    "    #4:  [-25,13,-14,12],\n",
    "    #5:  [10,18,170,3],\n",
    "    #6:  [-150,14,10,22],\n",
    "    #7:  [150,10,-150,12],\n",
    "    8:  [20,10,40,12],\n",
    "    9:  [50,10,70,12],\n",
    "    10: [80,10,100,12],\n",
    "    11: [110,10,130,12],\n",
    "    12: [140,10,160,12],\n",
    "    13: [170,10,190,12],\n",
    "    14: [200,10,220,12],\n",
    "    15: [230,10,250,12],\n",
    "    16: [260,10,280,12],\n",
    "    17: [290,10,310,12],\n",
    "    18: [320,10,340,12],\n",
    "    19: [350,10,10,12],\n",
    "}\n",
    "\n",
    "\n",
    "\n",
    "for k, s in sectors.items():\n",
    "    s.clear()\n",
    "\n",
    "for k, s in sectors.items():\n",
    "    print(f'Sector {k} - size: {s.size()}')\n",
    "\n",
    "for id, o in obst.items():\n",
    "    for k, s in sectors.items():\n",
    "        s.add_obstacle(id, 'tree', math.radians(o[0]), o[1],  math.radians(o[2]), o[3])\n",
    "\n",
    "for k, s in sectors.items():\n",
    "    print(s.get_obs())"
   ]
  },
  {
   "cell_type": "code",
   "execution_count": null,
   "metadata": {},
   "outputs": [],
   "source": [
    "\n",
    "obst2 = {\n",
    "\n",
    "    8:  [10,10,30,12],\n",
    "    9:  [40,10,60,12],\n",
    "    10: [70,10,90,12],\n",
    "    11: [100,10,120,12],\n",
    "    12: [130,10,150,12],\n",
    "    13: [160,10,180,12],\n",
    "    14: [190,10,210,12],\n",
    "    15: [220,10,240,12],\n",
    "    16: [250,10,270,12],\n",
    "    17: [280,10,300,12],\n",
    "    18: [310,10,330,12],\n",
    "    19: [340,10,0,12],\n",
    "}\n",
    "\n",
    "\n",
    "\n",
    "for k, s in sectors.items():\n",
    "    s.clear()\n",
    "\n",
    "for k, s in sectors.items():\n",
    "    print(f'Sector {k} - size: {s.size()}')\n",
    "\n",
    "for id, o in obst2.items():\n",
    "    for k, s in sectors.items():\n",
    "        s.add_obstacle(id, 'tree', math.radians(o[0]), o[1],  math.radians(o[2]), o[3])\n",
    "\n",
    "for k, s in sectors.items():\n",
    "    print(k, s.get_obs())"
   ]
  }
 ],
 "metadata": {
  "kernelspec": {
   "display_name": "rl_conda_311",
   "language": "python",
   "name": "python3"
  },
  "language_info": {
   "codemirror_mode": {
    "name": "ipython",
    "version": 3
   },
   "file_extension": ".py",
   "mimetype": "text/x-python",
   "name": "python",
   "nbconvert_exporter": "python",
   "pygments_lexer": "ipython3",
   "version": "3.11.8"
  }
 },
 "nbformat": 4,
 "nbformat_minor": 2
}
