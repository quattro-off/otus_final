{
 "cells": [
  {
   "cell_type": "code",
   "execution_count": 1,
   "metadata": {},
   "outputs": [],
   "source": [
    "from pytz import timezone\n",
    "from datetime import datetime\n",
    "\n",
    "TZ = timezone('Europe/Moscow')"
   ]
  },
  {
   "cell_type": "code",
   "execution_count": 9,
   "metadata": {},
   "outputs": [
    {
     "name": "stdout",
     "output_type": "stream",
     "text": [
      "BREAK\n",
      "66\n",
      "599.700879972548\n"
     ]
    }
   ],
   "source": [
    "from env_simple_move import HumanMoveSimpleAction\n",
    "\n",
    "\n",
    "env = HumanMoveSimpleAction(render_mode = 'human')\n",
    "seed = int( datetime.now(TZ).strftime(\"%H%M%S\") )\n",
    "env.action_space.seed(seed)\n",
    "\n",
    "total_reward = 0.\n",
    "step_reward = []\n",
    "\n",
    "observation, info = env.reset(seed=seed)\n",
    "# b_move_to_view, course move, course view, speed, state(0-stand, 1-crouch, 2-pron), action(0-idle, 1-climb)\n",
    "\n",
    "\n",
    "for tick in range(260):\n",
    "\n",
    "    action = env.teach_action()\n",
    "\n",
    "    observation, reward, terminated, truncated, info = env.step(action)\n",
    "    if terminated or truncated:\n",
    "        observation, info = env.reset()\n",
    "        step_reward.append(reward)\n",
    "        total_reward += reward\n",
    "        print('BREAK')\n",
    "        break\n",
    "    \n",
    "    step_reward.append(reward)\n",
    "    total_reward += reward\n",
    "\n",
    "print(len(step_reward))\n",
    "print(total_reward)"
   ]
  },
  {
   "cell_type": "code",
   "execution_count": 10,
   "metadata": {},
   "outputs": [],
   "source": [
    "env.close()"
   ]
  },
  {
   "cell_type": "code",
   "execution_count": 5,
   "metadata": {},
   "outputs": [],
   "source": [
    "import pygame\n",
    "import math\n",
    "import vector \n",
    "\n",
    "\n",
    "\n",
    "zero = vector.obj(x=300, y=300)\n",
    "\n",
    "screen_width = zero.x * 2\n",
    "screen_height = zero.y * 2\n",
    "screen = pygame.display.set_mode((screen_width, screen_height))\n",
    "pygame.display.set_caption(\"Moving\")\n",
    "\n",
    "black = (0, 0, 0)\n",
    "white = (255, 255, 255)\n",
    "red = (255, 0, 0)\n",
    "green = (0, 255, 0)\n",
    "blue = (0, 0, 255)\n",
    "\n",
    "\n",
    "\n",
    "\n",
    "while True:\n",
    "\n",
    "    screen.fill(black)\n",
    "\n",
    "\n",
    "    pygame.draw.circle(screen, green, (zero.x, zero.y), 3)\n",
    "\n",
    "    # рисуем треугольник\n",
    "    course = math.radians(90)\n",
    "\n",
    "    triangle = zero\n",
    "    triangle_width = 10\n",
    "    triangle_height = 10\n",
    "\n",
    "    corner2 = vector.obj(x= triangle.x + triangle_width / 2, y= triangle.y + triangle_height) - zero \n",
    "    corner3 = vector.obj(x= triangle.x - triangle_width / 2, y= triangle.y + triangle_height) - zero\n",
    "\n",
    "    corner2 = corner2.rotateZ(course) + zero\n",
    "    corner3 = corner3.rotateZ(course) + zero\n",
    "\n",
    "    triangle_points = [(triangle.x, triangle.y), (corner2.x, corner2.y),\n",
    "                    (corner3.x, corner3.y)]\n",
    "    \n",
    "    pygame.draw.polygon(screen, red, triangle_points)\n",
    "\n",
    "    pygame.draw.circle(screen, blue, (zero.x + 150, zero.y - 90), 10)\n",
    "\n",
    "    pygame.draw.circle(screen, white, (zero.x - 150, zero.y + 90), 20)\n",
    "\n",
    "    pygame.display.update()\n",
    "\n",
    "    # устанавливаем частоту обновления экрана\n",
    "    pygame.time.Clock().tick(60)\n",
    "\n",
    "    b_quit = False\n",
    "    for event in pygame.event.get():\n",
    "        \n",
    "        if event.type == pygame.QUIT:\n",
    "            b_quit = True\n",
    "        if event.type == pygame.MOUSEBUTTONDOWN: # останавливаем падение звезд по клику\n",
    "            freeze = True\n",
    "        if event.type == pygame.KEYDOWN:\n",
    "            if event.key == pygame.K_ESCAPE:\n",
    "                b_quit = True\n",
    "            if event.key == pygame.K_RETURN: # возобновляем движение вниз, если нажат Enter\n",
    "                freeze = False\n",
    "\n",
    "    if b_quit == True:\n",
    "        break\n",
    "\n",
    "pygame.quit()"
   ]
  },
  {
   "cell_type": "code",
   "execution_count": 2,
   "metadata": {},
   "outputs": [],
   "source": [
    "pygame.quit()"
   ]
  }
 ],
 "metadata": {
  "kernelspec": {
   "display_name": "rl_conda_311",
   "language": "python",
   "name": "python3"
  },
  "language_info": {
   "codemirror_mode": {
    "name": "ipython",
    "version": 3
   },
   "file_extension": ".py",
   "mimetype": "text/x-python",
   "name": "python",
   "nbconvert_exporter": "python",
   "pygments_lexer": "ipython3",
   "version": "3.11.8"
  }
 },
 "nbformat": 4,
 "nbformat_minor": 2
}
