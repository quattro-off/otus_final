{
 "cells": [
  {
   "cell_type": "code",
   "execution_count": 7,
   "metadata": {},
   "outputs": [],
   "source": [
    "from pytz import timezone\n",
    "from datetime import datetime\n",
    "\n",
    "TZ = timezone('Europe/Moscow')"
   ]
  },
  {
   "cell_type": "code",
   "execution_count": 3,
   "metadata": {},
   "outputs": [
    {
     "name": "stdout",
     "output_type": "stream",
     "text": [
      "164346\n",
      "BREAK\n",
      "60\n",
      "543.123456535397\n"
     ]
    }
   ],
   "source": [
    "from env_simple_move import HumanMoveSimpleAction\n",
    "\n",
    "\n",
    "env = HumanMoveSimpleAction(render_mode = 'human', continuous=True)\n",
    "seed = int( datetime.now(TZ).strftime(\"%H%M%S\") )\n",
    "print(seed)\n",
    "env.action_space.seed(seed)\n",
    "\n",
    "total_reward = 0.\n",
    "step_reward = []\n",
    "\n",
    "observation, info = env.reset(seed=seed)\n",
    "# course move, speed\n",
    "\n",
    "\n",
    "for tick in range(800):\n",
    "\n",
    "    action = env.teach_action(observation)\n",
    "\n",
    "    observation, reward, terminated, truncated, info = env.step(action)\n",
    "    if terminated or truncated:\n",
    "        observation, info = env.reset()\n",
    "        step_reward.append(reward)\n",
    "        total_reward += reward\n",
    "        print('BREAK')\n",
    "        break\n",
    "    \n",
    "    step_reward.append(reward)\n",
    "    total_reward += reward\n",
    "\n",
    "print(len(step_reward))\n",
    "print(total_reward)"
   ]
  },
  {
   "cell_type": "code",
   "execution_count": 4,
   "metadata": {},
   "outputs": [],
   "source": [
    "env.close()"
   ]
  },
  {
   "cell_type": "code",
   "execution_count": 5,
   "metadata": {},
   "outputs": [],
   "source": [
    "import pygame\n",
    "import math\n",
    "import vector \n",
    "\n",
    "\n",
    "\n",
    "zero = vector.obj(x=300, y=300)\n",
    "\n",
    "screen_width = zero.x * 2\n",
    "screen_height = zero.y * 2\n",
    "screen = pygame.display.set_mode((screen_width, screen_height))\n",
    "pygame.display.set_caption(\"Moving\")\n",
    "\n",
    "black = (0, 0, 0)\n",
    "white = (255, 255, 255)\n",
    "red = (255, 0, 0)\n",
    "green = (0, 255, 0)\n",
    "blue = (0, 0, 255)\n",
    "\n",
    "\n",
    "\n",
    "\n",
    "while True:\n",
    "\n",
    "    screen.fill(black)\n",
    "\n",
    "\n",
    "    pygame.draw.circle(screen, green, (zero.x, zero.y), 3)\n",
    "\n",
    "    # рисуем треугольник\n",
    "    course = math.radians(90)\n",
    "\n",
    "    triangle = zero\n",
    "    triangle_width = 10\n",
    "    triangle_height = 10\n",
    "\n",
    "    corner2 = vector.obj(x= triangle.x + triangle_width / 2, y= triangle.y + triangle_height) - zero \n",
    "    corner3 = vector.obj(x= triangle.x - triangle_width / 2, y= triangle.y + triangle_height) - zero\n",
    "\n",
    "    corner2 = corner2.rotateZ(course) + zero\n",
    "    corner3 = corner3.rotateZ(course) + zero\n",
    "\n",
    "    triangle_points = [(triangle.x, triangle.y), (corner2.x, corner2.y),\n",
    "                    (corner3.x, corner3.y)]\n",
    "    \n",
    "    pygame.draw.polygon(screen, red, triangle_points)\n",
    "\n",
    "    pygame.draw.circle(screen, blue, (zero.x + 150, zero.y - 90), 10)\n",
    "\n",
    "    pygame.draw.circle(screen, white, (zero.x - 150, zero.y + 90), 20)\n",
    "\n",
    "    pygame.display.update()\n",
    "\n",
    "    # устанавливаем частоту обновления экрана\n",
    "    pygame.time.Clock().tick(60)\n",
    "\n",
    "    b_quit = False\n",
    "    for event in pygame.event.get():\n",
    "        \n",
    "        if event.type == pygame.QUIT:\n",
    "            b_quit = True\n",
    "        if event.type == pygame.MOUSEBUTTONDOWN: # останавливаем падение звезд по клику\n",
    "            freeze = True\n",
    "        if event.type == pygame.KEYDOWN:\n",
    "            if event.key == pygame.K_ESCAPE:\n",
    "                b_quit = True\n",
    "            if event.key == pygame.K_RETURN: # возобновляем движение вниз, если нажат Enter\n",
    "                freeze = False\n",
    "\n",
    "    if b_quit == True:\n",
    "        break\n",
    "\n",
    "pygame.quit()"
   ]
  },
  {
   "cell_type": "code",
   "execution_count": 2,
   "metadata": {},
   "outputs": [],
   "source": [
    "pygame.quit()"
   ]
  },
  {
   "cell_type": "code",
   "execution_count": 18,
   "metadata": {},
   "outputs": [
    {
     "ename": "TypeError",
     "evalue": "ImageDraw.point() got an unexpected keyword argument 'width'",
     "output_type": "error",
     "traceback": [
      "\u001b[1;31m---------------------------------------------------------------------------\u001b[0m",
      "\u001b[1;31mTypeError\u001b[0m                                 Traceback (most recent call last)",
      "Cell \u001b[1;32mIn[18], line 24\u001b[0m\n\u001b[0;32m     14\u001b[0m draw\u001b[38;5;241m.\u001b[39mellipse((\u001b[38;5;241m100\u001b[39m, \u001b[38;5;241m100\u001b[39m, \u001b[38;5;241m110\u001b[39m, \u001b[38;5;241m110\u001b[39m), fill\u001b[38;5;241m=\u001b[39m\u001b[38;5;124m'\u001b[39m\u001b[38;5;124mblue\u001b[39m\u001b[38;5;124m'\u001b[39m, outline\u001b[38;5;241m=\u001b[39m\u001b[38;5;124m'\u001b[39m\u001b[38;5;124mblue\u001b[39m\u001b[38;5;124m'\u001b[39m)\n\u001b[0;32m     16\u001b[0m draw\u001b[38;5;241m.\u001b[39mpolygon(\n\u001b[0;32m     17\u001b[0m     xy\u001b[38;5;241m=\u001b[39m(\n\u001b[0;32m     18\u001b[0m         (\u001b[38;5;241m200\u001b[39m, \u001b[38;5;241m200\u001b[39m),\n\u001b[1;32m   (...)\u001b[0m\n\u001b[0;32m     21\u001b[0m     ), fill\u001b[38;5;241m=\u001b[39m\u001b[38;5;124m'\u001b[39m\u001b[38;5;124mred\u001b[39m\u001b[38;5;124m'\u001b[39m, outline\u001b[38;5;241m=\u001b[39m\u001b[38;5;124m'\u001b[39m\u001b[38;5;124mred\u001b[39m\u001b[38;5;124m'\u001b[39m\n\u001b[0;32m     22\u001b[0m )\n\u001b[1;32m---> 24\u001b[0m \u001b[43mdraw\u001b[49m\u001b[38;5;241;43m.\u001b[39;49m\u001b[43mpoint\u001b[49m\u001b[43m(\u001b[49m\u001b[43m(\u001b[49m\u001b[38;5;241;43m450\u001b[39;49m\u001b[43m,\u001b[49m\u001b[43m \u001b[49m\u001b[38;5;241;43m450\u001b[39;49m\u001b[43m)\u001b[49m\u001b[43m,\u001b[49m\u001b[43m \u001b[49m\u001b[43mfill\u001b[49m\u001b[38;5;241;43m=\u001b[39;49m\u001b[43mgreen\u001b[49m\u001b[43m,\u001b[49m\u001b[43m \u001b[49m\u001b[43mwidth\u001b[49m\u001b[38;5;241;43m=\u001b[39;49m\u001b[38;5;241;43m2\u001b[39;49m\u001b[43m)\u001b[49m\n\u001b[0;32m     26\u001b[0m inp \u001b[38;5;241m=\u001b[39m np\u001b[38;5;241m.\u001b[39masarray(im)\n\u001b[0;32m     28\u001b[0m im\u001b[38;5;241m.\u001b[39msave(\u001b[38;5;124m'\u001b[39m\u001b[38;5;124mdraw-render.jpg\u001b[39m\u001b[38;5;124m'\u001b[39m, quality\u001b[38;5;241m=\u001b[39m\u001b[38;5;241m95\u001b[39m)\n",
      "\u001b[1;31mTypeError\u001b[0m: ImageDraw.point() got an unexpected keyword argument 'width'"
     ]
    }
   ],
   "source": [
    "from PIL import Image, ImageDraw\n",
    "import numpy as np\n",
    "\n",
    "black = (0, 0, 0)\n",
    "white = (255, 255, 255)\n",
    "red = (255, 0, 0)\n",
    "green = (0, 255, 0)\n",
    "blue = (0, 0, 255)\n",
    " \n",
    "# Пустой желтый фон.\n",
    "im = Image.new('RGB', (600, 600), (0, 0, 0))\n",
    "draw = ImageDraw.Draw(im)\n",
    " \n",
    "draw.ellipse((100, 100, 110, 110), fill='blue', outline='blue')\n",
    " \n",
    "draw.polygon(\n",
    "    xy=(\n",
    "        (200, 200),\n",
    "        (300, 100),\n",
    "        (250, 50)\n",
    "    ), fill='red', outline='red'\n",
    ")\n",
    "\n",
    "draw.point((450, 450), fill=green)\n",
    "\n",
    "inp = np.asarray(im)\n",
    "\n",
    "im.save('draw-render.jpg', quality=95)"
   ]
  },
  {
   "cell_type": "code",
   "execution_count": 1,
   "metadata": {},
   "outputs": [
    {
     "name": "stderr",
     "output_type": "stream",
     "text": [
      "r:\\Scool\\Anaconda\\envs\\rl_conda_311\\Lib\\site-packages\\stable_baselines3\\common\\evaluation.py:67: UserWarning: Evaluation environment is not wrapped with a ``Monitor`` wrapper. This may result in reporting modified episode lengths and rewards, if other wrappers happen to modify these. Consider wrapping environment first with ``Monitor`` wrapper.\n",
      "  warnings.warn(\n"
     ]
    }
   ],
   "source": [
    "from env_simple_move import HumanMoveSimpleAction\n",
    "import numpy as np\n",
    "from stable_baselines3 import DQN\n",
    "from typing import Any, Dict, Tuple, Union\n",
    "from stable_baselines3.common.evaluation import evaluate_policy\n",
    "from stable_baselines3.common.logger import Video\n",
    "from stable_baselines3.common.logger import KVWriter, Logger\n",
    "import torch\n",
    "from stable_baselines3.common.vec_env import VecVideoRecorder, DummyVecEnv\n",
    "\n",
    "DQN_path = \"../sb3_DQN/\"\n",
    "\n",
    "tmp_path = DQN_path + \"model_1\"\n",
    "\n",
    "env = HumanMoveSimpleAction(render_mode = 'rgb_array', continuous=False)\n",
    "model = DQN.load(tmp_path, env)\n",
    "\n",
    "logger = Logger(folder = DQN_path, output_formats=[\"stdout\", \"log\", \"json\", \"csv\"])\n",
    "\n",
    "#Video\n",
    "screens = []\n",
    "\n",
    "def grab_screens(_locals: Dict[str, Any], _globals: Dict[str, Any]) -> None:\n",
    "    \"\"\"\n",
    "    Renders the environment in its current state, recording the screen in the captured `screens` list\n",
    "\n",
    "    :param _locals: A dictionary containing all local variables of the callback's scope\n",
    "    :param _globals: A dictionary containing all global variables of the callback's scope\n",
    "    \"\"\"\n",
    "    screen = env.render()\n",
    "    screens.append(screen.transpose(2, 0, 1))\n",
    "\n",
    "evaluate_policy(\n",
    "    model,\n",
    "    env,\n",
    "    callback=grab_screens,\n",
    "    n_eval_episodes=1,\n",
    "    deterministic=True,\n",
    ")\n",
    "\n",
    "logger.record(\n",
    "    \"video\",\n",
    "    Video(torch.from_numpy(np.asarray([screens])), fps=30),\n",
    "    #exclude=(\"stdout\", \"log\", \"json\", \"csv\"),\n",
    ")"
   ]
  },
  {
   "cell_type": "code",
   "execution_count": 9,
   "metadata": {},
   "outputs": [
    {
     "name": "stdout",
     "output_type": "stream",
     "text": [
      "Moviepy - Building video r:\\Scool\\Otus\\HomeWork\\otus_final\\source\\env\\logs\\videos\\random-agent-MoveSimple-step-0-to-step-300.mp4.\n",
      "Moviepy - Writing video r:\\Scool\\Otus\\HomeWork\\otus_final\\source\\env\\logs\\videos\\random-agent-MoveSimple-step-0-to-step-300.mp4\n",
      "\n"
     ]
    },
    {
     "name": "stderr",
     "output_type": "stream",
     "text": [
      "                                                              "
     ]
    },
    {
     "name": "stdout",
     "output_type": "stream",
     "text": [
      "Moviepy - Done !\n",
      "Moviepy - video ready r:\\Scool\\Otus\\HomeWork\\otus_final\\source\\env\\logs\\videos\\random-agent-MoveSimple-step-0-to-step-300.mp4\n"
     ]
    },
    {
     "name": "stderr",
     "output_type": "stream",
     "text": [
      "\r"
     ]
    }
   ],
   "source": [
    "from env_simple_move import HumanMoveSimpleAction\n",
    "import numpy as np\n",
    "from stable_baselines3 import DQN\n",
    "from typing import Any, Dict, Tuple, Union\n",
    "from stable_baselines3.common.evaluation import evaluate_policy\n",
    "from stable_baselines3.common.logger import Video\n",
    "from stable_baselines3.common.logger import KVWriter, Logger\n",
    "import torch\n",
    "from stable_baselines3.common.vec_env import VecVideoRecorder, DummyVecEnv\n",
    "\n",
    "env_id = \"MoveSimple\"\n",
    "video_folder = \"logs/videos/\"\n",
    "video_length = 30 * 10\n",
    "\n",
    "\n",
    "DQN_path = \"../sb3_DQN/\"\n",
    "\n",
    "tmp_path = DQN_path + \"model\"\n",
    "\n",
    "seed = int( datetime.now(TZ).strftime(\"%H%M%S\") )\n",
    "env = HumanMoveSimpleAction(render_mode = 'rgb_array', continuous=False, seed = seed)\n",
    "read_model = DQN.load(tmp_path, env)\n",
    "\n",
    "vec_env = DummyVecEnv([lambda: env])\n",
    "\n",
    "# Record the video starting at the first step\n",
    "vec_env = VecVideoRecorder(vec_env, video_folder,\n",
    "                       record_video_trigger=lambda x: x == 0, video_length=video_length,\n",
    "                       name_prefix=f\"DQN-agent-{env_id}\")\n",
    "\n",
    "\n",
    "observation = vec_env.reset()\n",
    "t1 = False\n",
    "t2 = False\n",
    "t3 = False\n",
    "for _ in range(video_length + 1):\n",
    "  action, _ = read_model.predict(observation)\n",
    "  observation, t1, t2, t3 = vec_env.step(action)\n",
    "  if t2[0] == True:\n",
    "    break\n",
    "# Save the video\n",
    "vec_env.close()"
   ]
  }
 ],
 "metadata": {
  "kernelspec": {
   "display_name": "rl_conda_311",
   "language": "python",
   "name": "python3"
  },
  "language_info": {
   "codemirror_mode": {
    "name": "ipython",
    "version": 3
   },
   "file_extension": ".py",
   "mimetype": "text/x-python",
   "name": "python",
   "nbconvert_exporter": "python",
   "pygments_lexer": "ipython3",
   "version": "3.11.8"
  }
 },
 "nbformat": 4,
 "nbformat_minor": 2
}
