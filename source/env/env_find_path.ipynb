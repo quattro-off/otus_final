{
 "cells": [
  {
   "cell_type": "code",
   "execution_count": 3,
   "metadata": {},
   "outputs": [
    {
     "name": "stdout",
     "output_type": "stream",
     "text": [
      "114909\n",
      "BREAK 24 True False\n",
      "25\n",
      "42.0\n"
     ]
    }
   ],
   "source": [
    "import numpy as np\n",
    "from pytz import timezone\n",
    "from datetime import datetime\n",
    "import matplotlib.pyplot as plt\n",
    "\n",
    "TZ = timezone('Europe/Moscow')\n",
    "\n",
    "from env_find_path import FindPath\n",
    "\n",
    "step_reward = []\n",
    "area_size = 400\n",
    "option = {'start_radius': 20}\n",
    "\n",
    "env = FindPath(render_mode = 'human', target_point_rand=False, area_size=area_size, observation_render=True, options=option )\n",
    "seed = int( datetime.now(TZ).strftime(\"%H%M%S\") )\n",
    "print(seed)\n",
    "env.action_space.seed(seed)\n",
    "\n",
    "total_reward = 0.\n",
    "\n",
    "observation, info = env.reset(seed=seed)\n",
    "\n",
    "for tick in range(1800):\n",
    "\n",
    "    action = env.teach_action()\n",
    "    #action = np.array([1,0.2,0.])\n",
    "    #if tick > 100:\n",
    "    #    action = env.teach_action()\n",
    "\n",
    "    #action = 4\n",
    "    #if observation[3] < 0.5:\n",
    "    #    action = 1\n",
    "    #else:\n",
    "    #    action = 2\n",
    "\n",
    "    observation, reward, terminated, truncated, info = env.step(action)\n",
    "\n",
    "    #for y in range(area_size):\n",
    "    #    line = observation[y*area_size:(y+1)*area_size]\n",
    "    #    print(line)\n",
    "    #print('------------')\n",
    "\n",
    "    if terminated or truncated:\n",
    "        observation, info = env.reset()\n",
    "        step_reward.append(reward)\n",
    "        total_reward += reward\n",
    "        print('BREAK', tick, terminated, truncated)\n",
    "        break\n",
    "    \n",
    "    step_reward.append(reward)\n",
    "    total_reward += reward\n",
    "\n",
    "\n",
    "print(len(step_reward))\n",
    "print(total_reward)"
   ]
  },
  {
   "cell_type": "code",
   "execution_count": 3,
   "metadata": {},
   "outputs": [
    {
     "data": {
      "text/plain": [
       "[1.0, 1.0, 1.0, 1.0, 1.0, 1.0, 1.0, 1.0, 1.0, 9.0]"
      ]
     },
     "execution_count": 3,
     "metadata": {},
     "output_type": "execute_result"
    }
   ],
   "source": [
    "step_reward"
   ]
  },
  {
   "cell_type": "code",
   "execution_count": 4,
   "metadata": {},
   "outputs": [],
   "source": [
    "env.close()"
   ]
  },
  {
   "cell_type": "code",
   "execution_count": 5,
   "metadata": {},
   "outputs": [
    {
     "data": {
      "image/png": "[encoded data removed]",
      "text/plain": [
       "<Figure size 640x480 with 1 Axes>"
      ]
     },
     "metadata": {},
     "output_type": "display_data"
    }
   ],
   "source": [
    "plt.plot(step_reward)\n",
    "plt.title('Зависимость вознаграждения последних эпизодов от времени')\n",
    "plt.xlabel('Эпизод')\n",
    "plt.ylabel('Вознаграждения')\n",
    "plt.show()"
   ]
  },
  {
   "cell_type": "code",
   "execution_count": 6,
   "metadata": {},
   "outputs": [],
   "source": [
    "from gymnasium.spaces import Box\n",
    "import numpy as np\n",
    "\n",
    "observation_space_local = Box(low=0,high=1)\n",
    "max_size = 5"
   ]
  },
  {
   "cell_type": "code",
   "execution_count": 7,
   "metadata": {},
   "outputs": [
    {
     "data": {
      "text/plain": [
       "Box(-10, 1000, (25,), int16)"
      ]
     },
     "execution_count": 7,
     "metadata": {},
     "output_type": "execute_result"
    }
   ],
   "source": [
    "observation_space_local = Box(\n",
    "    low = -10,\n",
    "    high = 1000,\n",
    "    dtype = np.int16,\n",
    "    shape = (25,)\n",
    ")\n",
    "observation_space_local"
   ]
  },
  {
   "cell_type": "code",
   "execution_count": 8,
   "metadata": {},
   "outputs": [
    {
     "data": {
      "text/plain": [
       "array([787, 450, 398, 245, 709, 989, 603, 694,  46, 412, 634, 198, 746,\n",
       "       496, 414, 243, 552, 651, 956, 264, 824,  -8, 517, 737, 599],\n",
       "      dtype=int16)"
      ]
     },
     "execution_count": 8,
     "metadata": {},
     "output_type": "execute_result"
    }
   ],
   "source": [
    "\n",
    "observation_space_local.sample()"
   ]
  },
  {
   "cell_type": "code",
   "execution_count": 9,
   "metadata": {},
   "outputs": [
    {
     "data": {
      "text/plain": [
       "Box(-10, 1000, (25,), int16)"
      ]
     },
     "execution_count": 9,
     "metadata": {},
     "output_type": "execute_result"
    }
   ],
   "source": [
    "observation_space_local"
   ]
  },
  {
   "cell_type": "code",
   "execution_count": 10,
   "metadata": {},
   "outputs": [
    {
     "data": {
      "text/plain": [
       "Box(-10, 1000, (25,), int16)"
      ]
     },
     "execution_count": 10,
     "metadata": {},
     "output_type": "execute_result"
    }
   ],
   "source": [
    "observation_space = Box(low=np.array([-10,-10,-10,-10,-10,-10,-10,-10,-10,-10,-10,-10,-10,-10,-10,-10,-10,-10,-10,-10,-10,-10,-10,-10,-10], dtype=np.float32), \n",
    "                        high=np.array([1000,1000,1000,1000,1000,1000,1000,1000,1000,1000,1000,1000,1000,1000,1000,1000,1000,1000,1000,1000,1000,1000,1000,1000,1000,], dtype=np.float32),\n",
    "                        shape=(25,), \n",
    "                        dtype=np.int16)\n",
    "observation_space"
   ]
  }
 ],
 "metadata": {
  "kernelspec": {
   "display_name": "rl_conda_311",
   "language": "python",
   "name": "python3"
  },
  "language_info": {
   "codemirror_mode": {
    "name": "ipython",
    "version": 3
   },
   "file_extension": ".py",
   "mimetype": "text/x-python",
   "name": "python",
   "nbconvert_exporter": "python",
   "pygments_lexer": "ipython3",
   "version": "3.11.8"
  }
 },
 "nbformat": 4,
 "nbformat_minor": 2
}
