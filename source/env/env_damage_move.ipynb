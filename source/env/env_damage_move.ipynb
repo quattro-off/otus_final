{
 "cells": [
  {
   "cell_type": "code",
   "execution_count": 1,
   "metadata": {},
   "outputs": [],
   "source": [
    "from pytz import timezone\n",
    "from datetime import datetime\n",
    "\n",
    "TZ = timezone('Europe/Moscow')\n",
    "\n",
    "import sys\n",
    "import os\n",
    "\n",
    "\n",
    "sys.path.append(os.path.abspath('./'))"
   ]
  },
  {
   "cell_type": "code",
   "execution_count": 2,
   "metadata": {},
   "outputs": [],
   "source": [
    "from env_damage_move import HumanMoveDamageAction\n"
   ]
  },
  {
   "cell_type": "code",
   "execution_count": 20,
   "metadata": {},
   "outputs": [
    {
     "name": "stdout",
     "output_type": "stream",
     "text": [
      "180441\n",
      "BREAK\n",
      "71\n",
      "440.13643544961207\n"
     ]
    }
   ],
   "source": [
    "\n",
    "\n",
    "env = HumanMoveDamageAction(render_mode = 'human', damage_zone=10)\n",
    "\n",
    "\n",
    "\n",
    "seed = int( datetime.now(TZ).strftime(\"%H%M%S\") )\n",
    "print(seed)\n",
    "env.action_space.seed(seed)\n",
    "\n",
    "total_reward = 0.\n",
    "step_reward = []\n",
    "\n",
    "observation, info = env.reset(seed=seed)\n",
    "# course move, speed\n",
    "\n",
    "\n",
    "for tick in range(800):\n",
    "\n",
    "    action = env.teach_action(observation)\n",
    "\n",
    "    observation, reward, terminated, truncated, info = env.step(action)\n",
    "    if terminated or truncated:\n",
    "        observation, info = env.reset()\n",
    "        step_reward.append(reward)\n",
    "        total_reward += reward\n",
    "        print('BREAK')\n",
    "        break\n",
    "    \n",
    "    step_reward.append(reward)\n",
    "    total_reward += reward\n",
    "\n",
    "print(len(step_reward))\n",
    "print(total_reward)"
   ]
  },
  {
   "cell_type": "code",
   "execution_count": 21,
   "metadata": {},
   "outputs": [],
   "source": [
    "env.close()"
   ]
  }
 ],
 "metadata": {
  "kernelspec": {
   "display_name": "rl_conda_311",
   "language": "python",
   "name": "python3"
  },
  "language_info": {
   "codemirror_mode": {
    "name": "ipython",
    "version": 3
   },
   "file_extension": ".py",
   "mimetype": "text/x-python",
   "name": "python",
   "nbconvert_exporter": "python",
   "pygments_lexer": "ipython3",
   "version": "3.11.8"
  }
 },
 "nbformat": 4,
 "nbformat_minor": 2
}
