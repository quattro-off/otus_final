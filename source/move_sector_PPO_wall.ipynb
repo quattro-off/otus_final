{
 "cells": [
  {
   "cell_type": "code",
   "execution_count": 1,
   "metadata": {},
   "outputs": [],
   "source": [
    "import torch\n",
    "import numpy as np\n",
    "from stable_baselines3 import PPO\n",
    "\n",
    "\n",
    "import os, shutil, sys\n",
    "sys.path.append(os.path.abspath('./env'))\n",
    "sys.path.append(os.path.abspath('./common'))\n",
    "\n",
    "from env.env_move_wall  import HumanMoveAroundWallAction\n",
    "import common.mlflow_sb3_helper as mlf\n",
    "\n",
    "from pytz import timezone\n",
    "from datetime import datetime\n",
    "\n",
    "TZ = timezone('Europe/Moscow')\n",
    "device = \"cuda\" if torch.cuda.is_available() else \"cpu\""
   ]
  },
  {
   "cell_type": "code",
   "execution_count": 2,
   "metadata": {},
   "outputs": [],
   "source": [
    "exp_params = {\n",
    "    'env_name': '',\n",
    "    'algorithm_name': '',\n",
    "    'exp_id': 0,\n",
    "    'exp_name': f'exp_{datetime.now(TZ).strftime(\"%d%m_%H%M%S\")}',\n",
    "    'seed': 21,\n",
    "    'net': {\n",
    "        'activation': 'ReLU',\n",
    "        'pi': [256, 256],\n",
    "        'qf': [256, 256],\n",
    "        'vf': [256, 256],\n",
    "    },\n",
    "    'training': {\n",
    "        'iteration_count': 1,\n",
    "        'episode_count': 39000,\n",
    "        'policy': 'MlpPolicy',\n",
    "        'learning_rate': 0.001,\n",
    "        'buffer_size': 1500000,\n",
    "        'learning_starts': 100,\n",
    "        'batch_size': 256,\n",
    "        'tau': 0.001,\n",
    "        'gamma': 0.95,\n",
    "        'verbose': 0,\n",
    "        'device': device,\n",
    "    },\n",
    "    'options':{\n",
    "        'finish_dist':100,\n",
    "        'start_dist':110,\n",
    "        'delta_phi':0\n",
    "    },\n",
    "    'validation': {\n",
    "        'validate_agent_every_n_eps': 10000,\n",
    "        'log_interval': 10\n",
    "    },\n",
    "    'evaluation': {\n",
    "        'episode_count': 3\n",
    "    }\n",
    "}\n"
   ]
  },
  {
   "cell_type": "code",
   "execution_count": 3,
   "metadata": {},
   "outputs": [],
   "source": [
    "env = HumanMoveAroundWallAction()\n",
    "env_render = HumanMoveAroundWallAction(render_mode='rgb_array')"
   ]
  },
  {
   "cell_type": "code",
   "execution_count": 3,
   "metadata": {},
   "outputs": [],
   "source": [
    "\n",
    "mlflow_server = mlf.MLflowServerHelper(\"http://192.168.0.206:2670\", False)\n",
    "mlflow_path = {}"
   ]
  },
  {
   "cell_type": "code",
   "execution_count": 4,
   "metadata": {},
   "outputs": [],
   "source": [
    "mlflow_path = {\n",
    " 'PPO': 'mlflow-artifacts:/313/5bb9702086704f81ba8d1fbdcb638b4c/artifacts/env_MoveSector_RanTP_exp_2909_074419/sb3/model.zip'\n",
    " }"
   ]
  },
  {
   "cell_type": "code",
   "execution_count": 5,
   "metadata": {},
   "outputs": [
    {
     "data": {
      "text/plain": [
       "'313'"
      ]
     },
     "execution_count": 5,
     "metadata": {},
     "output_type": "execute_result"
    }
   ],
   "source": [
    "experiment_id = 313\n",
    "load_path = os.path.join(str(experiment_id))\n",
    "if  os.path.isdir(load_path) == False:\n",
    "    os.mkdir(load_path)\n",
    "load_path"
   ]
  },
  {
   "cell_type": "code",
   "execution_count": 6,
   "metadata": {},
   "outputs": [
    {
     "data": {
      "application/vnd.jupyter.widget-view+json": {
       "model_id": "b59bbf19a0ea437c851892063f1418c5",
       "version_major": 2,
       "version_minor": 0
      },
      "text/plain": [
       "Downloading artifacts:   0%|          | 0/1 [00:00<?, ?it/s]"
      ]
     },
     "metadata": {},
     "output_type": "display_data"
    }
   ],
   "source": [
    "loadel_models = {}\n",
    "\n",
    "for model_name, path in mlflow_path.items():\n",
    "    loadel_models[model_name] =  f'{load_path}/{model_name}/'\n",
    "    mlflow_server.load_artifact(path,loadel_models[model_name])"
   ]
  },
  {
   "cell_type": "code",
   "execution_count": 7,
   "metadata": {},
   "outputs": [],
   "source": [
    "env = HumanMoveAroundWallAction()\n",
    "env_render = HumanMoveAroundWallAction(render_mode='rgb_array')"
   ]
  },
  {
   "cell_type": "code",
   "execution_count": 8,
   "metadata": {},
   "outputs": [
    {
     "name": "stderr",
     "output_type": "stream",
     "text": [
      "2024/10/11 21:32:35 INFO mlflow.tracking.fluent: Experiment with name 'env_Wall_MoveSector_RanTP_exp_1110_213211' does not exist. Creating a new experiment.\n"
     ]
    },
    {
     "name": "stdout",
     "output_type": "stream",
     "text": [
      "env_Wall_MoveSector_RanTP_exp_1110_213211\n"
     ]
    }
   ],
   "source": [
    "exp_params['env_name'] = env.name()\n",
    "exp_name = 'env_' + exp_params['env_name'] + '_' + exp_params['exp_name']\n",
    "experiment_id = mlflow_server.new_experiment(exp_name)\n",
    "exp_params['exp_id'] = experiment_id\n",
    "print(exp_name)"
   ]
  },
  {
   "cell_type": "code",
   "execution_count": null,
   "metadata": {},
   "outputs": [],
   "source": [
    "#!!! Дорасчет в СТАРОМ эксперименте\n",
    "exp_name = mlflow_server.get_experiment(experiment_id)\n",
    "print(exp_name)\n",
    "exp_params['exp_id'] = experiment_id\n",
    "exp_params['env_name'] = env.name()"
   ]
  },
  {
   "cell_type": "code",
   "execution_count": 9,
   "metadata": {},
   "outputs": [
    {
     "name": "stdout",
     "output_type": "stream",
     "text": [
      "313/PPO/\n"
     ]
    },
    {
     "data": {
      "application/vnd.jupyter.widget-view+json": {
       "model_id": "462990e751684b278e639ea53a36ec11",
       "version_major": 2,
       "version_minor": 0
      },
      "text/plain": [
       "Output()"
      ]
     },
     "metadata": {},
     "output_type": "display_data"
    },
    {
     "data": {
      "text/html": [
       "<pre style=\"white-space:pre;overflow-x:auto;line-height:normal;font-family:Menlo,'DejaVu Sans Mono',consolas,'Courier New',monospace\"></pre>\n"
      ],
      "text/plain": []
     },
     "metadata": {},
     "output_type": "display_data"
    },
    {
     "data": {
      "text/html": [
       "<pre style=\"white-space:pre;overflow-x:auto;line-height:normal;font-family:Menlo,'DejaVu Sans Mono',consolas,'Courier New',monospace\">\n",
       "</pre>\n"
      ],
      "text/plain": [
       "\n"
      ]
     },
     "metadata": {},
     "output_type": "display_data"
    },
    {
     "name": "stdout",
     "output_type": "stream",
     "text": [
      "Moviepy - Building video env_Wall_MoveSector_RanTP_exp_1110_213211//agent.mp4.\n",
      "Moviepy - Writing video env_Wall_MoveSector_RanTP_exp_1110_213211//agent.mp4\n",
      "\n"
     ]
    },
    {
     "name": "stderr",
     "output_type": "stream",
     "text": [
      "                                                                 \r"
     ]
    },
    {
     "name": "stdout",
     "output_type": "stream",
     "text": [
      "Moviepy - Done !\n",
      "Moviepy - video ready env_Wall_MoveSector_RanTP_exp_1110_213211//agent.mp4\n"
     ]
    },
    {
     "data": {
      "application/vnd.jupyter.widget-view+json": {
       "model_id": "69fc03803f9a4338b8566c01d883a30a",
       "version_major": 2,
       "version_minor": 0
      },
      "text/plain": [
       "Output()"
      ]
     },
     "metadata": {},
     "output_type": "display_data"
    },
    {
     "data": {
      "text/html": [
       "<pre style=\"white-space:pre;overflow-x:auto;line-height:normal;font-family:Menlo,'DejaVu Sans Mono',consolas,'Courier New',monospace\"></pre>\n"
      ],
      "text/plain": []
     },
     "metadata": {},
     "output_type": "display_data"
    },
    {
     "data": {
      "text/html": [
       "<pre style=\"white-space:pre;overflow-x:auto;line-height:normal;font-family:Menlo,'DejaVu Sans Mono',consolas,'Courier New',monospace\">\n",
       "</pre>\n"
      ],
      "text/plain": [
       "\n"
      ]
     },
     "metadata": {},
     "output_type": "display_data"
    },
    {
     "name": "stdout",
     "output_type": "stream",
     "text": [
      "Moviepy - Building video env_Wall_MoveSector_RanTP_exp_1110_213211//agent.mp4.\n",
      "Moviepy - Writing video env_Wall_MoveSector_RanTP_exp_1110_213211//agent.mp4\n",
      "\n"
     ]
    },
    {
     "name": "stderr",
     "output_type": "stream",
     "text": [
      "                                                                 \r"
     ]
    },
    {
     "name": "stdout",
     "output_type": "stream",
     "text": [
      "Moviepy - Done !\n",
      "Moviepy - video ready env_Wall_MoveSector_RanTP_exp_1110_213211//agent.mp4\n"
     ]
    },
    {
     "data": {
      "application/vnd.jupyter.widget-view+json": {
       "model_id": "18f4f09d2e0d4af7a1722b588cadfd27",
       "version_major": 2,
       "version_minor": 0
      },
      "text/plain": [
       "Output()"
      ]
     },
     "metadata": {},
     "output_type": "display_data"
    },
    {
     "data": {
      "text/html": [
       "<pre style=\"white-space:pre;overflow-x:auto;line-height:normal;font-family:Menlo,'DejaVu Sans Mono',consolas,'Courier New',monospace\"></pre>\n"
      ],
      "text/plain": []
     },
     "metadata": {},
     "output_type": "display_data"
    },
    {
     "data": {
      "text/html": [
       "<pre style=\"white-space:pre;overflow-x:auto;line-height:normal;font-family:Menlo,'DejaVu Sans Mono',consolas,'Courier New',monospace\">\n",
       "</pre>\n"
      ],
      "text/plain": [
       "\n"
      ]
     },
     "metadata": {},
     "output_type": "display_data"
    },
    {
     "name": "stdout",
     "output_type": "stream",
     "text": [
      "Moviepy - Building video env_Wall_MoveSector_RanTP_exp_1110_213211//agent.mp4.\n",
      "Moviepy - Writing video env_Wall_MoveSector_RanTP_exp_1110_213211//agent.mp4\n",
      "\n"
     ]
    },
    {
     "name": "stderr",
     "output_type": "stream",
     "text": [
      "                                                                 \r"
     ]
    },
    {
     "name": "stdout",
     "output_type": "stream",
     "text": [
      "Moviepy - Done !\n",
      "Moviepy - video ready env_Wall_MoveSector_RanTP_exp_1110_213211//agent.mp4\n"
     ]
    }
   ],
   "source": [
    "\n",
    "exp_params['algorithm_name'] = 'PPO'\n",
    "\n",
    "path = loadel_models['PPO']\n",
    "print(path)\n",
    "name = 'PPO'\n",
    "\n",
    "is_first = True\n",
    "\n",
    "for i in range(exp_params['evaluation']['episode_count']):\n",
    "\n",
    "\n",
    "    exp_params['seed'] = int(datetime.now(TZ).strftime(\"%H%M%S\"))\n",
    "\n",
    "    if is_first:\n",
    "        model = PPO.load(f'{path}/model.zip', env=env, device=device)\n",
    "        is_first = False\n",
    "    else:\n",
    "        model = PPO.load(f'{exp_name}/model.zip', env=env, device=device)\n",
    "\n",
    "\n",
    "    art_loc, exp_name, run_id = mlflow_server.learn_and_fix(\n",
    "                                model=model, \n",
    "                                env= env_render,\n",
    "                                run_name=f'{name}_{i+1}',\n",
    "                                episode_count = exp_params['training']['episode_count'],\n",
    "                                parameters=exp_params,\n",
    "                                experiment_id=experiment_id,\n",
    "                                checkpoint_interval=exp_params['validation']['validate_agent_every_n_eps'],\n",
    "                                log_interval=exp_params['validation']['log_interval'])\n",
    "\n",
    "    mlflow_path[name] = f'{art_loc}/{run_id}/artifacts/{exp_name}/sb3/model.zip'\n",
    "\n"
   ]
  },
  {
   "cell_type": "code",
   "execution_count": null,
   "metadata": {},
   "outputs": [],
   "source": [
    "mlflow_path"
   ]
  },
  {
   "cell_type": "code",
   "execution_count": null,
   "metadata": {},
   "outputs": [],
   "source": [
    "shutil.rmtree(os.path.join(load_path))"
   ]
  }
 ],
 "metadata": {
  "kernelspec": {
   "display_name": "rl_conda_311",
   "language": "python",
   "name": "python3"
  },
  "language_info": {
   "codemirror_mode": {
    "name": "ipython",
    "version": 3
   },
   "file_extension": ".py",
   "mimetype": "text/x-python",
   "name": "python",
   "nbconvert_exporter": "python",
   "pygments_lexer": "ipython3",
   "version": "3.11.8"
  }
 },
 "nbformat": 4,
 "nbformat_minor": 2
}
