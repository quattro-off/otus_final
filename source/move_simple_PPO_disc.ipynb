{
 "cells": [
  {
   "cell_type": "code",
   "execution_count": 1,
   "metadata": {},
   "outputs": [],
   "source": [
    "import torch\n",
    "import numpy as np\n",
    "from stable_baselines3 import PPO\n",
    "from stable_baselines3.common.noise import NormalActionNoise\n",
    "\n",
    "import os, shutil, sys\n",
    "sys.path.append(os.path.abspath('./env'))\n",
    "sys.path.append(os.path.abspath('./common'))\n",
    "\n",
    "from env.env_simple_move  import HumanMoveSimpleAction\n",
    "import common.mlflow_sb3_helper as mlf\n",
    "\n",
    "from pytz import timezone\n",
    "from datetime import datetime\n",
    "\n",
    "TZ = timezone('Europe/Moscow')\n",
    "device = \"cuda\" if torch.cuda.is_available() else \"cpu\""
   ]
  },
  {
   "cell_type": "code",
   "execution_count": 2,
   "metadata": {},
   "outputs": [],
   "source": [
    "exp_params = {\n",
    "    'env_name': '',\n",
    "    'algorithm_name': '',\n",
    "    'exp_id': 0,\n",
    "    'exp_name': f'exp_{datetime.now(TZ).strftime(\"%d%m_%H%M%S\")}',\n",
    "    'seed': 21,\n",
    "    'net': {\n",
    "        'activation': 'ReLU',\n",
    "        'pi': [256, 256],\n",
    "        'qf': [256, 256],\n",
    "        'vf': [256, 256],\n",
    "    },\n",
    "    'training': {\n",
    "        'iteration_count': 1,\n",
    "        'episode_count': 59000,\n",
    "        'policy': 'MlpPolicy',\n",
    "        'learning_rate': 0.003,\n",
    "        'buffer_size': 1500000,\n",
    "        'learning_starts': 100,\n",
    "        'batch_size': 256,\n",
    "        'tau': 0.005,\n",
    "        'gamma': 0.99,\n",
    "        'verbose': 0,\n",
    "        'device': device,\n",
    "    },\n",
    "    'options':{\n",
    "        'finish_dist':100,\n",
    "        'start_dist':110,\n",
    "        'delta_phi':0\n",
    "    },\n",
    "    'validation': {\n",
    "        'validate_agent_every_n_eps': 10000,\n",
    "        'log_interval': 10\n",
    "    },\n",
    "    'evaluation': {\n",
    "        'episode_count': 1\n",
    "    }\n",
    "}\n",
    "\n",
    "option_var ={\n",
    "    #'PPO 100_0':{'finish_dist':100, 'start_dist':110, 'delta_phi':0 },\n",
    "    'PPO 80_0':{'finish_dist':80, 'start_dist':110, 'delta_phi':0 },\n",
    "    'PPO 60_0':{'finish_dist':60, 'start_dist':110, 'delta_phi':0 },\n",
    "    'PPO 40_0':{'finish_dist':40, 'start_dist':110, 'delta_phi':0 },\n",
    "    'PPO 20_0':{'finish_dist':20, 'start_dist':110, 'delta_phi':0 },\n",
    "    'PPO 10_0':{'finish_dist':10, 'start_dist':110, 'delta_phi':0 },\n",
    "    'PPO 10_10':{'finish_dist':10, 'start_dist':110, 'delta_phi':10 },\n",
    "    'PPO 10_20':{'finish_dist':10, 'start_dist':110, 'delta_phi':20 },\n",
    "    'PPO 10_30':{'finish_dist':10, 'start_dist':110, 'delta_phi':30 },\n",
    "    'PPO 10_40':{'finish_dist':10, 'start_dist':110, 'delta_phi':40 },\n",
    "}\n",
    "\n",
    "option_var2 ={\n",
    "    #'PPO 100_0':{'finish_dist':100, 'start_dist':110, 'delta_phi':0 },\n",
    "    'PPO 80_0':{'finish_dist':80, 'start_dist':110, 'delta_phi':0 },\n",
    "    'PPO 80_20':{'finish_dist':80, 'start_dist':110, 'delta_phi':20 },\n",
    "    'PPO 80_45':{'finish_dist':80, 'start_dist':110, 'delta_phi':45 },\n",
    "    'PPO 80_90':{'finish_dist':80, 'start_dist':110, 'delta_phi':90 },\n",
    "    'PPO 80_135':{'finish_dist':80, 'start_dist':110, 'delta_phi':135 },\n",
    "    'PPO 80_180':{'finish_dist':80, 'start_dist':110, 'delta_phi':180 },\n",
    "    'PPO 60_180':{'finish_dist':60, 'start_dist':110, 'delta_phi':180 },\n",
    "    'PPO 40_180':{'finish_dist':40, 'start_dist':110, 'delta_phi':180 },\n",
    "    'PPO 20_180':{'finish_dist':20, 'start_dist':110, 'delta_phi':180 },\n",
    "    'PPO 10_180':{'finish_dist':10, 'start_dist':110, 'delta_phi':180 },\n",
    "}"
   ]
  },
  {
   "cell_type": "code",
   "execution_count": 3,
   "metadata": {},
   "outputs": [],
   "source": [
    "options=exp_params['options']\n",
    "#options=None\n",
    "\n",
    "env_disc = HumanMoveSimpleAction(continuous=False, target_point_rand=False, options=options)\n",
    "env_disc_render = HumanMoveSimpleAction(continuous=False, target_point_rand=False, render_mode='rgb_array', options=options)\n"
   ]
  },
  {
   "cell_type": "code",
   "execution_count": 4,
   "metadata": {},
   "outputs": [],
   "source": [
    "\n",
    "mlflow_server = mlf.MLflowServerHelper(\"http://192.168.0.206:2670\", False)\n",
    "mlflow_path = {}"
   ]
  },
  {
   "cell_type": "code",
   "execution_count": 5,
   "metadata": {},
   "outputs": [
    {
     "name": "stderr",
     "output_type": "stream",
     "text": [
      "2024/09/21 20:18:32 INFO mlflow.tracking.fluent: Experiment with name 'env_HumanMoveSimple_exp_2109_201832' does not exist. Creating a new experiment.\n"
     ]
    }
   ],
   "source": [
    "#!!!!! Новый эксперимент\n",
    "exp_params['env_name'] = env_disc.name()\n",
    "exp_name = 'env_' + exp_params['env_name'] + '_' + exp_params['exp_name']\n",
    "experiment_id = mlflow_server.new_experiment(exp_name)\n"
   ]
  },
  {
   "cell_type": "code",
   "execution_count": null,
   "metadata": {},
   "outputs": [],
   "source": [
    "#!!!!! Дорасчет старого эксперимента\n",
    "experiment_id = 207\n",
    "exp_name = mlflow_server.get_experiment(experiment_id)\n",
    "\n",
    "print(exp_name)"
   ]
  },
  {
   "cell_type": "code",
   "execution_count": 6,
   "metadata": {},
   "outputs": [
    {
     "name": "stdout",
     "output_type": "stream",
     "text": [
      "PPO 80_0\n"
     ]
    },
    {
     "data": {
      "application/vnd.jupyter.widget-view+json": {
       "model_id": "1b2c21de7b81431ba01a785c6ae98ff7",
       "version_major": 2,
       "version_minor": 0
      },
      "text/plain": [
       "Output()"
      ]
     },
     "metadata": {},
     "output_type": "display_data"
    },
    {
     "data": {
      "text/html": [
       "<pre style=\"white-space:pre;overflow-x:auto;line-height:normal;font-family:Menlo,'DejaVu Sans Mono',consolas,'Courier New',monospace\"></pre>\n"
      ],
      "text/plain": []
     },
     "metadata": {},
     "output_type": "display_data"
    },
    {
     "data": {
      "text/html": [
       "<pre style=\"white-space:pre;overflow-x:auto;line-height:normal;font-family:Menlo,'DejaVu Sans Mono',consolas,'Courier New',monospace\">\n",
       "</pre>\n"
      ],
      "text/plain": [
       "\n"
      ]
     },
     "metadata": {},
     "output_type": "display_data"
    },
    {
     "name": "stdout",
     "output_type": "stream",
     "text": [
      "Moviepy - Building video env_HumanMoveSimple_exp_2109_201832//agent.mp4.\n",
      "Moviepy - Writing video env_HumanMoveSimple_exp_2109_201832//agent.mp4\n",
      "\n"
     ]
    },
    {
     "name": "stderr",
     "output_type": "stream",
     "text": [
      "                                                               \r"
     ]
    },
    {
     "name": "stdout",
     "output_type": "stream",
     "text": [
      "Moviepy - Done !\n",
      "Moviepy - video ready env_HumanMoveSimple_exp_2109_201832//agent.mp4\n",
      "PPO 80_20\n",
      "env_HumanMoveSimple_exp_2109_201832\n"
     ]
    },
    {
     "data": {
      "application/vnd.jupyter.widget-view+json": {
       "model_id": "95660f06f7e24cd09be14dd206b6cc8a",
       "version_major": 2,
       "version_minor": 0
      },
      "text/plain": [
       "Output()"
      ]
     },
     "metadata": {},
     "output_type": "display_data"
    },
    {
     "data": {
      "text/html": [
       "<pre style=\"white-space:pre;overflow-x:auto;line-height:normal;font-family:Menlo,'DejaVu Sans Mono',consolas,'Courier New',monospace\"></pre>\n"
      ],
      "text/plain": []
     },
     "metadata": {},
     "output_type": "display_data"
    },
    {
     "data": {
      "text/html": [
       "<pre style=\"white-space:pre;overflow-x:auto;line-height:normal;font-family:Menlo,'DejaVu Sans Mono',consolas,'Courier New',monospace\">\n",
       "</pre>\n"
      ],
      "text/plain": [
       "\n"
      ]
     },
     "metadata": {},
     "output_type": "display_data"
    },
    {
     "name": "stdout",
     "output_type": "stream",
     "text": [
      "Moviepy - Building video env_HumanMoveSimple_exp_2109_201832//agent.mp4.\n",
      "Moviepy - Writing video env_HumanMoveSimple_exp_2109_201832//agent.mp4\n",
      "\n"
     ]
    },
    {
     "name": "stderr",
     "output_type": "stream",
     "text": [
      "                                                               \r"
     ]
    },
    {
     "name": "stdout",
     "output_type": "stream",
     "text": [
      "Moviepy - Done !\n",
      "Moviepy - video ready env_HumanMoveSimple_exp_2109_201832//agent.mp4\n",
      "PPO 80_45\n",
      "env_HumanMoveSimple_exp_2109_201832\n"
     ]
    },
    {
     "data": {
      "application/vnd.jupyter.widget-view+json": {
       "model_id": "afab8ca20ada4475b4593701f1d44437",
       "version_major": 2,
       "version_minor": 0
      },
      "text/plain": [
       "Output()"
      ]
     },
     "metadata": {},
     "output_type": "display_data"
    },
    {
     "data": {
      "text/html": [
       "<pre style=\"white-space:pre;overflow-x:auto;line-height:normal;font-family:Menlo,'DejaVu Sans Mono',consolas,'Courier New',monospace\"></pre>\n"
      ],
      "text/plain": []
     },
     "metadata": {},
     "output_type": "display_data"
    },
    {
     "data": {
      "text/html": [
       "<pre style=\"white-space:pre;overflow-x:auto;line-height:normal;font-family:Menlo,'DejaVu Sans Mono',consolas,'Courier New',monospace\">\n",
       "</pre>\n"
      ],
      "text/plain": [
       "\n"
      ]
     },
     "metadata": {},
     "output_type": "display_data"
    },
    {
     "name": "stdout",
     "output_type": "stream",
     "text": [
      "Moviepy - Building video env_HumanMoveSimple_exp_2109_201832//agent.mp4.\n",
      "Moviepy - Writing video env_HumanMoveSimple_exp_2109_201832//agent.mp4\n",
      "\n"
     ]
    },
    {
     "name": "stderr",
     "output_type": "stream",
     "text": [
      "                                                               \r"
     ]
    },
    {
     "name": "stdout",
     "output_type": "stream",
     "text": [
      "Moviepy - Done !\n",
      "Moviepy - video ready env_HumanMoveSimple_exp_2109_201832//agent.mp4\n",
      "PPO 80_90\n",
      "env_HumanMoveSimple_exp_2109_201832\n"
     ]
    },
    {
     "data": {
      "application/vnd.jupyter.widget-view+json": {
       "model_id": "78ccc64127f44fcf95fed39440026577",
       "version_major": 2,
       "version_minor": 0
      },
      "text/plain": [
       "Output()"
      ]
     },
     "metadata": {},
     "output_type": "display_data"
    },
    {
     "data": {
      "text/html": [
       "<pre style=\"white-space:pre;overflow-x:auto;line-height:normal;font-family:Menlo,'DejaVu Sans Mono',consolas,'Courier New',monospace\"></pre>\n"
      ],
      "text/plain": []
     },
     "metadata": {},
     "output_type": "display_data"
    },
    {
     "data": {
      "text/html": [
       "<pre style=\"white-space:pre;overflow-x:auto;line-height:normal;font-family:Menlo,'DejaVu Sans Mono',consolas,'Courier New',monospace\">\n",
       "</pre>\n"
      ],
      "text/plain": [
       "\n"
      ]
     },
     "metadata": {},
     "output_type": "display_data"
    },
    {
     "name": "stdout",
     "output_type": "stream",
     "text": [
      "Moviepy - Building video env_HumanMoveSimple_exp_2109_201832//agent.mp4.\n",
      "Moviepy - Writing video env_HumanMoveSimple_exp_2109_201832//agent.mp4\n",
      "\n"
     ]
    },
    {
     "name": "stderr",
     "output_type": "stream",
     "text": [
      "                                                               \r"
     ]
    },
    {
     "name": "stdout",
     "output_type": "stream",
     "text": [
      "Moviepy - Done !\n",
      "Moviepy - video ready env_HumanMoveSimple_exp_2109_201832//agent.mp4\n",
      "PPO 80_135\n",
      "env_HumanMoveSimple_exp_2109_201832\n"
     ]
    },
    {
     "data": {
      "application/vnd.jupyter.widget-view+json": {
       "model_id": "8113cfe7746240c8b46c2944eb6a7b59",
       "version_major": 2,
       "version_minor": 0
      },
      "text/plain": [
       "Output()"
      ]
     },
     "metadata": {},
     "output_type": "display_data"
    },
    {
     "data": {
      "text/html": [
       "<pre style=\"white-space:pre;overflow-x:auto;line-height:normal;font-family:Menlo,'DejaVu Sans Mono',consolas,'Courier New',monospace\"></pre>\n"
      ],
      "text/plain": []
     },
     "metadata": {},
     "output_type": "display_data"
    },
    {
     "data": {
      "text/html": [
       "<pre style=\"white-space:pre;overflow-x:auto;line-height:normal;font-family:Menlo,'DejaVu Sans Mono',consolas,'Courier New',monospace\">\n",
       "</pre>\n"
      ],
      "text/plain": [
       "\n"
      ]
     },
     "metadata": {},
     "output_type": "display_data"
    },
    {
     "name": "stdout",
     "output_type": "stream",
     "text": [
      "Moviepy - Building video env_HumanMoveSimple_exp_2109_201832//agent.mp4.\n",
      "Moviepy - Writing video env_HumanMoveSimple_exp_2109_201832//agent.mp4\n",
      "\n"
     ]
    },
    {
     "name": "stderr",
     "output_type": "stream",
     "text": [
      "                                                               \r"
     ]
    },
    {
     "name": "stdout",
     "output_type": "stream",
     "text": [
      "Moviepy - Done !\n",
      "Moviepy - video ready env_HumanMoveSimple_exp_2109_201832//agent.mp4\n",
      "PPO 80_180\n",
      "env_HumanMoveSimple_exp_2109_201832\n"
     ]
    },
    {
     "data": {
      "application/vnd.jupyter.widget-view+json": {
       "model_id": "8348daacbea946159bc89f58a17001cf",
       "version_major": 2,
       "version_minor": 0
      },
      "text/plain": [
       "Output()"
      ]
     },
     "metadata": {},
     "output_type": "display_data"
    },
    {
     "data": {
      "text/html": [
       "<pre style=\"white-space:pre;overflow-x:auto;line-height:normal;font-family:Menlo,'DejaVu Sans Mono',consolas,'Courier New',monospace\"></pre>\n"
      ],
      "text/plain": []
     },
     "metadata": {},
     "output_type": "display_data"
    },
    {
     "data": {
      "text/html": [
       "<pre style=\"white-space:pre;overflow-x:auto;line-height:normal;font-family:Menlo,'DejaVu Sans Mono',consolas,'Courier New',monospace\">\n",
       "</pre>\n"
      ],
      "text/plain": [
       "\n"
      ]
     },
     "metadata": {},
     "output_type": "display_data"
    },
    {
     "name": "stdout",
     "output_type": "stream",
     "text": [
      "Moviepy - Building video env_HumanMoveSimple_exp_2109_201832//agent.mp4.\n",
      "Moviepy - Writing video env_HumanMoveSimple_exp_2109_201832//agent.mp4\n",
      "\n"
     ]
    },
    {
     "name": "stderr",
     "output_type": "stream",
     "text": [
      "                                                               \r"
     ]
    },
    {
     "name": "stdout",
     "output_type": "stream",
     "text": [
      "Moviepy - Done !\n",
      "Moviepy - video ready env_HumanMoveSimple_exp_2109_201832//agent.mp4\n",
      "PPO 60_180\n",
      "env_HumanMoveSimple_exp_2109_201832\n"
     ]
    },
    {
     "data": {
      "application/vnd.jupyter.widget-view+json": {
       "model_id": "42662c2d8da64beda3547d8612be1cb1",
       "version_major": 2,
       "version_minor": 0
      },
      "text/plain": [
       "Output()"
      ]
     },
     "metadata": {},
     "output_type": "display_data"
    },
    {
     "data": {
      "text/html": [
       "<pre style=\"white-space:pre;overflow-x:auto;line-height:normal;font-family:Menlo,'DejaVu Sans Mono',consolas,'Courier New',monospace\"></pre>\n"
      ],
      "text/plain": []
     },
     "metadata": {},
     "output_type": "display_data"
    },
    {
     "data": {
      "text/html": [
       "<pre style=\"white-space:pre;overflow-x:auto;line-height:normal;font-family:Menlo,'DejaVu Sans Mono',consolas,'Courier New',monospace\">\n",
       "</pre>\n"
      ],
      "text/plain": [
       "\n"
      ]
     },
     "metadata": {},
     "output_type": "display_data"
    },
    {
     "name": "stdout",
     "output_type": "stream",
     "text": [
      "Moviepy - Building video env_HumanMoveSimple_exp_2109_201832//agent.mp4.\n",
      "Moviepy - Writing video env_HumanMoveSimple_exp_2109_201832//agent.mp4\n",
      "\n"
     ]
    },
    {
     "name": "stderr",
     "output_type": "stream",
     "text": [
      "                                                               \r"
     ]
    },
    {
     "name": "stdout",
     "output_type": "stream",
     "text": [
      "Moviepy - Done !\n",
      "Moviepy - video ready env_HumanMoveSimple_exp_2109_201832//agent.mp4\n",
      "PPO 40_180\n",
      "env_HumanMoveSimple_exp_2109_201832\n"
     ]
    },
    {
     "data": {
      "application/vnd.jupyter.widget-view+json": {
       "model_id": "9da43e5f77d94c2ca829500933361061",
       "version_major": 2,
       "version_minor": 0
      },
      "text/plain": [
       "Output()"
      ]
     },
     "metadata": {},
     "output_type": "display_data"
    },
    {
     "data": {
      "text/html": [
       "<pre style=\"white-space:pre;overflow-x:auto;line-height:normal;font-family:Menlo,'DejaVu Sans Mono',consolas,'Courier New',monospace\"></pre>\n"
      ],
      "text/plain": []
     },
     "metadata": {},
     "output_type": "display_data"
    },
    {
     "data": {
      "text/html": [
       "<pre style=\"white-space:pre;overflow-x:auto;line-height:normal;font-family:Menlo,'DejaVu Sans Mono',consolas,'Courier New',monospace\">\n",
       "</pre>\n"
      ],
      "text/plain": [
       "\n"
      ]
     },
     "metadata": {},
     "output_type": "display_data"
    },
    {
     "name": "stdout",
     "output_type": "stream",
     "text": [
      "Moviepy - Building video env_HumanMoveSimple_exp_2109_201832//agent.mp4.\n",
      "Moviepy - Writing video env_HumanMoveSimple_exp_2109_201832//agent.mp4\n",
      "\n"
     ]
    },
    {
     "name": "stderr",
     "output_type": "stream",
     "text": [
      "                                                               \r"
     ]
    },
    {
     "name": "stdout",
     "output_type": "stream",
     "text": [
      "Moviepy - Done !\n",
      "Moviepy - video ready env_HumanMoveSimple_exp_2109_201832//agent.mp4\n",
      "PPO 20_180\n",
      "env_HumanMoveSimple_exp_2109_201832\n"
     ]
    },
    {
     "data": {
      "application/vnd.jupyter.widget-view+json": {
       "model_id": "b07f7c32e77244948dca6882e0afa6c8",
       "version_major": 2,
       "version_minor": 0
      },
      "text/plain": [
       "Output()"
      ]
     },
     "metadata": {},
     "output_type": "display_data"
    },
    {
     "data": {
      "text/html": [
       "<pre style=\"white-space:pre;overflow-x:auto;line-height:normal;font-family:Menlo,'DejaVu Sans Mono',consolas,'Courier New',monospace\"></pre>\n"
      ],
      "text/plain": []
     },
     "metadata": {},
     "output_type": "display_data"
    },
    {
     "data": {
      "text/html": [
       "<pre style=\"white-space:pre;overflow-x:auto;line-height:normal;font-family:Menlo,'DejaVu Sans Mono',consolas,'Courier New',monospace\">\n",
       "</pre>\n"
      ],
      "text/plain": [
       "\n"
      ]
     },
     "metadata": {},
     "output_type": "display_data"
    },
    {
     "name": "stdout",
     "output_type": "stream",
     "text": [
      "Moviepy - Building video env_HumanMoveSimple_exp_2109_201832//agent.mp4.\n",
      "Moviepy - Writing video env_HumanMoveSimple_exp_2109_201832//agent.mp4\n",
      "\n"
     ]
    },
    {
     "name": "stderr",
     "output_type": "stream",
     "text": [
      "                                                               \r"
     ]
    },
    {
     "name": "stdout",
     "output_type": "stream",
     "text": [
      "Moviepy - Done !\n",
      "Moviepy - video ready env_HumanMoveSimple_exp_2109_201832//agent.mp4\n",
      "PPO 10_180\n",
      "env_HumanMoveSimple_exp_2109_201832\n"
     ]
    },
    {
     "data": {
      "application/vnd.jupyter.widget-view+json": {
       "model_id": "9c60eb574d824851b2375a06900a5e41",
       "version_major": 2,
       "version_minor": 0
      },
      "text/plain": [
       "Output()"
      ]
     },
     "metadata": {},
     "output_type": "display_data"
    },
    {
     "data": {
      "text/html": [
       "<pre style=\"white-space:pre;overflow-x:auto;line-height:normal;font-family:Menlo,'DejaVu Sans Mono',consolas,'Courier New',monospace\"></pre>\n"
      ],
      "text/plain": []
     },
     "metadata": {},
     "output_type": "display_data"
    },
    {
     "data": {
      "text/html": [
       "<pre style=\"white-space:pre;overflow-x:auto;line-height:normal;font-family:Menlo,'DejaVu Sans Mono',consolas,'Courier New',monospace\">\n",
       "</pre>\n"
      ],
      "text/plain": [
       "\n"
      ]
     },
     "metadata": {},
     "output_type": "display_data"
    },
    {
     "name": "stdout",
     "output_type": "stream",
     "text": [
      "Moviepy - Building video env_HumanMoveSimple_exp_2109_201832//agent.mp4.\n",
      "Moviepy - Writing video env_HumanMoveSimple_exp_2109_201832//agent.mp4\n",
      "\n"
     ]
    },
    {
     "name": "stderr",
     "output_type": "stream",
     "text": [
      "                                                                 \r"
     ]
    },
    {
     "name": "stdout",
     "output_type": "stream",
     "text": [
      "Moviepy - Done !\n",
      "Moviepy - video ready env_HumanMoveSimple_exp_2109_201832//agent.mp4\n"
     ]
    }
   ],
   "source": [
    "exp_params['exp_id'] = experiment_id\n",
    "\n",
    "b_first = True\n",
    "model = None\n",
    "\n",
    "for name, option in option_var2.items():\n",
    "\n",
    "\n",
    "    print(name)\n",
    "\n",
    "    exp_params['env_name'] = env_disc.name()\n",
    "    exp_params['algorithm_name'] = name\n",
    "    exp_params['seed'] = int(datetime.now(TZ).strftime(\"%H%M%S\"))\n",
    "    exp_params['options'] = option\n",
    "\n",
    "\n",
    "    env_disc.set_options(option)\n",
    "    env_disc_render.set_options(option)\n",
    "\n",
    "    if b_first == True:\n",
    "        b_first = False\n",
    "        model = PPO(  exp_params['training']['policy'], \n",
    "                    env_disc,\n",
    "                    #policy_kwargs=policy_kwargs,\n",
    "                    learning_rate=exp_params['training']['learning_rate'],\n",
    "                    batch_size=exp_params['training']['batch_size'],\n",
    "                    gamma=exp_params['training']['gamma'],\n",
    "                    verbose=exp_params['training']['verbose'],\n",
    "                    device=device,\n",
    "                    )\n",
    "    else:\n",
    "        print(exp_name)\n",
    "        model = PPO.load(f'{exp_name}/model.zip', env=env_disc, device=device)\n",
    "\n",
    "\n",
    "    art_loc, exp_name, run_id = mlflow_server.learn_and_fix(\n",
    "                                model=model, \n",
    "                                env= env_disc_render,\n",
    "                                run_name=name,\n",
    "                                episode_count = exp_params['training']['episode_count'],\n",
    "                                parameters=exp_params,\n",
    "                                experiment_id=experiment_id,\n",
    "                                checkpoint_interval=exp_params['validation']['validate_agent_every_n_eps'],\n",
    "                                log_interval=exp_params['validation']['log_interval'])\n",
    "\n",
    "    mlflow_path[name] = f'{art_loc}/{run_id}/artifacts/{exp_name}/sb3/model.zip'\n",
    "\n",
    "\n"
   ]
  },
  {
   "cell_type": "code",
   "execution_count": 7,
   "metadata": {},
   "outputs": [
    {
     "data": {
      "text/plain": [
       "{'PPO 80_0': 'mlflow-artifacts:/253/776ec9782bdd417f8f63936f08424ddb/artifacts/env_HumanMoveSimple_exp_2109_201832/sb3/model.zip',\n",
       " 'PPO 80_20': 'mlflow-artifacts:/253/abe56364e7c643eb83957301dc1e990e/artifacts/env_HumanMoveSimple_exp_2109_201832/sb3/model.zip',\n",
       " 'PPO 80_45': 'mlflow-artifacts:/253/04fc0a2823c94b5e9e75a15985ab154e/artifacts/env_HumanMoveSimple_exp_2109_201832/sb3/model.zip',\n",
       " 'PPO 80_90': 'mlflow-artifacts:/253/3035913409544e3c821dce1f84762bd3/artifacts/env_HumanMoveSimple_exp_2109_201832/sb3/model.zip',\n",
       " 'PPO 80_135': 'mlflow-artifacts:/253/f788ab09caab4a998648a86980ebb467/artifacts/env_HumanMoveSimple_exp_2109_201832/sb3/model.zip',\n",
       " 'PPO 80_180': 'mlflow-artifacts:/253/49299897785e48c4a78e9392c1bda98c/artifacts/env_HumanMoveSimple_exp_2109_201832/sb3/model.zip',\n",
       " 'PPO 60_180': 'mlflow-artifacts:/253/71b89a5ba31547b5be8b8a7d5c09b581/artifacts/env_HumanMoveSimple_exp_2109_201832/sb3/model.zip',\n",
       " 'PPO 40_180': 'mlflow-artifacts:/253/e13b3536cfc646828bfa87d9185dcae7/artifacts/env_HumanMoveSimple_exp_2109_201832/sb3/model.zip',\n",
       " 'PPO 20_180': 'mlflow-artifacts:/253/1f6199342b1f4bed8be254e64ba09d86/artifacts/env_HumanMoveSimple_exp_2109_201832/sb3/model.zip',\n",
       " 'PPO 10_180': 'mlflow-artifacts:/253/9f82d229ced54f139a279e5041a98623/artifacts/env_HumanMoveSimple_exp_2109_201832/sb3/model.zip'}"
      ]
     },
     "execution_count": 7,
     "metadata": {},
     "output_type": "execute_result"
    }
   ],
   "source": [
    "mlflow_path"
   ]
  },
  {
   "cell_type": "code",
   "execution_count": 11,
   "metadata": {},
   "outputs": [],
   "source": [
    "mlflow_path = {\n",
    " 'DQN': 'mlflow-artifacts:/216/684a0b5a74e7466498e7f42b7b84b0c6/artifacts/env_HumanMoveSimple_exp_2009_114432/sb3/model.zip'\n",
    " }"
   ]
  },
  {
   "cell_type": "code",
   "execution_count": null,
   "metadata": {},
   "outputs": [],
   "source": [
    "experiment_id = 216\n",
    "load_path = os.path.join(str(experiment_id))\n",
    "if  os.path.isdir(load_path) == False:\n",
    "    os.mkdir(load_path)\n",
    "load_path"
   ]
  },
  {
   "cell_type": "code",
   "execution_count": null,
   "metadata": {},
   "outputs": [],
   "source": [
    "loadel_models = {}\n",
    "\n",
    "for model_name, path in mlflow_path.items():\n",
    "    loadel_models[model_name] =  f'{load_path}/{model_name}/'\n",
    "    mlflow_server.load_artifact(path,loadel_models[model_name])"
   ]
  },
  {
   "cell_type": "code",
   "execution_count": 13,
   "metadata": {},
   "outputs": [],
   "source": [
    "exp_params['training']['episode_count'] = 99000\n",
    "\n",
    "exp_params['options']['finish_dist'] = 10\n",
    "exp_params['options']['start_dist'] = 110\n",
    "exp_params['options']['delta_phi'] = 0\n",
    "options=exp_params['options']\n",
    "\n",
    "env = HumanMoveSimpleAction(target_point_rand=False,options=options)\n",
    "env_disc = HumanMoveSimpleAction(continuous=False, target_point_rand=False,options=options)\n",
    "\n",
    "env_render = HumanMoveSimpleAction(target_point_rand=False, render_mode='rgb_array',options=options)\n",
    "env_disc_render = HumanMoveSimpleAction(continuous=False, target_point_rand=False, render_mode='rgb_array',options=options)"
   ]
  },
  {
   "cell_type": "code",
   "execution_count": null,
   "metadata": {},
   "outputs": [],
   "source": [
    "exp_params['env_name'] = env.name()\n",
    "exp_name = 'env_' + exp_params['env_name'] + '_' + exp_params['exp_name']\n",
    "experiment_id = mlflow_server.new_experiment(exp_name)\n",
    "exp_params['exp_id'] = experiment_id\n",
    "print(exp_name)"
   ]
  },
  {
   "cell_type": "code",
   "execution_count": null,
   "metadata": {},
   "outputs": [],
   "source": [
    "#!!! Дорасчет в СТАРОМ эксперименте\n",
    "exp_name = mlflow_server.get_experiment(experiment_id)\n",
    "print(exp_name)\n",
    "exp_params['exp_id'] = experiment_id\n",
    "exp_params['env_name'] = env.name()"
   ]
  },
  {
   "cell_type": "code",
   "execution_count": 15,
   "metadata": {},
   "outputs": [],
   "source": [
    "\n",
    "models_exclude = {'PPO':True, 'DQN': False, 'DDPG': True, 'SAC': True, 'TD3': True}\n",
    "#models_exclude = None"
   ]
  },
  {
   "cell_type": "code",
   "execution_count": null,
   "metadata": {},
   "outputs": [],
   "source": [
    "run_post='_10'\n",
    "exp_params['training']['DQN'] = eps_var['DQN3']\n",
    "\n",
    "for name, model_path in loadel_models.items():\n",
    "\n",
    "    if models_exclude != None and models_exclude[name] == True:\n",
    "        continue\n",
    "    print(name)\n",
    "\n",
    "    exp_params['algorithm_name'] = name\n",
    "    exp_params['seed'] = int(datetime.now(TZ).strftime(\"%H%M%S\"))\n",
    "\n",
    "    set_env = env_disc if name == 'DQN' or name == 'PPO' else env\n",
    "    model = models[name].load(model_path + 'model.zip', env=set_env, device=device)\n",
    "    \n",
    "    #model.seed(seed=exp_params['seed'])\n",
    "\n",
    "    if name == 'DQN':\n",
    "        model.exploration_fraction=exp_params['training']['DQN']['fraction_eps']\n",
    "        model.exploration_initial_eps= exp_params['training']['DQN']['start_eps']\n",
    "        model.exploration_final_eps= exp_params['training']['DQN']['final_eps']\n",
    "        model._setup_model()\n",
    "\n",
    "    art_loc, exp_name, run_id = mlflow_server.learn_and_fix(\n",
    "                                model=model, \n",
    "                                env= env_disc_render if name == 'DQN' or name == 'PPO' else env_render,\n",
    "                                run_name=name + run_post,\n",
    "                                episode_count = exp_params['training']['episode_count'],\n",
    "                                parameters=exp_params,\n",
    "                                experiment_id=experiment_id,\n",
    "                                checkpoint_interval=exp_params['validation']['validate_agent_every_n_eps'],\n",
    "                                log_interval=exp_params['validation']['log_interval'])"
   ]
  },
  {
   "cell_type": "code",
   "execution_count": null,
   "metadata": {},
   "outputs": [],
   "source": [
    "shutil.rmtree(os.path.join(load_path))"
   ]
  }
 ],
 "metadata": {
  "kernelspec": {
   "display_name": "rl_conda_311",
   "language": "python",
   "name": "python3"
  },
  "language_info": {
   "codemirror_mode": {
    "name": "ipython",
    "version": 3
   },
   "file_extension": ".py",
   "mimetype": "text/x-python",
   "name": "python",
   "nbconvert_exporter": "python",
   "pygments_lexer": "ipython3",
   "version": "3.11.8"
  }
 },
 "nbformat": 4,
 "nbformat_minor": 2
}
