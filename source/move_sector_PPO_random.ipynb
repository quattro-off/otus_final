{
 "cells": [
  {
   "cell_type": "code",
   "execution_count": 1,
   "metadata": {},
   "outputs": [],
   "source": [
    "import torch\n",
    "import numpy as np\n",
    "from stable_baselines3 import PPO\n",
    "\n",
    "\n",
    "import os, shutil, sys\n",
    "sys.path.append(os.path.abspath('./env'))\n",
    "sys.path.append(os.path.abspath('./common'))\n",
    "\n",
    "from env.env_move_sector_v2  import HumanMoveSectorActionV2\n",
    "from env.env_move_sector_v3  import HumanMoveSectorActionV3\n",
    "from env.env_move_ray_v3  import HumanMoveRayActionV3\n",
    "from env.env_move_fast_sector  import HumanMoveFastSectorAction\n",
    "\n",
    "import common.mlflow_sb3_helper as mlf\n",
    "import common.tensorboard_sb3_helper as tnb\n",
    "USE_MLFLOW = False\n",
    "\n",
    "from pytz import timezone\n",
    "from datetime import datetime\n",
    "\n",
    "TZ = timezone('Europe/Moscow')\n",
    "device = \"cuda\" if torch.cuda.is_available() else \"cpu\"\n",
    "\n",
    "activations = {'ReLU':torch.nn.ReLU, 'Tanh':torch.nn.Tanh}"
   ]
  },
  {
   "cell_type": "code",
   "execution_count": 2,
   "metadata": {},
   "outputs": [],
   "source": [
    "exp_params = {\n",
    "    'env_name': '',\n",
    "    'algorithm_name': '',\n",
    "    'exp_id': 0,\n",
    "    'exp_name': f'exp_{datetime.now(TZ).strftime(\"%d%m_%H%M%S\")}',\n",
    "    'seed': 21,\n",
    "    'net': {\n",
    "        'activation': 'Tanh',\n",
    "        'pi': [512, 512, 512],\n",
    "        'vf': [512, 512, 512],\n",
    "    },\n",
    "    'training': {\n",
    "        'iteration_count': 2,\n",
    "        'episode_count': 39000,\n",
    "        'policy': 'MlpPolicy',\n",
    "        'learning_rate': 0.001,\n",
    "        'buffer_size': 1500000,\n",
    "        'learning_starts': 100,\n",
    "        'batch_size': 1024,\n",
    "        'gamma': 0.99,\n",
    "        'verbose': 0,\n",
    "        'device': device,\n",
    "    },\n",
    "    'options':{\n",
    "        'finish_dist':100,\n",
    "        'start_dist':110,\n",
    "        'delta_phi':0\n",
    "    },\n",
    "    'validation': {\n",
    "        'validate_agent_every_n_eps': 20000,\n",
    "        'log_interval': 10\n",
    "    },\n",
    "}\n",
    "\n",
    "policy_kwargs = dict(activation_fn = activations[exp_params['net']['activation']],\n",
    "                     net_arch = dict(pi=exp_params['net']['pi'], vf=exp_params['net']['vf']))\n",
    "\n"
   ]
  },
  {
   "cell_type": "code",
   "execution_count": 3,
   "metadata": {},
   "outputs": [],
   "source": [
    "log_helper = {}\n",
    "log_path = {}\n",
    "\n",
    "if USE_MLFLOW:\n",
    "    log_helper = mlf.MLflowServerHelper(\"http://192.168.0.206:2670\", False)\n",
    "else:\n",
    "    log_helper = tnb.TensorboardHelper(\"\",False)"
   ]
  },
  {
   "cell_type": "code",
   "execution_count": 4,
   "metadata": {},
   "outputs": [],
   "source": [
    "experiment_id = 623\n",
    "log_path = {\n",
    " 'PPO': f'mlflow-artifacts:/{experiment_id}/2363066ef4dd42ed8d8b1d8e152ff8fe/artifacts/env_MoveRay3_IgnoreObst_exp_1211_201942/sb3/model.zip'\n",
    " }"
   ]
  },
  {
   "cell_type": "code",
   "execution_count": null,
   "metadata": {},
   "outputs": [],
   "source": [
    "\n",
    "load_path = os.path.join(str(experiment_id))\n",
    "if  os.path.isdir(load_path) == False:\n",
    "    os.mkdir(load_path)\n",
    "load_path"
   ]
  },
  {
   "cell_type": "code",
   "execution_count": null,
   "metadata": {},
   "outputs": [],
   "source": [
    "loadel_models = {}\n",
    "\n",
    "for model_name, path in log_path.items():\n",
    "    loadel_models[model_name] =  f'{load_path}/{model_name}/'\n",
    "    log_helper.load_artifact(path,loadel_models[model_name])"
   ]
  },
  {
   "cell_type": "code",
   "execution_count": 7,
   "metadata": {},
   "outputs": [],
   "source": [
    "env = HumanMoveRayActionV3(target_point_rand=True, object_ignore=True)\n",
    "env_render = HumanMoveRayActionV3(target_point_rand=True, object_ignore=True, render_mode='rgb_array')"
   ]
  },
  {
   "cell_type": "code",
   "execution_count": null,
   "metadata": {},
   "outputs": [],
   "source": [
    "exp_params['env_name'] = env.name()\n",
    "exp_name = 'env_' + exp_params['env_name'] + '_' + exp_params['exp_name']\n",
    "experiment_id = log_helper.new_experiment(exp_name)\n",
    "exp_params['exp_id'] = experiment_id\n",
    "print(exp_name)"
   ]
  },
  {
   "cell_type": "code",
   "execution_count": null,
   "metadata": {},
   "outputs": [],
   "source": [
    "#!!! Дорасчет в СТАРОМ эксперименте\n",
    "exp_name = log_helper.get_experiment(experiment_id)\n",
    "print(exp_name)\n",
    "exp_params['exp_id'] = experiment_id\n",
    "exp_params['env_name'] = env.name()"
   ]
  },
  {
   "cell_type": "code",
   "execution_count": null,
   "metadata": {},
   "outputs": [],
   "source": [
    "\n",
    "exp_params['algorithm_name'] = 'PPO'\n",
    "\n",
    "path = loadel_models['PPO']\n",
    "print(path)\n",
    "name = 'PPO'\n",
    "\n",
    "b_first = True\n",
    "\n",
    "for i in range(exp_params['training']['iteration_count']):\n",
    "\n",
    "\n",
    "    exp_params['seed'] = int(datetime.now(TZ).strftime(\"%H%M%S\"))\n",
    "\n",
    "    if b_first == True:\n",
    "        b_first = False\n",
    "        model = PPO.load(f'{path}/model.zip', env=env, device=device)\n",
    "    else:\n",
    "        print(exp_name)\n",
    "        model = PPO.load(f'{exp_name}/model.zip', env=env, device=device)\n",
    "\n",
    "\n",
    "    art_loc, exp_name, run_id = log_helper.learn_and_fix(\n",
    "                                model=model, \n",
    "                                env= env_render,\n",
    "                                run_name=f'{name}_{i+1}',\n",
    "                                episode_count = exp_params['training']['episode_count'],\n",
    "                                parameters=exp_params,\n",
    "                                experiment_id=experiment_id,\n",
    "                                checkpoint_interval=exp_params['validation']['validate_agent_every_n_eps'],\n",
    "                                log_interval=exp_params['validation']['log_interval'],\n",
    "                                video_episods=3,\n",
    "                                video_fps=120\n",
    "                                )\n",
    "\n",
    "    log_path[name] = f'{art_loc}/{run_id}/artifacts/{exp_name}/sb3/model.zip'\n",
    "\n"
   ]
  },
  {
   "cell_type": "code",
   "execution_count": null,
   "metadata": {},
   "outputs": [],
   "source": [
    "log_path"
   ]
  },
  {
   "cell_type": "code",
   "execution_count": null,
   "metadata": {},
   "outputs": [],
   "source": [
    "shutil.rmtree(os.path.join(load_path))"
   ]
  }
 ],
 "metadata": {
  "kernelspec": {
   "display_name": "rl_conda_311",
   "language": "python",
   "name": "python3"
  },
  "language_info": {
   "codemirror_mode": {
    "name": "ipython",
    "version": 3
   },
   "file_extension": ".py",
   "mimetype": "text/x-python",
   "name": "python",
   "nbconvert_exporter": "python",
   "pygments_lexer": "ipython3",
   "version": "3.11.8"
  }
 },
 "nbformat": 4,
 "nbformat_minor": 2
}
