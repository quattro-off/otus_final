{
  "cells": [
    {
      "cell_type": "markdown",
      "id": "7f54da45-dc48-4d14-828f-c2c871c2f8ca",
      "metadata": {
        "id": "7f54da45-dc48-4d14-828f-c2c871c2f8ca"
      },
      "source": [
        "# Lunar Lander Continuous v2"
      ]
    },
    {
      "cell_type": "markdown",
      "id": "d57a192c-3afa-421f-81a5-d594736d1ea4",
      "metadata": {
        "id": "d57a192c-3afa-421f-81a5-d594736d1ea4"
      },
      "source": [
        "### Описание задачи\n",
        "\n",
        "**Характеристики окружения**  \n",
        "* Эпизодическая среда\n",
        "* Детерминированная / Стохастическая среда\n",
        "* Непрерывная среда (пространство действий)\n",
        "* Среда с полной информацией\n",
        "\n",
        "**Цель игры**  \n",
        "Требуется посадить космический модуль в обозначенную зону, управляя его двигателями.<br>Посадочная площадка всегда находится в координатах (0;0). Запас топлива - бесконечен.<br>Среда считается решённой, когда агент набирает не менее 200 балов за эпизод.\n",
        "\n",
        "**Окружение**\n",
        "\n",
        "<img src=\"https://gymnasium.farama.org/_images/lunar_lander.gif\" width=\"750\" align=\"center\">\n",
        "\n",
        "**Состояние**\n",
        "\n",
        "Вектор из 8 показателей:\n",
        "* x координата модуля\n",
        "* y координата модуля\n",
        "* vx, горизонтальная скорость\n",
        "* vy, вертикальная скорость\n",
        "* θ, ориентация в пространстве\n",
        "* vθ, угловая скорость\n",
        "* Левая нога модуля коснулась земли (bool)\n",
        "* Правая нога модуля коснулась земли (bool)\n",
        "\n",
        "**Пространство действий**\n",
        "\n",
        "Пространство действий описывается двумя вещественными координатами. Первая координата действия определяет дроссельную заслонку главного двигателя, а вторая координата — дроссельную заслонку боковых ускорителей.\n",
        "\n",
        "**Терминальные состояния**  \n",
        "\n",
        "Эпизод заканчивается, когда посадочный модуль приземляется, разбивается или улетает за пределы области видимости.\n",
        "\n",
        "**Функция вознаграждения**  \n",
        "\n",
        "Награда представляет собой комбинацию того, насколько близко посадочный модуль находится к посадочной площадке и насколько его скорость близка к нулевой, по сути, чем ближе он к посадке, тем выше награда. Агент получает небольшую отрицательную награду каждый раз, когда он включает двигатели. Это делается для того, чтобы научить агента сажать модуль, как можно быстрее и эффективнее. Также агента получает -100 баллов, если модуль разбивается и +100 если удаётся посадить модуль.\n",
        "\n",
        "**Полезные ссылки**\n",
        "* https://gymnasium.farama.org/environments/box2d/lunar_lander\n",
        "\n",
        "***"
      ]
    },
    {
      "cell_type": "markdown",
      "id": "d723cbf1-a0b8-4f66-88a9-8abf39361eb5",
      "metadata": {
        "id": "d723cbf1-a0b8-4f66-88a9-8abf39361eb5"
      },
      "source": [
        "### Установка зависимостей, импорт библиотек"
      ]
    },
    {
      "cell_type": "markdown",
      "id": "SiPpivnzVYKB",
      "metadata": {
        "id": "SiPpivnzVYKB"
      },
      "source": [
        "**Установка зависимостей**"
      ]
    },
    {
      "cell_type": "markdown",
      "id": "EbuUHV9BV10y",
      "metadata": {
        "id": "EbuUHV9BV10y"
      },
      "source": [
        "**Импорт библиотек**"
      ]
    },
    {
      "cell_type": "code",
      "execution_count": 36,
      "id": "f05f92a2-15e7-4989-aec7-b958cabe60e4",
      "metadata": {
        "id": "f05f92a2-15e7-4989-aec7-b958cabe60e4"
      },
      "outputs": [],
      "source": [
        "import os\n",
        "import sys\n",
        "import PIL\n",
        "import math\n",
        "import json\n",
        "import random\n",
        "import numpy as np\n",
        "import pandas as pd\n",
        "import shutil as sh\n",
        "from glob import glob\n",
        "from pytz import timezone\n",
        "from datetime import datetime\n",
        "from collections import deque\n",
        "from base64 import b64encode\n",
        "from IPython.display import display, clear_output, HTML\n",
        "from matplotlib import pyplot as plt\n",
        "import seaborn as sns"
      ]
    },
    {
      "cell_type": "code",
      "execution_count": 37,
      "id": "0VAcLIU7-iHI",
      "metadata": {
        "id": "0VAcLIU7-iHI"
      },
      "outputs": [],
      "source": [
        "import torch\n",
        "import torch.nn as nn\n",
        "import torch.optim as optim\n",
        "import torch.nn.functional as F\n",
        "from torch.distributions import Normal"
      ]
    },
    {
      "cell_type": "code",
      "execution_count": 38,
      "id": "fa1d2f40-9995-43e7-bd04-24ca30e386ab",
      "metadata": {
        "id": "fa1d2f40-9995-43e7-bd04-24ca30e386ab"
      },
      "outputs": [],
      "source": [
        "import gymnasium as gym"
      ]
    },
    {
      "cell_type": "code",
      "execution_count": 39,
      "id": "0be380a1-59d3-4866-bf01-26eff826c31e",
      "metadata": {
        "id": "0be380a1-59d3-4866-bf01-26eff826c31e"
      },
      "outputs": [],
      "source": [
        "import warnings\n",
        "warnings.simplefilter(\"ignore\")"
      ]
    },
    {
      "cell_type": "markdown",
      "id": "RffB5y58WSP6",
      "metadata": {
        "id": "RffB5y58WSP6"
      },
      "source": [
        "### Выбор временной зоны"
      ]
    },
    {
      "cell_type": "code",
      "execution_count": 40,
      "id": "Z4v0FINYWSoy",
      "metadata": {
        "id": "Z4v0FINYWSoy"
      },
      "outputs": [],
      "source": [
        "TZ = timezone('Europe/Moscow')"
      ]
    },
    {
      "cell_type": "markdown",
      "id": "0XbfY-E9-I1M",
      "metadata": {
        "id": "0XbfY-E9-I1M"
      },
      "source": [
        "### Определение устройства для обучения и инференса моделей"
      ]
    },
    {
      "cell_type": "code",
      "execution_count": 41,
      "id": "zRdJXKI68ztK",
      "metadata": {
        "id": "zRdJXKI68ztK"
      },
      "outputs": [
        {
          "data": {
            "text/plain": [
              "device(type='cuda', index=0)"
            ]
          },
          "execution_count": 41,
          "metadata": {},
          "output_type": "execute_result"
        }
      ],
      "source": [
        "DEVICE = torch.device('cuda:0' if torch.cuda.is_available() else 'cpu')\n",
        "DEVICE"
      ]
    },
    {
      "cell_type": "markdown",
      "id": "71e0cf72-f363-4bff-b51b-9f03848163b4",
      "metadata": {
        "id": "71e0cf72-f363-4bff-b51b-9f03848163b4"
      },
      "source": [
        "### Определение путей и директорий"
      ]
    },
    {
      "cell_type": "code",
      "execution_count": 42,
      "id": "12763ed2-1c36-4c1f-91d2-1424e397efb7",
      "metadata": {
        "id": "12763ed2-1c36-4c1f-91d2-1424e397efb7"
      },
      "outputs": [],
      "source": [
        "env_dir = 'models\\\\DDPG\\\\lunar_lander'"
      ]
    },
    {
      "cell_type": "markdown",
      "id": "Bwx3SNOMOV6T",
      "metadata": {
        "id": "Bwx3SNOMOV6T"
      },
      "source": [
        "### Вспомогательные методы"
      ]
    },
    {
      "cell_type": "markdown",
      "id": "dnbZASteOZZ6",
      "metadata": {
        "id": "dnbZASteOZZ6"
      },
      "source": [
        "**Отображение состояния среды, сохранение записи эпизода, просмотр записи эпизода**"
      ]
    },
    {
      "cell_type": "code",
      "execution_count": 43,
      "id": "jjUdu2yFOWML",
      "metadata": {
        "id": "jjUdu2yFOWML"
      },
      "outputs": [],
      "source": [
        "def display_state(state):\n",
        "    plt.figure(figsize=(8, 6))\n",
        "    plt.imshow(state)\n",
        "    plt.axis('off')\n",
        "\n",
        "\n",
        "def record_episode(eps_frames, records_dir, agent_name, exp_id, eps_num):\n",
        "    record_path = os.path.join(records_dir, f'{agent_name}_{exp_id}_eps-{eps_num}.mp4')\n",
        "    eps_frame_dir = 'episode_frames'\n",
        "    os.mkdir(eps_frame_dir)\n",
        "\n",
        "    for i, frame  in enumerate(eps_frames):\n",
        "        PIL.Image.fromarray(frame).save(os.path.join(eps_frame_dir, f'frame-{i+1}.png'))\n",
        "\n",
        "    os.system(f'ffmpeg -r 16 -i {eps_frame_dir}/frame-%1d.png -vcodec libx264 -b 10M -y \"{record_path}\"');\n",
        "    sh.rmtree(eps_frame_dir)\n",
        "\n",
        "\n",
        "def show_episode_records(records_dir):\n",
        "    record_paths = glob(os.path.join(records_dir, \"*.mp4\"))\n",
        "    html_str = ''\n",
        "    for i, record_path in enumerate(record_paths):\n",
        "        mp4 = open(record_path, 'rb').read()\n",
        "        data = f\"data:video/mp4;base64,{b64encode(mp4).decode()}\"\n",
        "        html_str += f'EPISODE # {i+1}<br><video width=500 controls><source src=\"{data}\" type=\"video/mp4\"></video><br><br>'\n",
        "    return HTML(html_str)\n"
      ]
    },
    {
      "cell_type": "markdown",
      "id": "lZVqn8qlOezA",
      "metadata": {
        "id": "lZVqn8qlOezA"
      },
      "source": [
        "**Создание директорий для логирования результатов, сохрание параметров и метрик экспериментов**"
      ]
    },
    {
      "cell_type": "code",
      "execution_count": 44,
      "id": "4LQ3kLjqOfUy",
      "metadata": {
        "id": "4LQ3kLjqOfUy"
      },
      "outputs": [],
      "source": [
        "def create_exp_dirs(env_dir, exp_params):\n",
        "    dirs = dict()\n",
        "    dirs['exp'] = os.path.join(env_dir, 'experiments', exp_params[\"algorithm_name\"], exp_params[\"exp_id\"])\n",
        "    dirs['training'] = os.path.join(dirs['exp'], 'training')\n",
        "    dirs['evaluation'] = os.path.join(dirs['exp'], 'evaluation')\n",
        "    os.makedirs(dirs['training'], exist_ok=True)\n",
        "    os.makedirs(dirs['evaluation'], exist_ok=True)\n",
        "    return dirs\n",
        "\n",
        "\n",
        "def save_exp_params(params, exp_dir):\n",
        "    params_path = os.path.join(exp_dir, 'experiment_params.json')\n",
        "    with open(params_path, 'w') as f:\n",
        "        json.dump(params, f)\n",
        "\n",
        "\n",
        "def save_metrics(metrics, metrics_type, train_eps_dir):\n",
        "    metrics_path = os.path.join(train_eps_dir, f'{metrics_type}_metrics.json')\n",
        "    with open(metrics_path, 'w') as f:\n",
        "        json.dump(metrics, f)"
      ]
    },
    {
      "cell_type": "markdown",
      "id": "CJ_m8LcLZPWZ",
      "metadata": {
        "id": "CJ_m8LcLZPWZ"
      },
      "source": [
        "## Обзор окружения\n"
      ]
    },
    {
      "cell_type": "code",
      "execution_count": 45,
      "id": "465-ZZvaZMIp",
      "metadata": {
        "id": "465-ZZvaZMIp"
      },
      "outputs": [],
      "source": [
        "def create_env():\n",
        "    return gym.make('LunarLanderContinuous-v2',\n",
        "                gravity=np.clip(\n",
        "                    np.random.normal(loc=-8.0, scale=1.0),\n",
        "                    a_min=-11.99,\n",
        "                    a_max=-0.01\n",
        "                ),\n",
        "                enable_wind=np.random.choice([True, False]),\n",
        "                wind_power=np.clip(\n",
        "                    np.random.normal(loc=10.0, scale=1.0),\n",
        "                    a_min=0.01,\n",
        "                    a_max=19.99\n",
        "                ),\n",
        "                turbulence_power=np.clip(\n",
        "                    np.random.normal(loc=1.0, scale=0.5),\n",
        "                    a_min=0.01,\n",
        "                    a_max=1.99\n",
        "                ),\n",
        "                max_episode_steps=400,\n",
        "                render_mode='rgb_array')\n",
        "\n",
        "    # return gym.make('LunarLanderContinuous-v2', max_episode_steps=400, render_mode='rgb_array')"
      ]
    },
    {
      "cell_type": "markdown",
      "id": "WMV_j5mehvsF",
      "metadata": {
        "id": "WMV_j5mehvsF"
      },
      "source": [
        "### Создание окружения, старт нового эпизода, отображение начального состояния"
      ]
    },
    {
      "cell_type": "code",
      "execution_count": 46,
      "id": "Iwx9ZeGLZMLY",
      "metadata": {
        "id": "Iwx9ZeGLZMLY"
      },
      "outputs": [
        {
          "name": "stdout",
          "output_type": "stream",
          "text": [
            "Current state: [-0.00513601  1.4066534  -0.5201219  -0.18963936  0.00584976  0.11569586\n",
            "  0.          0.        ]\n"
          ]
        },
        {
          "data": {
            "image/png": "[encoded data removed]",
            "text/plain": [
              "<Figure size 800x600 with 1 Axes>"
            ]
          },
          "metadata": {},
          "output_type": "display_data"
        }
      ],
      "source": [
        "env = create_env()\n",
        "state, info = env.reset()\n",
        "state_rgb = env.render()\n",
        "\n",
        "print(f'Current state: {state}')\n",
        "display_state(state_rgb)"
      ]
    },
    {
      "cell_type": "code",
      "execution_count": 47,
      "id": "B_5eodYwxN00",
      "metadata": {
        "id": "B_5eodYwxN00"
      },
      "outputs": [
        {
          "data": {
            "text/plain": [
              "Box([-90.        -90.         -5.         -5.         -3.1415927  -5.\n",
              "  -0.         -0.       ], [90.        90.         5.         5.         3.1415927  5.\n",
              "  1.         1.       ], (8,), float32)"
            ]
          },
          "execution_count": 47,
          "metadata": {},
          "output_type": "execute_result"
        }
      ],
      "source": [
        "env.observation_space"
      ]
    },
    {
      "cell_type": "code",
      "execution_count": 48,
      "id": "HvgEbhO4xJ0I",
      "metadata": {
        "id": "HvgEbhO4xJ0I"
      },
      "outputs": [
        {
          "data": {
            "text/plain": [
              "Box(-1.0, 1.0, (2,), float32)"
            ]
          },
          "execution_count": 48,
          "metadata": {},
          "output_type": "execute_result"
        }
      ],
      "source": [
        "env.action_space"
      ]
    },
    {
      "cell_type": "code",
      "execution_count": 49,
      "id": "uBrZuoOqxJxa",
      "metadata": {
        "id": "uBrZuoOqxJxa"
      },
      "outputs": [
        {
          "data": {
            "text/plain": [
              "array([-0.8599076,  0.8426069], dtype=float32)"
            ]
          },
          "execution_count": 49,
          "metadata": {},
          "output_type": "execute_result"
        }
      ],
      "source": [
        "env.action_space.sample()"
      ]
    },
    {
      "cell_type": "markdown",
      "id": "qMrBauaQhccC",
      "metadata": {
        "id": "qMrBauaQhccC"
      },
      "source": [
        "### Пошаговое тестирование окружения"
      ]
    },
    {
      "cell_type": "code",
      "execution_count": 50,
      "id": "SS6EfSzpebbb",
      "metadata": {
        "id": "SS6EfSzpebbb"
      },
      "outputs": [
        {
          "name": "stdout",
          "output_type": "stream",
          "text": [
            "Current state: [-0.02989054  1.3778285  -0.488036   -0.30139223  0.0320617   0.09806865\n",
            "  0.          0.        ]\n",
            "Action: [-0.8409396  0.2231982]\n",
            "Reward: -0.44637115998068566\n",
            "Done: (False, False)\n"
          ]
        },
        {
          "data": {
            "image/png": "[encoded data removed]",
            "text/plain": [
              "<Figure size 800x600 with 1 Axes>"
            ]
          },
          "metadata": {},
          "output_type": "display_data"
        }
      ],
      "source": [
        "action = env.action_space.sample()\n",
        "\n",
        "for i in range(5):\n",
        "    next_state, reward, terminated, truncated, info = env.step(action)\n",
        "    next_state_rgb = env.render()\n",
        "\n",
        "print(f'Current state: {next_state}\\nAction: {action}\\nReward: {reward}\\nDone: {terminated, truncated}')\n",
        "display_state(next_state_rgb)"
      ]
    },
    {
      "cell_type": "code",
      "execution_count": 51,
      "id": "XKQMpGu7gn6c",
      "metadata": {
        "id": "XKQMpGu7gn6c"
      },
      "outputs": [],
      "source": [
        "env.close()"
      ]
    },
    {
      "cell_type": "markdown",
      "id": "AbVD6iPkjldg",
      "metadata": {
        "id": "AbVD6iPkjldg"
      },
      "source": [
        "## Тестирование агента со случайной стратегией"
      ]
    },
    {
      "cell_type": "markdown",
      "id": "21FxFwOQj0Nn",
      "metadata": {
        "id": "21FxFwOQj0Nn"
      },
      "source": [
        "### Методы для запуска эпизодов и оценки агента"
      ]
    },
    {
      "cell_type": "code",
      "execution_count": 52,
      "id": "s6mewnVHj0fZ",
      "metadata": {
        "id": "s6mewnVHj0fZ"
      },
      "outputs": [],
      "source": [
        "def run_episode(env, agent):\n",
        "    state, info = env.reset()\n",
        "    step_count = 0\n",
        "    total_reward = 0\n",
        "    frames = list()\n",
        "    done = False\n",
        "\n",
        "    while not done:\n",
        "        action = agent.choose_action(state, mode='exploitation')\n",
        "        next_state, reward, terminated, truncated, info = env.step(action)\n",
        "        step_count += 1\n",
        "        total_reward += reward\n",
        "        done = terminated or truncated\n",
        "        state = next_state\n",
        "        frames.append(env.render())\n",
        "\n",
        "    win = True if total_reward >= 200 else False\n",
        "    frames.extend([env.render()] * 3)\n",
        "    return win, total_reward, step_count, frames\n",
        "\n",
        "\n",
        "def evaluate_agent(env, agent, exp_params, exp_dirs):\n",
        "    for eps_num in range(1, exp_params['evaluation']['episode_count'] + 1):\n",
        "        eps_win, total_reward, eps_step_count, eps_frames = run_episode(env, agent)\n",
        "        record_episode(eps_frames, exp_dirs['evaluation'], exp_params['algorithm_name'], exp_params['exp_id'], eps_num)\n",
        "\n",
        "        print(f'EPISODE # {eps_num}')\n",
        "        if eps_win:\n",
        "            print('Agent reached the Goal 🏆')\n",
        "        else:\n",
        "            print('Agent was defeated ☠️')\n",
        "        print(f'Total reward: {round(total_reward, 2)}')\n",
        "        print(f'Number of steps: {eps_step_count}')\n",
        "        print('-' * 50)"
      ]
    },
    {
      "cell_type": "markdown",
      "id": "LKqedzR5js5P",
      "metadata": {
        "id": "LKqedzR5js5P"
      },
      "source": [
        "### Случайный агент"
      ]
    },
    {
      "cell_type": "code",
      "execution_count": 53,
      "id": "EYSd7m4zZMQd",
      "metadata": {
        "id": "EYSd7m4zZMQd"
      },
      "outputs": [],
      "source": [
        "class RandomAgent:\n",
        "\n",
        "  def __init__(self, env, params):\n",
        "      self._env = env\n",
        "      self._params = params\n",
        "\n",
        "  @property\n",
        "  def name(self):\n",
        "      return f\"{self._params['algorithm_name']}_agent\"\n",
        "\n",
        "\n",
        "  def choose_action(self, state, mode='exploitation'):\n",
        "      return self._env.action_space.sample()"
      ]
    },
    {
      "cell_type": "markdown",
      "id": "3l84WFBHkHMB",
      "metadata": {
        "id": "3l84WFBHkHMB"
      },
      "source": [
        "### Параметры эксперимента"
      ]
    },
    {
      "cell_type": "code",
      "execution_count": 54,
      "id": "PqVT2C9wZMTp",
      "metadata": {
        "id": "PqVT2C9wZMTp"
      },
      "outputs": [],
      "source": [
        "exp_params = {\n",
        "    'exp_id': f'exp-{datetime.now(TZ).strftime(\"%d%m-%H%M%S\")}',\n",
        "    'algorithm_name': 'random',\n",
        "    'seed': 21,\n",
        "    'evaluation': {\n",
        "        'episode_count': 3\n",
        "    }\n",
        "}\n",
        "\n",
        "exp_dirs = create_exp_dirs(env_dir, exp_params)\n",
        "save_exp_params(exp_params, exp_dirs['exp'])"
      ]
    },
    {
      "cell_type": "markdown",
      "id": "5vftHpTkkPTo",
      "metadata": {
        "id": "5vftHpTkkPTo"
      },
      "source": [
        "### Оценка агента"
      ]
    },
    {
      "cell_type": "code",
      "execution_count": 56,
      "id": "cOcPGtOGkIbq",
      "metadata": {
        "id": "cOcPGtOGkIbq"
      },
      "outputs": [
        {
          "name": "stdout",
          "output_type": "stream",
          "text": [
            "EPISODE # 1\n",
            "Agent was defeated ☠️\n",
            "Total reward: -493.2\n",
            "Number of steps: 126\n",
            "--------------------------------------------------\n",
            "EPISODE # 2\n",
            "Agent was defeated ☠️\n",
            "Total reward: -646.23\n",
            "Number of steps: 168\n",
            "--------------------------------------------------\n",
            "EPISODE # 3\n",
            "Agent was defeated ☠️\n",
            "Total reward: -42.97\n",
            "Number of steps: 87\n",
            "--------------------------------------------------\n"
          ]
        }
      ],
      "source": [
        "env = create_env()\n",
        "random_agent = RandomAgent(env, exp_params)\n",
        "evaluate_agent(env, random_agent, exp_params, exp_dirs)\n",
        "env.close()"
      ]
    },
    {
      "cell_type": "code",
      "execution_count": 25,
      "id": "vHmhffI3kIZB",
      "metadata": {
        "id": "vHmhffI3kIZB"
      },
      "outputs": [
        {
          "data": {
            "text/html": [],
            "text/plain": [
              "<IPython.core.display.HTML object>"
            ]
          },
          "execution_count": 25,
          "metadata": {},
          "output_type": "execute_result"
        }
      ],
      "source": [
        "show_episode_records(exp_dirs['evaluation'])"
      ]
    },
    {
      "cell_type": "markdown",
      "id": "Zl4fEM-OohFx",
      "metadata": {
        "id": "Zl4fEM-OohFx"
      },
      "source": [
        "## Тестирование агента с эвристической стратегией"
      ]
    },
    {
      "cell_type": "markdown",
      "id": "JisUfldTcYPF",
      "metadata": {
        "id": "JisUfldTcYPF"
      },
      "source": [
        "### Эвристический агент"
      ]
    },
    {
      "cell_type": "code",
      "execution_count": 26,
      "id": "Z6gBHDq2kIUY",
      "metadata": {
        "id": "Z6gBHDq2kIUY"
      },
      "outputs": [],
      "source": [
        "from gymnasium.envs.box2d.lunar_lander import heuristic"
      ]
    },
    {
      "cell_type": "code",
      "execution_count": 27,
      "id": "OBMhaR0GkIWm",
      "metadata": {
        "id": "OBMhaR0GkIWm"
      },
      "outputs": [],
      "source": [
        "class HeuristicAgent:\n",
        "\n",
        "  def __init__(self, env, params):\n",
        "      self._env = env\n",
        "      self._params = params\n",
        "\n",
        "  @property\n",
        "  def name(self):\n",
        "      return f\"{self._params['algorithm_name']}_agent\"\n",
        "\n",
        "\n",
        "  def choose_action(self, state, mode='exploitation'):\n",
        "      return heuristic(self._env, state)"
      ]
    },
    {
      "cell_type": "markdown",
      "id": "D8gijEI6tSB8",
      "metadata": {
        "id": "D8gijEI6tSB8"
      },
      "source": [
        "### Параметры эксперимента"
      ]
    },
    {
      "cell_type": "code",
      "execution_count": 31,
      "id": "SUpYp47Lmb6X",
      "metadata": {
        "id": "SUpYp47Lmb6X"
      },
      "outputs": [],
      "source": [
        "exp_params = {\n",
        "    'exp_id': f'exp-{datetime.now(TZ).strftime(\"%d%m-%H%M%S\")}',\n",
        "    'algorithm_name': 'heuristic',\n",
        "    'seed': 21,\n",
        "    'evaluation': {\n",
        "        'episode_count': 3\n",
        "    }\n",
        "}\n",
        "\n",
        "exp_dirs = create_exp_dirs(env_dir, exp_params)\n",
        "save_exp_params(exp_params, exp_dirs['exp'])"
      ]
    },
    {
      "cell_type": "markdown",
      "id": "8Q9XC70LtOCl",
      "metadata": {
        "id": "8Q9XC70LtOCl"
      },
      "source": [
        "### Оценка агента"
      ]
    },
    {
      "cell_type": "code",
      "execution_count": 30,
      "id": "DTfasNO5mb3I",
      "metadata": {
        "id": "DTfasNO5mb3I"
      },
      "outputs": [
        {
          "name": "stdout",
          "output_type": "stream",
          "text": [
            "EPISODE # 1\n",
            "Agent reached the Goal 🏆\n",
            "Total reward: 240.21\n",
            "Number of steps: 260\n",
            "--------------------------------------------------\n",
            "EPISODE # 2\n",
            "Agent was defeated ☠️\n",
            "Total reward: 112.24\n",
            "Number of steps: 400\n",
            "--------------------------------------------------\n",
            "EPISODE # 3\n",
            "Agent reached the Goal 🏆\n",
            "Total reward: 264.58\n",
            "Number of steps: 314\n",
            "--------------------------------------------------\n"
          ]
        }
      ],
      "source": [
        "env = create_env()\n",
        "heuristic_agent = HeuristicAgent(env, exp_params)\n",
        "evaluate_agent(env, heuristic_agent, exp_params, exp_dirs)\n",
        "env.close()"
      ]
    },
    {
      "cell_type": "code",
      "execution_count": null,
      "id": "hlGGO9wWpba0",
      "metadata": {
        "id": "hlGGO9wWpba0"
      },
      "outputs": [],
      "source": [
        "show_episode_records(exp_dirs['evaluation'])"
      ]
    },
    {
      "cell_type": "markdown",
      "id": "w663bnoNYeZ7",
      "metadata": {
        "id": "w663bnoNYeZ7"
      },
      "source": [
        "## Тестирование DDPG-агента"
      ]
    },
    {
      "cell_type": "markdown",
      "id": "HHBf928qYlS1",
      "metadata": {
        "id": "HHBf928qYlS1"
      },
      "source": [
        "### Описание алгоритма"
      ]
    },
    {
      "cell_type": "markdown",
      "id": "prQmcZqzMR78",
      "metadata": {
        "id": "prQmcZqzMR78"
      },
      "source": [
        "![DDPG](data:image/png;base64,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)"
      ]
    },
    {
      "cell_type": "markdown",
      "id": "RSoSjiW_YsZT",
      "metadata": {
        "id": "RSoSjiW_YsZT"
      },
      "source": [
        "### Классы для нормализации и добавления шума в действия"
      ]
    },
    {
      "cell_type": "code",
      "execution_count": null,
      "id": "ZuCQlx5npbV9",
      "metadata": {
        "id": "ZuCQlx5npbV9"
      },
      "outputs": [],
      "source": [
        "class NormalizedActions(gym.ActionWrapper):\n",
        "\n",
        "    def action(self, action):\n",
        "        low_bound = self.action_space.low\n",
        "        upper_bound = self.action_space.high\n",
        "        action = (action + 1) * 0.5 * (upper_bound - low_bound) + low_bound\n",
        "        action = np.clip(action, low_bound, upper_bound)\n",
        "        return action\n",
        "\n",
        "    def reverse_action(self, action):\n",
        "        pass\n",
        "\n",
        "\n",
        "class GaussNoise:\n",
        "\n",
        "    def __init__(self, sigma):\n",
        "        super().__init__()\n",
        "        self.sigma = sigma\n",
        "\n",
        "    def get_action(self, action):\n",
        "        noisy_action = np.random.normal(action, self.sigma)\n",
        "        return noisy_action"
      ]
    },
    {
      "cell_type": "markdown",
      "id": "omjMePU-Zag7",
      "metadata": {
        "id": "omjMePU-Zag7"
      },
      "source": [
        "### Value и Policy сети"
      ]
    },
    {
      "cell_type": "code",
      "execution_count": null,
      "id": "xB2ZvJUspbTV",
      "metadata": {
        "id": "xB2ZvJUspbTV"
      },
      "outputs": [],
      "source": [
        "class ValueNetwork(nn.Module):\n",
        "    def __init__(self, num_inputs, num_actions, hidden_size=512):\n",
        "        super().__init__()\n",
        "        self.net = nn.Sequential(\n",
        "            nn.Linear(num_inputs + num_actions, hidden_size),\n",
        "            nn.Tanh(),\n",
        "            nn.Linear(hidden_size, hidden_size),\n",
        "            nn.Tanh(),\n",
        "            nn.Linear(hidden_size, 1)\n",
        "        )\n",
        "\n",
        "    def forward(self, state, action):\n",
        "        x = torch.cat([state, action], 1)\n",
        "        x = self.net(x)\n",
        "        return x\n",
        "\n",
        "\n",
        "class PolicyNetwork(nn.Module):\n",
        "    def __init__(self, num_inputs, num_actions, hidden_size=512):\n",
        "        super().__init__()\n",
        "        self.net =  nn.Sequential(\n",
        "            nn.Linear(num_inputs, hidden_size),\n",
        "            nn.Tanh(),\n",
        "            nn.Linear(hidden_size, hidden_size),\n",
        "            nn.Tanh(),\n",
        "            nn.Linear(hidden_size, num_actions)\n",
        "        )\n",
        "\n",
        "    def forward(self, state):\n",
        "        return self.net(state)\n",
        "\n",
        "    def get_action(self, state):\n",
        "        state = torch.tensor(state, dtype=torch.float32).unsqueeze(0).to(DEVICE)\n",
        "        action = self.forward(state)\n",
        "        action = action.detach().cpu().numpy()[0]\n",
        "        action = np.clip(action, -1.0, 1.0)\n",
        "        return action"
      ]
    },
    {
      "cell_type": "markdown",
      "id": "L4FDbztdaHyk",
      "metadata": {
        "id": "L4FDbztdaHyk"
      },
      "source": [
        "### Буфер памяти"
      ]
    },
    {
      "cell_type": "code",
      "execution_count": null,
      "id": "HnoFW4VaaG5E",
      "metadata": {
        "id": "HnoFW4VaaG5E"
      },
      "outputs": [],
      "source": [
        "class ReplayBuffer:\n",
        "\n",
        "    def __init__(self, capacity):\n",
        "        self.capacity = capacity\n",
        "        self.buffer = []\n",
        "        self.position = 0\n",
        "\n",
        "    @property\n",
        "    def is_exp_enough(self):\n",
        "        if len(self.buffer) < 1000:\n",
        "            return False\n",
        "        return True\n",
        "\n",
        "\n",
        "    def push(self, state, action, reward, next_state, done):\n",
        "        if len(self.buffer) < self.capacity:\n",
        "            self.buffer.append(None)\n",
        "        self.buffer[self.position] = (state, action, reward, next_state, done)\n",
        "        self.position = int((self.position + 1) % self.capacity)\n",
        "\n",
        "\n",
        "    def sample(self, batch_size):\n",
        "        batch = random.sample(self.buffer, batch_size)\n",
        "        states, actions, rewards, next_states, dones = map(np.stack, zip(*batch))\n",
        "        return states, actions, rewards, next_states, dones\n",
        "\n",
        "\n",
        "    def __len__(self):\n",
        "        return len(self.buffer)"
      ]
    },
    {
      "cell_type": "markdown",
      "id": "9YtLerZiZuGc",
      "metadata": {
        "id": "9YtLerZiZuGc"
      },
      "source": [
        "### DDPG-агент"
      ]
    },
    {
      "cell_type": "code",
      "execution_count": null,
      "id": "9k4PRZvsZtA4",
      "metadata": {
        "id": "9k4PRZvsZtA4"
      },
      "outputs": [],
      "source": [
        "class DDPGAgent:\n",
        "\n",
        "    def __init__(self, env, buffer, params):\n",
        "        self._env = env\n",
        "        self._params = params\n",
        "\n",
        "        self._buffer = buffer\n",
        "        self._action_noiser = GaussNoise(params['training']['action_noise_sigma'])\n",
        "\n",
        "        state_dim = env.observation_space.shape[0]\n",
        "        action_dim = env.action_space.shape[0]\n",
        "\n",
        "        self._value_net = ValueNetwork(state_dim, action_dim).to(DEVICE)\n",
        "        self._target_value_net = ValueNetwork(state_dim, action_dim).to(DEVICE)\n",
        "        for target_params, behavior_params in zip(self._target_value_net.parameters(), self._value_net.parameters()):\n",
        "            target_params.data.copy_(behavior_params.data)\n",
        "        self._value_optimizer = optim.Adam(self._value_net.parameters(),\n",
        "                                           lr=params['training']['value_lr'],\n",
        "                                           weight_decay=1e-6)\n",
        "\n",
        "        self._policy_net = PolicyNetwork(state_dim, action_dim).to(DEVICE)\n",
        "        self._target_policy_net = PolicyNetwork(state_dim, action_dim).to(DEVICE)\n",
        "        for target_params, behavior_params in zip(self._target_policy_net.parameters(), self._policy_net.parameters()):\n",
        "            target_params.data.copy_(behavior_params.data)\n",
        "        self._policy_optimizer = optim.Adam(self._policy_net.parameters(),\n",
        "                                            lr=params['training']['policy_lr'],\n",
        "                                            weight_decay=1e-6)\n",
        "\n",
        "\n",
        "    def choose_action(self, state, mode='exploitation'):\n",
        "        if mode == 'exploration':\n",
        "            action = self._policy_net.get_action(state)\n",
        "            action = self._action_noiser.get_action(action)\n",
        "            return action\n",
        "\n",
        "        self._policy_net.eval()\n",
        "        with torch.no_grad():\n",
        "            return self._policy_net.get_action(state)\n",
        "\n",
        "\n",
        "    def save_new_transition(self, state, action, reward, next_state, done):\n",
        "        self._buffer.push(state, action, reward, next_state, done)\n",
        "\n",
        "\n",
        "    def learn(self):\n",
        "        if not self._buffer.is_exp_enough:\n",
        "            return\n",
        "\n",
        "        self._value_net.train()\n",
        "        self._policy_net.train()\n",
        "\n",
        "        states, actions, rewards, next_states, dones = self._buffer.sample(self._params['training']['batch_size'])\n",
        "        states = torch.tensor(states, dtype=torch.float32).to(DEVICE)\n",
        "        next_states = torch.tensor(next_states, dtype=torch.float32).to(DEVICE)\n",
        "        actions = torch.tensor(actions, dtype=torch.float32).to(DEVICE)\n",
        "        rewards = torch.tensor(rewards, dtype=torch.float32).unsqueeze(1).to(DEVICE)\n",
        "        dones = torch.tensor(np.float32(dones)).unsqueeze(1).to(DEVICE)\n",
        "\n",
        "        policy_loss = -self._value_net(states, self._policy_net(states)).mean()\n",
        "\n",
        "        values = self._value_net(states, actions)\n",
        "        next_actions = self._target_policy_net(next_states)\n",
        "        target_values = self._target_value_net(next_states, next_actions.detach())\n",
        "        expected_values = target_values * self._params['training']['gamma'] * (1 - dones) + rewards\n",
        "        expected_values = torch.clamp(expected_values,\n",
        "                                      self._params['training']['value_lower_bound'],\n",
        "                                      self._params['training']['value_upper_bound'])\n",
        "        value_loss = nn.MSELoss()(values, expected_values.detach())\n",
        "\n",
        "        self._policy_optimizer.zero_grad()\n",
        "        policy_loss.backward()\n",
        "        self._policy_optimizer.step()\n",
        "\n",
        "        self._value_optimizer.zero_grad()\n",
        "        value_loss.backward()\n",
        "        self._value_optimizer.step()\n",
        "\n",
        "        self._soft_update_target_models()\n",
        "\n",
        "\n",
        "    def save_agent_state(self, log_dir):\n",
        "        raise NotImplementedError(f'This method isn\\'t implemented in {self.__class__.__name__} class.')\n",
        "\n",
        "\n",
        "    def load_agent_state(self, log_dir):\n",
        "        raise NotImplementedError(f'This method isn\\'t implemented in {self.__class__.__name__} class.')\n",
        "\n",
        "\n",
        "    def _soft_update_target_models(self):\n",
        "        tau = self._params['training']['tau']\n",
        "\n",
        "        for target_params, behavior_params in zip(self._target_value_net.parameters(), self._value_net.parameters()):\n",
        "            target_params.data.copy_(tau * behavior_params.data + (1.0 - tau) * target_params.data)\n",
        "\n",
        "        for target_params, behavior_params in zip(self._target_policy_net.parameters(), self._policy_net.parameters()):\n",
        "            target_params.data.copy_(tau * behavior_params.data + (1.0 - tau) * target_params.data)"
      ]
    },
    {
      "cell_type": "markdown",
      "id": "Ov1zStvRcMy4",
      "metadata": {
        "id": "Ov1zStvRcMy4"
      },
      "source": [
        "### Методы для тренировки и валидации агента"
      ]
    },
    {
      "cell_type": "code",
      "execution_count": null,
      "id": "K_ypK0_9cNHL",
      "metadata": {
        "id": "K_ypK0_9cNHL"
      },
      "outputs": [],
      "source": [
        "def train_agent(env, agent, exp_params, exp_dirs, enable_eps_recording=True):\n",
        "    random.seed(exp_params['seed'])\n",
        "    np.random.seed(exp_params['seed'])\n",
        "    torch.manual_seed(exp_params['seed'])\n",
        "    torch.cuda.manual_seed(exp_params['seed'])\n",
        "\n",
        "    training_eps_count = exp_params['training']['episode_count']\n",
        "    validate_agent_every_n_eps = exp_params['validation']['validate_agent_every_n_eps']\n",
        "    validation_eps_count = exp_params['validation']['episode_count']\n",
        "\n",
        "    for eps_num in range(1, training_eps_count + 1):\n",
        "        state, info = env.reset()\n",
        "        eps_done = False\n",
        "\n",
        "        while not eps_done:\n",
        "              action = agent.choose_action(state, mode='exploration')\n",
        "              next_state, reward, terminated, truncated, info = env.step(action)\n",
        "              agent.save_new_transition(state, action, reward, next_state, terminated)\n",
        "              eps_done = terminated or truncated\n",
        "              state = next_state\n",
        "              agent.learn()\n",
        "\n",
        "        if eps_num % validate_agent_every_n_eps == 0:\n",
        "            eps_dir = os.path.join(exp_dirs['training'], f'eps-{eps_num}')\n",
        "            os.mkdir(eps_dir)\n",
        "\n",
        "            val_metrics = validate_agent(env, agent, exp_params, eps_dir, enable_eps_recording)\n",
        "            # agent.save_agent_state(eps_dir)\n",
        "\n",
        "            print(f\"EPISODE # {eps_num} / {training_eps_count}\")\n",
        "            print(f'Avg reward ({validation_eps_count} eps): {val_metrics[\"eps_reward_avg\"]} +/- {val_metrics[\"eps_reward_std\"]}')\n",
        "            print('-' * 50)\n",
        "\n",
        "            losses = list()\n",
        "\n",
        "\n",
        "def validate_agent(env, agent, exp_params, train_eps_dir, enable_eps_recording):\n",
        "    validation_eps_count = exp_params['validation']['episode_count']\n",
        "    eps_rewards = list()\n",
        "\n",
        "    for eps_num in range(1, validation_eps_count + 1):\n",
        "        eps_win, eps_reward, eps_step_count, eps_frames = run_episode(env, agent)\n",
        "        eps_rewards.append(eps_reward)\n",
        "        if enable_eps_recording:\n",
        "            record_episode(eps_frames, train_eps_dir, exp_params['algorithm_name'], exp_params['exp_id'], eps_num)\n",
        "\n",
        "    val_metrics = {\n",
        "        'eps_reward_avg': np.mean(eps_rewards).round(3),\n",
        "        'eps_reward_std': np.std(eps_rewards).round(3),\n",
        "    }\n",
        "\n",
        "    save_metrics(val_metrics, 'validation', train_eps_dir)\n",
        "    return val_metrics"
      ]
    },
    {
      "cell_type": "markdown",
      "id": "ZqtjpWaBbQlQ",
      "metadata": {
        "id": "ZqtjpWaBbQlQ"
      },
      "source": [
        "### Параметры эксперимента"
      ]
    },
    {
      "cell_type": "code",
      "execution_count": null,
      "id": "wcbcFiFUZs6w",
      "metadata": {
        "id": "wcbcFiFUZs6w"
      },
      "outputs": [],
      "source": [
        "exp_params = {\n",
        "    'algorithm_name': 'ddpg',\n",
        "    'exp_id': f'exp-{datetime.now(TZ).strftime(\"%d%m-%H%M%S\")}',\n",
        "    'seed': 21,\n",
        "    'training': {\n",
        "        'episode_count': 500,\n",
        "        'buffer_size': 1e5,\n",
        "        'batch_size': 256,\n",
        "        'value_lr': 1e-3,\n",
        "        'policy_lr': 1e-4,\n",
        "        'value_lower_bound': -np.inf,\n",
        "        'value_upper_bound': np.inf,\n",
        "        'gamma': 0.99,\n",
        "        'tau': 0.001,\n",
        "        'action_noise_sigma': 0.001\n",
        "    },\n",
        "    'validation': {\n",
        "        'episode_count': 5,\n",
        "        'validate_agent_every_n_eps': 50\n",
        "    },\n",
        "    'evaluation': {\n",
        "        'episode_count': 5\n",
        "    }\n",
        "}\n",
        "\n",
        "exp_dirs = create_exp_dirs(env_dir, exp_params)\n",
        "save_exp_params(exp_params, exp_dirs['exp'])"
      ]
    },
    {
      "cell_type": "markdown",
      "id": "38Ea4Pzyb85k",
      "metadata": {
        "id": "38Ea4Pzyb85k"
      },
      "source": [
        "### Обучение агента"
      ]
    },
    {
      "cell_type": "code",
      "execution_count": null,
      "id": "JCAk88iwb716",
      "metadata": {
        "id": "JCAk88iwb716"
      },
      "outputs": [],
      "source": [
        "env = NormalizedActions(create_env())\n",
        "\n",
        "buffer = ReplayBuffer(exp_params['training']['buffer_size'])\n",
        "ddpg_agent = DDPGAgent(env, buffer, exp_params)\n",
        "train_agent(env, ddpg_agent, exp_params, exp_dirs, enable_eps_recording=True)\n",
        "\n",
        "env.close()"
      ]
    },
    {
      "cell_type": "markdown",
      "id": "l1glH98bbVAd",
      "metadata": {
        "id": "l1glH98bbVAd"
      },
      "source": [
        "### Оценка агента"
      ]
    },
    {
      "cell_type": "code",
      "execution_count": null,
      "id": "yWlhDJitZs4M",
      "metadata": {
        "id": "yWlhDJitZs4M"
      },
      "outputs": [],
      "source": [
        "env = NormalizedActions(create_env())\n",
        "evaluate_agent(env, ddpg_agent, exp_params, exp_dirs)\n",
        "env.close()"
      ]
    },
    {
      "cell_type": "code",
      "execution_count": null,
      "id": "TeaKuppQZs1g",
      "metadata": {
        "id": "TeaKuppQZs1g"
      },
      "outputs": [],
      "source": [
        "show_episode_records(exp_dirs['evaluation'])"
      ]
    },
    {
      "cell_type": "markdown",
      "id": "TXsG23ZtHgco",
      "metadata": {
        "id": "TXsG23ZtHgco"
      },
      "source": [
        "## Тестирование SQIL-агент\n",
        "\n",
        "**SQIL - Soft Q imitation learning**\n",
        "\n",
        "Ссылка на статью: https://arxiv.org/pdf/1905.11108"
      ]
    },
    {
      "cell_type": "markdown",
      "id": "9XqFoSBdHs1Z",
      "metadata": {
        "id": "9XqFoSBdHs1Z"
      },
      "source": [
        "### Комбинированный буфер памяти"
      ]
    },
    {
      "cell_type": "code",
      "execution_count": null,
      "id": "AUMhW7Tb5epu",
      "metadata": {
        "id": "AUMhW7Tb5epu"
      },
      "outputs": [],
      "source": [
        "class CombinedReplayBuffer:\n",
        "\n",
        "    def __init__(self, capacity):\n",
        "        self.demo_buffer = ReplayBuffer(capacity)\n",
        "        self.agent_buffer = ReplayBuffer(capacity)\n",
        "\n",
        "    @property\n",
        "    def is_exp_enough(self):\n",
        "        if len(self.demo_buffer) < 1000 or len(self.agent_buffer) < 1000:\n",
        "            return False\n",
        "        return True\n",
        "\n",
        "\n",
        "    def push_demo(self, state, action, reward, next_state, done):\n",
        "        reward = 1\n",
        "        self.demo_buffer.push(state, action, reward, next_state, done)\n",
        "\n",
        "\n",
        "    def push(self, state, action, reward, next_state, done):\n",
        "        reward = 0\n",
        "        self.agent_buffer.push(state, action, reward, next_state, done)\n",
        "\n",
        "\n",
        "    def sample(self, batch_size):\n",
        "        demo_batch_size = min(batch_size // 2, len(self.demo_buffer))\n",
        "        states, actions, rewards, next_states, dones = self.agent_buffer.sample(batch_size - demo_batch_size)\n",
        "        demo_states, demo_actions, demo_rewards, demo_next_states, demo_dones = self.demo_buffer.sample(demo_batch_size)\n",
        "        return np.concatenate([states, demo_states]), \\\n",
        "               np.concatenate([actions, demo_actions]), \\\n",
        "               np.concatenate([rewards, demo_rewards]), \\\n",
        "               np.concatenate([next_states, demo_next_states]), \\\n",
        "               np.concatenate([dones, demo_dones])\n",
        "\n",
        "\n",
        "    def __len__(self):\n",
        "        return len(self.demo_buffer) + len(self.agent_buffer)"
      ]
    },
    {
      "cell_type": "markdown",
      "id": "rjAR0efcH18V",
      "metadata": {
        "id": "rjAR0efcH18V"
      },
      "source": [
        "### Метод для генерации опыта"
      ]
    },
    {
      "cell_type": "code",
      "execution_count": null,
      "id": "_pAj9nqx8tla",
      "metadata": {
        "id": "_pAj9nqx8tla"
      },
      "outputs": [],
      "source": [
        "def generate_demo_exp(env, agent, buffer, exp_params):\n",
        "    action_noiser = GaussNoise(sigma=0.1)\n",
        "    eps_num = 0\n",
        "\n",
        "    while len(buffer) < exp_params['training']['buffer_size']:\n",
        "        state, info = env.reset()\n",
        "        eps_done = False\n",
        "        while not eps_done:\n",
        "            action = agent.choose_action(state)\n",
        "            action = action_noiser.get_action(action)\n",
        "            next_state, reward, terminated, truncated, info = env.step(action)\n",
        "            buffer.push_demo(state, action, reward, next_state, terminated)\n",
        "            eps_done = terminated or truncated\n",
        "            state = next_state\n",
        "\n",
        "        eps_num += 1\n",
        "        if eps_num % 50 == 0:\n",
        "            print(f\"EPS NUM: {eps_num}\\tBUFFER SIZE: {len(buffer)}\")\n"
      ]
    },
    {
      "cell_type": "markdown",
      "id": "eEkqLpZ-IBAU",
      "metadata": {
        "id": "eEkqLpZ-IBAU"
      },
      "source": [
        "### Параметры эксперимента"
      ]
    },
    {
      "cell_type": "code",
      "execution_count": null,
      "id": "jzBOtnM5cAJj",
      "metadata": {
        "id": "jzBOtnM5cAJj"
      },
      "outputs": [],
      "source": [
        "exp_params = {\n",
        "    'algorithm_name': 'sqil',\n",
        "    'exp_id': f'exp-{datetime.now(TZ).strftime(\"%d%m-%H%M%S\")}',\n",
        "    'seed': 21,\n",
        "    'training': {\n",
        "        'episode_count': 100,\n",
        "        'buffer_size': 1e5,\n",
        "        'batch_size': 256,\n",
        "        'value_lr': 1e-3,\n",
        "        'policy_lr': 1e-4,\n",
        "        'value_lower_bound': -np.inf,\n",
        "        'value_upper_bound': np.inf,\n",
        "        'gamma': 0.99,\n",
        "        'tau': 0.001,\n",
        "        'action_noise_sigma': 0.001\n",
        "    },\n",
        "    'validation': {\n",
        "        'episode_count': 5,\n",
        "        'validate_agent_every_n_eps': 10\n",
        "    },\n",
        "    'evaluation': {\n",
        "        'episode_count': 5\n",
        "    }\n",
        "}\n",
        "\n",
        "exp_dirs = create_exp_dirs(env_dir, exp_params)\n",
        "save_exp_params(exp_params, exp_dirs['exp'])"
      ]
    },
    {
      "cell_type": "markdown",
      "id": "F1tcqOMjIGx7",
      "metadata": {
        "id": "F1tcqOMjIGx7"
      },
      "source": [
        "### Обучение агента"
      ]
    },
    {
      "cell_type": "code",
      "execution_count": null,
      "id": "bn1dIqD98de5",
      "metadata": {
        "id": "bn1dIqD98de5"
      },
      "outputs": [],
      "source": [
        "env = NormalizedActions(create_env())\n",
        "\n",
        "buffer = CombinedReplayBuffer(exp_params['training']['buffer_size'])\n",
        "heuristic_agent = HeuristicAgent(env, exp_params)\n",
        "generate_demo_exp(env, heuristic_agent, buffer, exp_params)"
      ]
    },
    {
      "cell_type": "code",
      "execution_count": null,
      "id": "Ly5yJI8_8dhU",
      "metadata": {
        "id": "Ly5yJI8_8dhU"
      },
      "outputs": [],
      "source": [
        "sqil_agent = DDPGAgent(env, buffer, exp_params)\n",
        "train_agent(env, sqil_agent, exp_params, exp_dirs, enable_eps_recording=True)"
      ]
    },
    {
      "cell_type": "code",
      "execution_count": null,
      "id": "q_crhmit8dkV",
      "metadata": {
        "id": "q_crhmit8dkV"
      },
      "outputs": [],
      "source": [
        "env.close()"
      ]
    },
    {
      "cell_type": "markdown",
      "id": "dek1TLtuISHk",
      "metadata": {
        "id": "dek1TLtuISHk"
      },
      "source": [
        "### Оценка агента"
      ]
    },
    {
      "cell_type": "code",
      "execution_count": null,
      "id": "sqvazCVuDU-_",
      "metadata": {
        "id": "sqvazCVuDU-_"
      },
      "outputs": [],
      "source": [
        "env = NormalizedActions(create_env())\n",
        "evaluate_agent(env, sqil_agent, exp_params, exp_dirs)\n",
        "env.close()"
      ]
    },
    {
      "cell_type": "code",
      "execution_count": null,
      "id": "tuC-dg1YDVBf",
      "metadata": {
        "id": "tuC-dg1YDVBf"
      },
      "outputs": [],
      "source": [
        "show_episode_records(exp_dirs['evaluation'])"
      ]
    },
    {
      "cell_type": "code",
      "execution_count": null,
      "id": "pjPnh1IlDVE5",
      "metadata": {
        "id": "pjPnh1IlDVE5"
      },
      "outputs": [],
      "source": []
    }
  ],
  "metadata": {
    "accelerator": "GPU",
    "colab": {
      "gpuType": "T4",
      "provenance": []
    },
    "kernelspec": {
      "display_name": "Python 3",
      "name": "python3"
    },
    "language_info": {
      "codemirror_mode": {
        "name": "ipython",
        "version": 3
      },
      "file_extension": ".py",
      "mimetype": "text/x-python",
      "name": "python",
      "nbconvert_exporter": "python",
      "pygments_lexer": "ipython3",
      "version": "3.11.8"
    }
  },
  "nbformat": 4,
  "nbformat_minor": 5
}
