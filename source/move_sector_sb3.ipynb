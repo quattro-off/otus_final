{
 "cells": [
  {
   "cell_type": "code",
   "execution_count": 1,
   "metadata": {},
   "outputs": [],
   "source": [
    "import torch\n",
    "import numpy as np\n",
    "from stable_baselines3 import DDPG, SAC, TD3, PPO\n",
    "from stable_baselines3.common.noise import NormalActionNoise\n",
    "\n",
    "import os, shutil, sys\n",
    "sys.path.append(os.path.abspath('./env'))\n",
    "sys.path.append(os.path.abspath('./common'))\n",
    "\n",
    "from env.env_move_sector import HumanMoveSectorAction\n",
    "import common.mlflow_sb3_helper as mlf"
   ]
  },
  {
   "cell_type": "code",
   "execution_count": 2,
   "metadata": {},
   "outputs": [],
   "source": [
    "mlflow_server = mlf.MLflowServerHelper(\"http://192.168.0.206:2670\")\n",
    "\n",
    "from pytz import timezone\n",
    "from datetime import datetime\n",
    "\n",
    "TZ = timezone('Europe/Moscow')\n",
    "models = {'PPO':PPO, 'DDPG':DDPG, 'SAC':SAC, 'TD3':TD3}\n",
    "activations = {'ReLU':torch.nn.ReLU, 'Tanh':torch.nn.Tanh}\n",
    "device = \"cuda\" if torch.cuda.is_available() else \"cpu\"\n",
    "\n",
    "mlflow_path = {}"
   ]
  },
  {
   "cell_type": "code",
   "execution_count": 3,
   "metadata": {},
   "outputs": [],
   "source": [
    "env = HumanMoveSectorAction(target_point_rand=False, object_ignore=True)\n",
    "env_disc = HumanMoveSectorAction(continuous=False, target_point_rand=False, object_ignore=True)\n",
    "\n",
    "env_render = HumanMoveSectorAction(target_point_rand=False, object_ignore=True, render_mode='rgb_array')\n",
    "env_disc_render = HumanMoveSectorAction(continuous=False, target_point_rand=False, object_ignore=True, render_mode='rgb_array')\n"
   ]
  },
  {
   "cell_type": "code",
   "execution_count": 4,
   "metadata": {},
   "outputs": [],
   "source": [
    "exp_params = {\n",
    "    'env_name': '',\n",
    "    'algorithm_name': '',\n",
    "    'exp_id': 0,\n",
    "    'exp_name': f'exp_{datetime.now(TZ).strftime(\"%d%m_%H%M%S\")}',\n",
    "    'seed': 21,\n",
    "    'net': {\n",
    "        'activation': 'ReLU',\n",
    "        'pi': [256, 256],\n",
    "        'qf': [256, 256],\n",
    "        'vf': [256, 256],\n",
    "    },\n",
    "    'training': {\n",
    "        'iteration_count': 1,\n",
    "        'episode_count': 79000,\n",
    "        'policy': 'MlpPolicy',\n",
    "        'learning_rate': 0.003,\n",
    "        'buffer_size': 1500000,\n",
    "        'learning_starts': 100,\n",
    "        'batch_size': 512,\n",
    "        'tau': 0.005,\n",
    "        'gamma': 0.99,\n",
    "        'verbose': 0,\n",
    "        'device': device,\n",
    "        'DQN':{\n",
    "            'fraction_eps' : 0.6,\n",
    "            'start_eps' : 1.0,\n",
    "            'final_eps' : 0.3,\n",
    "        },\n",
    "    },\n",
    "    'validation': {\n",
    "        'validate_agent_every_n_eps': 20000,\n",
    "        'log_interval': 10\n",
    "    },\n",
    "    'evaluation': {\n",
    "        'episode_count': 1\n",
    "    }\n",
    "}\n",
    "\n",
    "policy_kwargs = dict(activation_fn = activations[exp_params['net']['activation']],\n",
    "                     net_arch = dict(pi=exp_params['net']['pi'], qf=exp_params['net']['qf'], vf=exp_params['net']['vf']))\n",
    "\n"
   ]
  },
  {
   "cell_type": "code",
   "execution_count": null,
   "metadata": {},
   "outputs": [],
   "source": [
    "#!!!!! Новый эксперимент\n",
    "exp_params['env_name'] = env.name()\n",
    "exp_name = 'env_' + exp_params['env_name'] + '_' + exp_params['exp_name']\n",
    "experiment_id = mlflow_server.new_experiment(exp_name)\n",
    "\n",
    "models_exclude = None"
   ]
  },
  {
   "cell_type": "code",
   "execution_count": null,
   "metadata": {},
   "outputs": [],
   "source": [
    "#!!!!! Дорасчет старого эксперимента\n",
    "exp_params['env_name'] = env.name()\n",
    "experiment_id = 161\n",
    "exp_name = mlflow_server.get_experiment(experiment_id)\n",
    "models_exclude = {'PPO':True, 'DQN': True, 'DDPG': True, 'SAC': True, 'TD3': False}\n",
    "\n",
    "print(exp_name)"
   ]
  },
  {
   "cell_type": "code",
   "execution_count": null,
   "metadata": {},
   "outputs": [],
   "source": [
    "exp_params['exp_id'] = experiment_id\n",
    "\n",
    "\n",
    "i = 0\n",
    "for name, m in models.items():\n",
    "    if models_exclude != None and models_exclude[name] == True:\n",
    "        continue\n",
    "    print(name)\n",
    "    exp_params['algorithm_name'] = name\n",
    "    exp_params['seed'] = int(datetime.now(TZ).strftime(\"%H%M%S\"))\n",
    "\n",
    "    model = 0\n",
    "    if name == 'TD3':\n",
    "        n_actions = env.action_space.shape[-1]\n",
    "        action_noise = NormalActionNoise(mean=np.zeros(n_actions), sigma=0.1 * np.ones(n_actions))\n",
    "        model = m(  exp_params['training']['policy'], \n",
    "                    env,\n",
    "                    #policy_kwargs=policy_kwargs,\n",
    "                    learning_rate=exp_params['training']['learning_rate'],\n",
    "                    buffer_size=exp_params['training']['buffer_size'],\n",
    "                    learning_starts=exp_params['training']['learning_starts'],\n",
    "                    batch_size=exp_params['training']['batch_size'],\n",
    "                    tau=exp_params['training']['tau'],\n",
    "                    gamma=exp_params['training']['gamma'],\n",
    "                    verbose=exp_params['training']['verbose'],\n",
    "                    action_noise=action_noise,\n",
    "                    device=device,\n",
    "                    )\n",
    "    elif name == 'DQN':\n",
    "        model = m(  exp_params['training']['policy'], \n",
    "                    env_disc,\n",
    "                    #policy_kwargs=policy_kwargs,\n",
    "                    learning_rate=exp_params['training']['learning_rate'],\n",
    "                    buffer_size=exp_params['training']['buffer_size'],\n",
    "                    learning_starts=exp_params['training']['learning_starts'],\n",
    "                    batch_size=exp_params['training']['batch_size'],\n",
    "                    tau=exp_params['training']['tau'],\n",
    "                    gamma=exp_params['training']['gamma'],\n",
    "                    verbose=exp_params['training']['verbose'],\n",
    "                    exploration_fraction=exp_params['training']['DQN']['fraction_eps'],\n",
    "                    exploration_initial_eps= exp_params['training']['DQN']['start_eps'],\n",
    "                    exploration_final_eps= exp_params['training']['DQN']['final_eps'],\n",
    "                    device=device,\n",
    "                    )\n",
    "    elif name == 'PPO':\n",
    "        model = models['PPO'](  exp_params['training']['policy'], \n",
    "                    env,\n",
    "                    #policy_kwargs=policy_kwargs,\n",
    "                    learning_rate=exp_params['training']['learning_rate'],\n",
    "                    batch_size=exp_params['training']['batch_size'],\n",
    "                    gamma=exp_params['training']['gamma'],\n",
    "                    verbose=exp_params['training']['verbose'],\n",
    "                    device=device,\n",
    "                    )\n",
    "    else:\n",
    "        model = m(  exp_params['training']['policy'], \n",
    "                    env,\n",
    "                    #policy_kwargs=policy_kwargs,\n",
    "                    learning_rate=exp_params['training']['learning_rate'],\n",
    "                    buffer_size=exp_params['training']['buffer_size'],\n",
    "                    learning_starts=exp_params['training']['learning_starts'],\n",
    "                    batch_size=exp_params['training']['batch_size'],\n",
    "                    tau=exp_params['training']['tau'],\n",
    "                    gamma=exp_params['training']['gamma'],\n",
    "                    verbose=exp_params['training']['verbose'],\n",
    "                    device=device,\n",
    "                    )\n",
    "\n",
    "    art_loc, exp_name, run_id = mlflow_server.learn_and_fix(\n",
    "                                model=model, \n",
    "                                env= env_disc_render if name == 'DQN' else env_render,\n",
    "                                run_name=name,\n",
    "                                episode_count = exp_params['training']['episode_count'],\n",
    "                                parameters=exp_params,\n",
    "                                experiment_id=experiment_id,\n",
    "                                checkpoint_interval=exp_params['validation']['validate_agent_every_n_eps'],\n",
    "                                log_interval=exp_params['validation']['log_interval'])\n",
    "\n",
    "    mlflow_path[name] = f'{art_loc}/{run_id}/artifacts/{exp_name}/sb3/model.zip'\n",
    "\n",
    "    i = i + 1\n"
   ]
  },
  {
   "cell_type": "code",
   "execution_count": null,
   "metadata": {},
   "outputs": [],
   "source": [
    "mlflow_path"
   ]
  },
  {
   "cell_type": "code",
   "execution_count": 9,
   "metadata": {},
   "outputs": [],
   "source": [
    "experiment_id = 187"
   ]
  },
  {
   "cell_type": "code",
   "execution_count": 10,
   "metadata": {},
   "outputs": [],
   "source": [
    "mlflow_path = {  'PPO': 'mlflow-artifacts:/187/185a657f2cfd4f48b07426cbdddb8ed4/artifacts/env_MoveSector_IgnoreObst_exp_1409_181804/sb3/model.zip',\n",
    " 'DQN': 'mlflow-artifacts:/187/66cdac18e0cc4ba2916614fc952586e7/artifacts/env_MoveSector_IgnoreObst_exp_1409_181804/sb3/model.zip',\n",
    " 'DDPG': 'mlflow-artifacts:/187/3b3cbabb5350427683f9e55edd08afda/artifacts/env_MoveSector_IgnoreObst_exp_1409_181804/sb3/model.zip',\n",
    " 'SAC': 'mlflow-artifacts:/187/b468c2e2c1a347f2abf60b1a6d1e2054/artifacts/env_MoveSector_IgnoreObst_exp_1409_181804/sb3/model.zip',\n",
    " 'TD3': 'mlflow-artifacts:/187/70cf3848fff348ad952bc63e3c29f756/artifacts/env_MoveSector_IgnoreObst_exp_1409_181804/sb3/model.zip'}"
   ]
  },
  {
   "cell_type": "code",
   "execution_count": null,
   "metadata": {},
   "outputs": [],
   "source": [
    "\n",
    "load_path = os.path.join(str(experiment_id))\n",
    "os.mkdir(load_path)\n",
    "load_path"
   ]
  },
  {
   "cell_type": "code",
   "execution_count": null,
   "metadata": {},
   "outputs": [],
   "source": [
    "\n",
    "loadel_models = {}\n",
    "\n",
    "for model_name, path in mlflow_path.items():\n",
    "    loadel_models[model_name] =  f'{load_path}/{model_name}/'\n",
    "    mlflow_server.load_artifact(path,loadel_models[model_name])"
   ]
  },
  {
   "cell_type": "code",
   "execution_count": null,
   "metadata": {},
   "outputs": [],
   "source": [
    "env = HumanMoveSectorAction(target_point_rand=False, object_ignore=True)\n",
    "env_disc = HumanMoveSectorAction(continuous=False, target_point_rand=False, object_ignore=True)\n",
    "\n",
    "env_render = HumanMoveSectorAction(target_point_rand=False, object_ignore=True, render_mode='rgb_array')\n",
    "env_disc_render = HumanMoveSectorAction(continuous=False, target_point_rand=False, object_ignore=True, render_mode='rgb_array')\n",
    " \n",
    "env.name()"
   ]
  },
  {
   "cell_type": "code",
   "execution_count": null,
   "metadata": {},
   "outputs": [],
   "source": [
    "\n",
    "exp_params['env_name'] = env.name()\n",
    "exp_name = 'env_' + exp_params['env_name'] + '_' + exp_params['exp_name']\n",
    "experiment_id = mlflow_server.new_experiment(exp_name)\n",
    "exp_params['exp_id'] = experiment_id\n",
    "print(exp_name)\n",
    "models_exclude = {'PPO':False, 'DQN': False, 'DDPG': False, 'SAC': False, 'TD3': False}"
   ]
  },
  {
   "cell_type": "code",
   "execution_count": null,
   "metadata": {},
   "outputs": [],
   "source": [
    "for name, model_path in loadel_models.items():\n",
    "\n",
    "    if models_exclude != None and models_exclude[name] == True:\n",
    "        continue\n",
    "    print(name)\n",
    "\n",
    "    exp_params['algorithm_name'] = name\n",
    "    exp_params['seed'] = int(datetime.now(TZ).strftime(\"%H%M%S\"))\n",
    "\n",
    "    set_env = env_disc if name == 'DQN' or name == 'PPO' else env\n",
    "    model = models[name].load(model_path + 'model.zip', env=set_env, device=device)\n",
    "    art_loc, exp_name, run_id = mlflow_server.learn_and_fix(\n",
    "                                model=model, \n",
    "                                env= env_disc_render if name == 'DQN' or name == 'PPO' else env_render,\n",
    "                                run_name=name,\n",
    "                                episode_count = exp_params['training']['episode_count'],\n",
    "                                parameters=exp_params,\n",
    "                                experiment_id=experiment_id,\n",
    "                                checkpoint_interval=exp_params['validation']['validate_agent_every_n_eps'],\n",
    "                                log_interval=exp_params['validation']['log_interval'])"
   ]
  },
  {
   "cell_type": "code",
   "execution_count": 11,
   "metadata": {},
   "outputs": [],
   "source": [
    "shutil.rmtree(os.path.join(load_path))"
   ]
  }
 ],
 "metadata": {
  "kernelspec": {
   "display_name": "rl_conda_311",
   "language": "python",
   "name": "python3"
  },
  "language_info": {
   "codemirror_mode": {
    "name": "ipython",
    "version": 3
   },
   "file_extension": ".py",
   "mimetype": "text/x-python",
   "name": "python",
   "nbconvert_exporter": "python",
   "pygments_lexer": "ipython3",
   "version": "3.11.8"
  }
 },
 "nbformat": 4,
 "nbformat_minor": 2
}
